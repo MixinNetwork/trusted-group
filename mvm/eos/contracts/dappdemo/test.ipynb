{
 "cells": [
  {
   "cell_type": "code",
   "execution_count": 6,
   "id": "7ee1089c",
   "metadata": {},
   "outputs": [],
   "source": [
    "from pyeoskit import eosapi\n",
    "eosapi.set_node('http://127.0.0.1:9000')"
   ]
  },
  {
   "cell_type": "code",
   "execution_count": 7,
   "id": "aa66fe7f",
   "metadata": {},
   "outputs": [
    {
     "data": {
      "text/plain": [
       "{'free_bytes': 1067718112,\n",
       " 'used_bytes': 6022688,\n",
       " 'size': 1073740800,\n",
       " 'indices': [{'index': 'eosio::chain::account_ram_correction_object',\n",
       "   'row_count': 0},\n",
       "  {'index': 'eosio::chain::generated_transaction_object', 'row_count': 0},\n",
       "  {'index': 'eosio::chain::kv_object', 'row_count': 0},\n",
       "  {'index': 'eosio::chain::permission_link_object', 'row_count': 0},\n",
       "  {'index': 'eosio::chain::secondary_index<float128_t, 12ull, eosio::chain::soft_long_double_less>::index_object',\n",
       "   'row_count': 0},\n",
       "  {'index': 'eosio::chain::secondary_index<float64_t, 11ull, eosio::chain::soft_double_less>::index_object',\n",
       "   'row_count': 0},\n",
       "  {'index': 'eosio::chain::secondary_index<std::__1::array<unsigned __int128, 2ul>, 10ull, std::__1::less<std::__1::array<unsigned __int128, 2ul> > >::index_object',\n",
       "   'row_count': 0},\n",
       "  {'index': 'eosio::chain::secondary_index<unsigned __int128, 9ull, std::__1::less<unsigned __int128> >::index_object',\n",
       "   'row_count': 0},\n",
       "  {'index': 'eosio::chain::secondary_index<unsigned long long, 8ull, std::__1::less<unsigned long long> >::index_object',\n",
       "   'row_count': 0},\n",
       "  {'index': 'eosio::chain::transaction_object', 'row_count': 0},\n",
       "  {'index': 'eosio::account_control_history_object', 'row_count': 1},\n",
       "  {'index': 'eosio::chain::database_header_object', 'row_count': 1},\n",
       "  {'index': 'eosio::chain::dynamic_global_property_object', 'row_count': 1},\n",
       "  {'index': 'eosio::chain::global_property_object', 'row_count': 1},\n",
       "  {'index': 'eosio::chain::kv_db_config_object', 'row_count': 1},\n",
       "  {'index': 'eosio::chain::protocol_state_object', 'row_count': 1},\n",
       "  {'index': 'eosio::chain::resource_limits::resource_limits_config_object',\n",
       "   'row_count': 1},\n",
       "  {'index': 'eosio::chain::resource_limits::resource_limits_state_object',\n",
       "   'row_count': 1},\n",
       "  {'index': 'eosio::chain::code_object', 'row_count': 4},\n",
       "  {'index': 'eosio::action_history_object', 'row_count': 26},\n",
       "  {'index': 'eosio::chain::account_metadata_object', 'row_count': 28},\n",
       "  {'index': 'eosio::chain::account_object', 'row_count': 28},\n",
       "  {'index': 'eosio::chain::resource_limits::resource_limits_object',\n",
       "   'row_count': 28},\n",
       "  {'index': 'eosio::chain::resource_limits::resource_usage_object',\n",
       "   'row_count': 28},\n",
       "  {'index': 'eosio::chain::table_id_object', 'row_count': 38},\n",
       "  {'index': 'eosio::public_key_history_object', 'row_count': 50},\n",
       "  {'index': 'eosio::account_history_object', 'row_count': 52},\n",
       "  {'index': 'eosio::chain::permission_usage_object', 'row_count': 58},\n",
       "  {'index': 'eosio::chain::permission_object', 'row_count': 59},\n",
       "  {'index': 'eosio::chain::key_value_object', 'row_count': 78},\n",
       "  {'index': 'eosio::chain::block_summary_object', 'row_count': 65536}]}"
      ]
     },
     "execution_count": 7,
     "metadata": {},
     "output_type": "execute_result"
    }
   ],
   "source": [
    "eosapi.get_db_size()"
   ]
  },
  {
   "cell_type": "code",
   "execution_count": 3,
   "id": "54a45f62",
   "metadata": {},
   "outputs": [
    {
     "data": {
      "text/plain": [
       "10008999.0"
      ]
     },
     "execution_count": 3,
     "metadata": {},
     "output_type": "execute_result"
    }
   ],
   "source": [
    "eosapi.get_balance('helloworld11')"
   ]
  },
  {
   "cell_type": "code",
   "execution_count": 1,
   "id": "02c1dc66",
   "metadata": {},
   "outputs": [],
   "source": [
    "import uuid"
   ]
  },
  {
   "cell_type": "code",
   "execution_count": 11,
   "id": "12bf2d2a",
   "metadata": {},
   "outputs": [
    {
     "name": "stdout",
     "output_type": "stream",
     "text": [
      "0x49,0xb0,0x08,0x92,0x69,0x54,0x48,0x26,0xaa,0xec,0x37,0x1c,0xa1,0x65,0x55,0x8a,"
     ]
    }
   ],
   "source": [
    "id = uuid.UUID('49b00892-6954-4826-aaec-371ca165558a')\n",
    "for b in id.bytes:\n",
    "    print('0x%02x'%(b,), end=',')"
   ]
  },
  {
   "cell_type": "code",
   "execution_count": 13,
   "id": "92f8e7cd",
   "metadata": {},
   "outputs": [
    {
     "data": {
      "text/plain": [
       "'49b0089269544826aaec371ca165558a'"
      ]
     },
     "execution_count": 13,
     "metadata": {},
     "output_type": "execute_result"
    }
   ],
   "source": [
    "id.bytes.hex()"
   ]
  },
  {
   "cell_type": "code",
   "execution_count": 42,
   "id": "708c7b70",
   "metadata": {},
   "outputs": [
    {
     "data": {
      "text/plain": [
       "'http://127.0.0.1:9000'"
      ]
     },
     "execution_count": 42,
     "metadata": {},
     "output_type": "execute_result"
    }
   ],
   "source": [
    "eosapi.node_url"
   ]
  },
  {
   "cell_type": "code",
   "execution_count": null,
   "id": "2f5f0a9f",
   "metadata": {},
   "outputs": [],
   "source": []
  },
  {
   "cell_type": "code",
   "execution_count": 18,
   "id": "89facd94",
   "metadata": {},
   "outputs": [],
   "source": [
    "eosapi.set_node('http://127.0.0.1:9000')"
   ]
  },
  {
   "cell_type": "code",
   "execution_count": 63,
   "id": "406ada87",
   "metadata": {},
   "outputs": [],
   "source": [
    "from pyeoskit import wallet\n",
    "wallet.import_key('test', '5Jbh1Dn57DKPUHQ6F6eExX55S2nSFNxZhpZUxNYFjJ1arKGK9Q3')\n",
    "wallet.import_key('test', '5JHRxntHapUryUetZgWdd3cg6BrpZLMJdqhhXnMaZiiT4qdJPhv')\n",
    "wallet.import_key('test', '5Jbb4wuwz8MAzTB9FJNmrVYGXo4ABb7wqPVoWGcZ6x8V2FwNeDo') #helloworld11\n"
   ]
  },
  {
   "cell_type": "code",
   "execution_count": 73,
   "id": "31c21cf8",
   "metadata": {},
   "outputs": [
    {
     "data": {
      "text/plain": [
       "'EOS6AjF6hvF7GSuSd4sCgfPKq5uWaXvGM2aQtEUCwmEHygQaqxBSV'"
      ]
     },
     "execution_count": 73,
     "metadata": {},
     "output_type": "execute_result"
    }
   ],
   "source": [
    "eosapi.get_public_key('5JRYimgLBrRLCBAcjHUWCYRv3asNedTYYzVgmiU4q2ZVxMBiJXL')"
   ]
  },
  {
   "cell_type": "code",
   "execution_count": 70,
   "id": "b79c4132",
   "metadata": {},
   "outputs": [
    {
     "data": {
      "text/plain": [
       "'EOS7sPDxfw5yx5SZgQcVb57zS1XeSWLNpQKhaGjjy2qe61BrAQ49o'"
      ]
     },
     "execution_count": 70,
     "metadata": {},
     "output_type": "execute_result"
    }
   ],
   "source": [
    "eosapi.get_public_key('5Jbb4wuwz8MAzTB9FJNmrVYGXo4ABb7wqPVoWGcZ6x8V2FwNeDo')"
   ]
  },
  {
   "cell_type": "code",
   "execution_count": 65,
   "id": "3b9d9eeb",
   "metadata": {
    "scrolled": true
   },
   "outputs": [
    {
     "data": {
      "text/plain": [
       "{'transaction_id': '76a4e8de30b0bc0890fffd01c7a9fb3ccabb2ceb3c3da0f139559e6c71735200',\n",
       " 'processed': {'id': '76a4e8de30b0bc0890fffd01c7a9fb3ccabb2ceb3c3da0f139559e6c71735200',\n",
       "  'block_num': 1866,\n",
       "  'block_time': '2021-11-25T04:06:37.000',\n",
       "  'producer_block_id': None,\n",
       "  'receipt': {'status': 'executed',\n",
       "   'cpu_usage_us': 159,\n",
       "   'net_usage_words': 13},\n",
       "  'elapsed': 159,\n",
       "  'net_usage': 104,\n",
       "  'scheduled': False,\n",
       "  'action_traces': [{'action_ordinal': 1,\n",
       "    'creator_action_ordinal': 0,\n",
       "    'closest_unnotified_ancestor_action_ordinal': 0,\n",
       "    'receipt': {'receiver': 'mtgxinmtgxin',\n",
       "     'act_digest': '4132fba58664af9a898bf2715646c8fe3089634701d49d1d9a7e29a750156162',\n",
       "     'global_sequence': 2127,\n",
       "     'recv_sequence': 2,\n",
       "     'auth_sequence': [['helloworld11', 20]],\n",
       "     'code_sequence': 0,\n",
       "     'abi_sequence': 0},\n",
       "    'receiver': 'mtgxinmtgxin',\n",
       "    'act': {'account': 'mtgxinmtgxin',\n",
       "     'name': 'txrequest',\n",
       "     'authorization': [{'actor': 'helloworld11', 'permission': 'active'}],\n",
       "     'data': '68656c6c6f2c776f726c64'},\n",
       "    'context_free': False,\n",
       "    'elapsed': 20,\n",
       "    'console': '',\n",
       "    'trx_id': '76a4e8de30b0bc0890fffd01c7a9fb3ccabb2ceb3c3da0f139559e6c71735200',\n",
       "    'block_num': 1866,\n",
       "    'block_time': '2021-11-25T04:06:37.000',\n",
       "    'producer_block_id': None,\n",
       "    'account_ram_deltas': [],\n",
       "    'account_disk_deltas': [],\n",
       "    'except': None,\n",
       "    'error_code': None,\n",
       "    'return_value_hex_data': '',\n",
       "    'inline_traces': []}],\n",
       "  'account_ram_delta': None,\n",
       "  'except': None,\n",
       "  'error_code': None}}"
      ]
     },
     "execution_count": 65,
     "metadata": {},
     "output_type": "execute_result"
    }
   ],
   "source": [
    "eosapi.push_action('mtgxinmtgxin', 'txrequest', b'hello,world', {\"helloworld11\":\"active\"})"
   ]
  },
  {
   "cell_type": "code",
   "execution_count": 92,
   "id": "f7c6c9c8",
   "metadata": {
    "scrolled": true
   },
   "outputs": [
    {
     "data": {
      "text/plain": [
       "{'actions': [{'global_action_seq': 68365,\n",
       "   'account_action_seq': 2,\n",
       "   'block_num': 68077,\n",
       "   'block_time': '2021-11-25T13:18:22.500',\n",
       "   'action_trace': {'action_ordinal': 2,\n",
       "    'creator_action_ordinal': 1,\n",
       "    'closest_unnotified_ancestor_action_ordinal': 1,\n",
       "    'receipt': {'receiver': 'mtgxinmtgxin',\n",
       "     'act_digest': '638d0cf207bb6fd1a908f9d8150e0c0f89cda209d48bdff8e3a0f870cffa9e6b',\n",
       "     'global_sequence': 68365,\n",
       "     'recv_sequence': 3,\n",
       "     'auth_sequence': [['helloworld11', 46]],\n",
       "     'code_sequence': 0,\n",
       "     'abi_sequence': 0},\n",
       "    'receiver': 'mtgxinmtgxin',\n",
       "    'act': {'account': 'mtgxinmtgxin',\n",
       "     'name': 'txrequest',\n",
       "     'authorization': [{'actor': 'helloworld11', 'permission': 'active'}],\n",
       "     'data': '730600000000000000060000000000000049b0089269544826aaec371ca165558a965e5c6e434c3fa9b780c50f43cd955c012466333262623661622d316134642d343462622d383932662d663031323932333964663839010000009539480000000000000000000000000000c809e9d10cccba16'},\n",
       "    'context_free': False,\n",
       "    'elapsed': 6,\n",
       "    'console': '',\n",
       "    'trx_id': 'a26ca8eaa443f612c75294baedce8da47e8d7e36ca5bc7388cfaebfdb2d3dc97',\n",
       "    'block_num': 68077,\n",
       "    'block_time': '2021-11-25T13:18:22.500',\n",
       "    'producer_block_id': None,\n",
       "    'account_ram_deltas': [],\n",
       "    'account_disk_deltas': [],\n",
       "    'except': None,\n",
       "    'error_code': None,\n",
       "    'return_value_hex_data': ''}},\n",
       "  {'global_action_seq': 68366,\n",
       "   'account_action_seq': 3,\n",
       "   'block_num': 68077,\n",
       "   'block_time': '2021-11-25T13:18:22.500',\n",
       "   'action_trace': {'action_ordinal': 3,\n",
       "    'creator_action_ordinal': 1,\n",
       "    'closest_unnotified_ancestor_action_ordinal': 1,\n",
       "    'receipt': {'receiver': 'mtgxinmtgxin',\n",
       "     'act_digest': '7b1241ba41a8dc30179cdb6594a6063e9a4c8ac201a94c1f91b5774a36a9d779',\n",
       "     'global_sequence': 68366,\n",
       "     'recv_sequence': 4,\n",
       "     'auth_sequence': [['helloworld11', 47]],\n",
       "     'code_sequence': 0,\n",
       "     'abi_sequence': 0},\n",
       "    'receiver': 'mtgxinmtgxin',\n",
       "    'act': {'account': 'mtgxinmtgxin',\n",
       "     'name': 'txrequest',\n",
       "     'authorization': [{'actor': 'helloworld11', 'permission': 'active'}],\n",
       "     'data': '730700000000000000070000000000000049b0089269544826aaec371ca165558a965e5c6e434c3fa9b780c50f43cd955c012466333262623661622d316134642d343462622d383932662d663031323932333964663839010000009539480000000000000000000000000000c809e9d10cccba16'},\n",
       "    'context_free': False,\n",
       "    'elapsed': 4,\n",
       "    'console': '',\n",
       "    'trx_id': 'a26ca8eaa443f612c75294baedce8da47e8d7e36ca5bc7388cfaebfdb2d3dc97',\n",
       "    'block_num': 68077,\n",
       "    'block_time': '2021-11-25T13:18:22.500',\n",
       "    'producer_block_id': None,\n",
       "    'account_ram_deltas': [],\n",
       "    'account_disk_deltas': [],\n",
       "    'except': None,\n",
       "    'error_code': None,\n",
       "    'return_value_hex_data': ''}},\n",
       "  {'global_action_seq': 68367,\n",
       "   'account_action_seq': 4,\n",
       "   'block_num': 68077,\n",
       "   'block_time': '2021-11-25T13:18:22.500',\n",
       "   'action_trace': {'action_ordinal': 4,\n",
       "    'creator_action_ordinal': 1,\n",
       "    'closest_unnotified_ancestor_action_ordinal': 1,\n",
       "    'receipt': {'receiver': 'mtgxinmtgxin',\n",
       "     'act_digest': '60fa40ec5c44ae6872e5632193be643b15beb0217140b79ef3276f1e0b8b594a',\n",
       "     'global_sequence': 68367,\n",
       "     'recv_sequence': 5,\n",
       "     'auth_sequence': [['helloworld11', 48]],\n",
       "     'code_sequence': 0,\n",
       "     'abi_sequence': 0},\n",
       "    'receiver': 'mtgxinmtgxin',\n",
       "    'act': {'account': 'mtgxinmtgxin',\n",
       "     'name': 'txrequest',\n",
       "     'authorization': [{'actor': 'helloworld11', 'permission': 'active'}],\n",
       "     'data': '730800000000000000080000000000000049b0089269544826aaec371ca165558a965e5c6e434c3fa9b780c50f43cd955c012466333262623661622d316134642d343462622d383932662d663031323932333964663839010000009539480000000000000000000000000000c809e9d10cccba16'},\n",
       "    'context_free': False,\n",
       "    'elapsed': 5,\n",
       "    'console': '',\n",
       "    'trx_id': 'a26ca8eaa443f612c75294baedce8da47e8d7e36ca5bc7388cfaebfdb2d3dc97',\n",
       "    'block_num': 68077,\n",
       "    'block_time': '2021-11-25T13:18:22.500',\n",
       "    'producer_block_id': None,\n",
       "    'account_ram_deltas': [],\n",
       "    'account_disk_deltas': [],\n",
       "    'except': None,\n",
       "    'error_code': None,\n",
       "    'return_value_hex_data': ''}}],\n",
       " 'last_irreversible_block': 69735}"
      ]
     },
     "execution_count": 92,
     "metadata": {},
     "output_type": "execute_result"
    }
   ],
   "source": [
    "eosapi.get_actions('mtgxinmtgxin', 2, 100)"
   ]
  },
  {
   "cell_type": "code",
   "execution_count": 93,
   "id": "8b278b26",
   "metadata": {},
   "outputs": [
    {
     "data": {
      "text/plain": [
       "b's\\x0e\\x00\\x00\\x00\\x00\\x00\\x00\\x00\\x0e\\x00\\x00\\x00\\x00\\x00\\x00\\x00I\\xb0\\x08\\x92iTH&\\xaa\\xec7\\x1c\\xa1eU\\x8a\\x96^\\\\nCL?\\xa9\\xb7\\x80\\xc5\\x0fC\\xcd\\x95\\\\\\x01$f32bb6ab-1a4d-44bb-892f-f0129239df89\\x01\\x00\\x00\\x00\\xca\\xbbH\\x00\\x00\\x00\\x00\\x00\\x00\\x00\\x00\\x00\\x00\\x00\\x00\\x00\\x00 \\xb4\\xb4\\x9b;\\xce\\xba\\x16'"
      ]
     },
     "execution_count": 93,
     "metadata": {},
     "output_type": "execute_result"
    }
   ],
   "source": [
    "bytes.fromhex('730e000000000000000e0000000000000049b0089269544826aaec371ca165558a965e5c6e434c3fa9b780c50f43cd955c012466333262623661622d316134642d343462622d383932662d66303132393233396466383901000000cabb48000000000000000000000000000020b4b49b3bceba16')"
   ]
  },
  {
   "cell_type": "code",
   "execution_count": 100,
   "id": "92d7e039",
   "metadata": {},
   "outputs": [
    {
     "data": {
      "text/plain": [
       "{'rows': [{'Id': 1, 'Count': 1}, {'Id': 2, 'Count': 17}],\n",
       " 'more': False,\n",
       " 'next_key': '',\n",
       " 'next_key_bytes': ''}"
      ]
     },
     "execution_count": 100,
     "metadata": {},
     "output_type": "execute_result"
    }
   ],
   "source": [
    "eosapi.get_table_rows(True, 'helloworld11', 'helloworld11', \"counters\", \"\", \"\", 10)"
   ]
  },
  {
   "cell_type": "code",
   "execution_count": 11,
   "id": "50a1ad39",
   "metadata": {},
   "outputs": [
    {
     "data": {
      "text/plain": [
       "{'actions': [], 'last_irreversible_block': 117814}"
      ]
     },
     "execution_count": 11,
     "metadata": {},
     "output_type": "execute_result"
    }
   ],
   "source": [
    "eosapi.get_actions('helloworld11', 26, 100)"
   ]
  },
  {
   "cell_type": "code",
   "execution_count": 17,
   "id": "a0ab2c11",
   "metadata": {},
   "outputs": [
    {
     "data": {
      "text/plain": [
       "{'actions': [{'global_action_seq': 118862,\n",
       "   'account_action_seq': 26,\n",
       "   'block_num': 118418,\n",
       "   'block_time': '2021-11-26T03:02:25.000',\n",
       "   'action_trace': {'action_ordinal': 1,\n",
       "    'creator_action_ordinal': 0,\n",
       "    'closest_unnotified_ancestor_action_ordinal': 0,\n",
       "    'receipt': {'receiver': 'mtgxinmtgxin',\n",
       "     'act_digest': 'a16e537f18345f1daa5d151d10a14186ce838ba565d07eac404780b1a7005272',\n",
       "     'global_sequence': 118862,\n",
       "     'recv_sequence': 30,\n",
       "     'auth_sequence': [['mtgxinmtgxin', 102]],\n",
       "     'code_sequence': 2,\n",
       "     'abi_sequence': 2},\n",
       "    'receiver': 'mtgxinmtgxin',\n",
       "    'act': {'account': 'mtgxinmtgxin',\n",
       "     'name': 'txrequest',\n",
       "     'authorization': [{'actor': 'mtgxinmtgxin', 'permission': 'active'}],\n",
       "     'data': ''},\n",
       "    'context_free': False,\n",
       "    'elapsed': 15,\n",
       "    'console': '',\n",
       "    'trx_id': '872e29fe3dac2814c4dcc544d8a0004e68090eb7c612585f86bf17efd27f4243',\n",
       "    'block_num': 118418,\n",
       "    'block_time': '2021-11-26T03:02:25.000',\n",
       "    'producer_block_id': None,\n",
       "    'account_ram_deltas': [],\n",
       "    'account_disk_deltas': [],\n",
       "    'except': None,\n",
       "    'error_code': None,\n",
       "    'return_value_hex_data': ''}}],\n",
       " 'last_irreversible_block': 118577}"
      ]
     },
     "execution_count": 17,
     "metadata": {},
     "output_type": "execute_result"
    }
   ],
   "source": [
    "eosapi.get_actions('mtgxinmtgxin', 26, 100)"
   ]
  },
  {
   "cell_type": "code",
   "execution_count": 29,
   "id": "05b50615",
   "metadata": {
    "scrolled": true
   },
   "outputs": [
    {
     "data": {
      "text/plain": [
       "{'id': '872e29fe3dac2814c4dcc544d8a0004e68090eb7c612585f86bf17efd27f4243',\n",
       " 'trx': {'receipt': {'status': 'executed',\n",
       "   'cpu_usage_us': 100,\n",
       "   'net_usage_words': 0,\n",
       "   'trx': [0,\n",
       "    '872e29fe3dac2814c4dcc544d8a0004e68090eb7c612585f86bf17efd27f4243']}},\n",
       " 'block_time': '2021-11-26T03:02:25.000',\n",
       " 'block_num': 118418,\n",
       " 'last_irreversible_block': 121081,\n",
       " 'traces': [{'action_ordinal': 1,\n",
       "   'creator_action_ordinal': 0,\n",
       "   'closest_unnotified_ancestor_action_ordinal': 0,\n",
       "   'receipt': {'receiver': 'mtgxinmtgxin',\n",
       "    'act_digest': 'a16e537f18345f1daa5d151d10a14186ce838ba565d07eac404780b1a7005272',\n",
       "    'global_sequence': 118862,\n",
       "    'recv_sequence': 30,\n",
       "    'auth_sequence': [['mtgxinmtgxin', 102]],\n",
       "    'code_sequence': 2,\n",
       "    'abi_sequence': 2},\n",
       "   'receiver': 'mtgxinmtgxin',\n",
       "   'act': {'account': 'mtgxinmtgxin',\n",
       "    'name': 'txrequest',\n",
       "    'authorization': [{'actor': 'mtgxinmtgxin', 'permission': 'active'}],\n",
       "    'data': ''},\n",
       "   'context_free': False,\n",
       "   'elapsed': 15,\n",
       "   'console': '',\n",
       "   'trx_id': '872e29fe3dac2814c4dcc544d8a0004e68090eb7c612585f86bf17efd27f4243',\n",
       "   'block_num': 118418,\n",
       "   'block_time': '2021-11-26T03:02:25.000',\n",
       "   'producer_block_id': None,\n",
       "   'account_ram_deltas': [],\n",
       "   'account_disk_deltas': [],\n",
       "   'except': None,\n",
       "   'error_code': None,\n",
       "   'return_value_hex_data': ''}]}"
      ]
     },
     "execution_count": 29,
     "metadata": {},
     "output_type": "execute_result"
    }
   ],
   "source": [
    "eosapi.get_transaction('872e29fe3dac2814c4dcc544d8a0004e68090eb7c612585f86bf17efd27f4243')"
   ]
  },
  {
   "cell_type": "code",
   "execution_count": 25,
   "id": "31b188bc",
   "metadata": {},
   "outputs": [
    {
     "data": {
      "text/plain": [
       "{'transactions': [], 'more': ''}"
      ]
     },
     "execution_count": 25,
     "metadata": {},
     "output_type": "execute_result"
    }
   ],
   "source": [
    "eosapi.get_scheduled_transactions(True, \"\")"
   ]
  },
  {
   "cell_type": "code",
   "execution_count": 24,
   "id": "65eaf3e3",
   "metadata": {},
   "outputs": [
    {
     "data": {
      "text/plain": [
       "{'transactions': [{'trx_id': 'e5e4500f57fde38c560d78c5c6ff87e52b98d910cd3a93520a96b7899936a527',\n",
       "   'sender': 'mtgxinmtgxin',\n",
       "   'sender_id': '1',\n",
       "   'payer': 'mtgxinmtgxin',\n",
       "   'delay_until': '2021-11-26T03:21:32.500',\n",
       "   'expiration': '2021-11-26T03:31:32.500',\n",
       "   'published': '2021-11-26T03:19:52.500',\n",
       "   'transaction': {'expiration': '1970-01-01T00:00:00',\n",
       "    'ref_block_num': 0,\n",
       "    'ref_block_prefix': 0,\n",
       "    'max_net_usage_words': 0,\n",
       "    'max_cpu_usage_ms': 0,\n",
       "    'delay_sec': 100,\n",
       "    'context_free_actions': [],\n",
       "    'actions': [{'account': 'mtgxinmtgxin',\n",
       "      'name': 'txrequest',\n",
       "      'authorization': [{'actor': 'mtgxinmtgxin', 'permission': 'active'}],\n",
       "      'data': ''}],\n",
       "    'deferred_transaction_generation': {'sender_trx_id': '0016dd9a01324b5fe744fe80d3155bb337d7b1a4f0b401a8c3ed44f56fd62692',\n",
       "     'sender_id': '1',\n",
       "     'sender': 'mtgxinmtgxin'}}}],\n",
       " 'more': ''}"
      ]
     },
     "execution_count": 24,
     "metadata": {},
     "output_type": "execute_result"
    }
   ],
   "source": [
    "eosapi.get_scheduled_transactions(True, \"\")"
   ]
  },
  {
   "cell_type": "code",
   "execution_count": 8,
   "id": "9e73ec16",
   "metadata": {},
   "outputs": [
    {
     "data": {
      "text/plain": [
       "{'actions': [{'global_action_seq': 78551,\n",
       "   'account_action_seq': 13,\n",
       "   'block_num': 78227,\n",
       "   'block_time': '2021-11-25T14:42:57.500',\n",
       "   'action_trace': {'action_ordinal': 4,\n",
       "    'creator_action_ordinal': 1,\n",
       "    'closest_unnotified_ancestor_action_ordinal': 1,\n",
       "    'receipt': {'receiver': 'mtgxinmtgxin',\n",
       "     'act_digest': '6aceedbd551f5c40be6eb3365063ecbb52f58701ae7fda45ef7acbb1a06422a9',\n",
       "     'global_sequence': 78551,\n",
       "     'recv_sequence': 14,\n",
       "     'auth_sequence': [['helloworld11', 79]],\n",
       "     'code_sequence': 0,\n",
       "     'abi_sequence': 0},\n",
       "    'receiver': 'mtgxinmtgxin',\n",
       "    'act': {'account': 'mtgxinmtgxin',\n",
       "     'name': 'txrequest',\n",
       "     'authorization': [{'actor': 'helloworld11', 'permission': 'active'}],\n",
       "     'data': '1100000000000000110000000000000049b0089269544826aaec371ca165558a965e5c6e434c3fa9b780c50f43cd955c012466333262623661622d316134642d343462622d383932662d663031323932333964663839010000006a424a000000000000000000000000000078e0f28140d0ba16'},\n",
       "    'context_free': False,\n",
       "    'elapsed': 2,\n",
       "    'console': '',\n",
       "    'trx_id': '08144ad84ae50cf83aef9da63769a80c75286d4e6f61a2ddd09cec53c7666401',\n",
       "    'block_num': 78227,\n",
       "    'block_time': '2021-11-25T14:42:57.500',\n",
       "    'producer_block_id': '00013193fa25d633fe1dcd4474550d55b20e7f5f338f379e744e028739d3c902',\n",
       "    'account_ram_deltas': [],\n",
       "    'account_disk_deltas': [],\n",
       "    'except': None,\n",
       "    'error_code': None,\n",
       "    'return_value_hex_data': ''}},\n",
       "  {'global_action_seq': 79543,\n",
       "   'account_action_seq': 14,\n",
       "   'block_num': 79217,\n",
       "   'block_time': '2021-11-25T14:51:12.500',\n",
       "   'action_trace': {'action_ordinal': 2,\n",
       "    'creator_action_ordinal': 1,\n",
       "    'closest_unnotified_ancestor_action_ordinal': 1,\n",
       "    'receipt': {'receiver': 'mtgxinmtgxin',\n",
       "     'act_digest': '3b81deef88f717c4843dc0872541e79338b31fb51095298b92415d9cefbb70ea',\n",
       "     'global_sequence': 79543,\n",
       "     'recv_sequence': 15,\n",
       "     'auth_sequence': [['helloworld11', 80]],\n",
       "     'code_sequence': 0,\n",
       "     'abi_sequence': 0},\n",
       "    'receiver': 'mtgxinmtgxin',\n",
       "    'act': {'account': 'mtgxinmtgxin',\n",
       "     'name': 'txrequest',\n",
       "     'authorization': [{'actor': 'helloworld11', 'permission': 'active'}],\n",
       "     'data': '1200000000000000120000000000000049b0089269544826aaec371ca165558a965e5c6e434c3fa9b780c50f43cd955c012466333262623661622d316134642d343462622d383932662d663031323932333964663839010000006a424a00000000000000000000000000004887a4ec97d1ba16'},\n",
       "    'context_free': False,\n",
       "    'elapsed': 6,\n",
       "    'console': '',\n",
       "    'trx_id': '29459cebfec1c6cbd2b31992a648dd2afdce8eafea8a86456cba41fddc13b876',\n",
       "    'block_num': 79217,\n",
       "    'block_time': '2021-11-25T14:51:12.500',\n",
       "    'producer_block_id': '0001357100cb4222852591aa5d2a5438844639e81c611be1245413acd03171d9',\n",
       "    'account_ram_deltas': [],\n",
       "    'account_disk_deltas': [],\n",
       "    'except': None,\n",
       "    'error_code': None,\n",
       "    'return_value_hex_data': ''}},\n",
       "  {'global_action_seq': 79544,\n",
       "   'account_action_seq': 15,\n",
       "   'block_num': 79217,\n",
       "   'block_time': '2021-11-25T14:51:12.500',\n",
       "   'action_trace': {'action_ordinal': 3,\n",
       "    'creator_action_ordinal': 1,\n",
       "    'closest_unnotified_ancestor_action_ordinal': 1,\n",
       "    'receipt': {'receiver': 'mtgxinmtgxin',\n",
       "     'act_digest': '5aec79fa1ee1d86a23902a9f97ef3b5a14530aeca8fc246ee038d593e0ab5e72',\n",
       "     'global_sequence': 79544,\n",
       "     'recv_sequence': 16,\n",
       "     'auth_sequence': [['helloworld11', 81]],\n",
       "     'code_sequence': 0,\n",
       "     'abi_sequence': 0},\n",
       "    'receiver': 'mtgxinmtgxin',\n",
       "    'act': {'account': 'mtgxinmtgxin',\n",
       "     'name': 'txrequest',\n",
       "     'authorization': [{'actor': 'helloworld11', 'permission': 'active'}],\n",
       "     'data': '1300000000000000130000000000000049b0089269544826aaec371ca165558a965e5c6e434c3fa9b780c50f43cd955c012466333262623661622d316134642d343462622d383932662d663031323932333964663839010000006a424a00000000000000000000000000004887a4ec97d1ba16'},\n",
       "    'context_free': False,\n",
       "    'elapsed': 4,\n",
       "    'console': '',\n",
       "    'trx_id': '29459cebfec1c6cbd2b31992a648dd2afdce8eafea8a86456cba41fddc13b876',\n",
       "    'block_num': 79217,\n",
       "    'block_time': '2021-11-25T14:51:12.500',\n",
       "    'producer_block_id': '0001357100cb4222852591aa5d2a5438844639e81c611be1245413acd03171d9',\n",
       "    'account_ram_deltas': [],\n",
       "    'account_disk_deltas': [],\n",
       "    'except': None,\n",
       "    'error_code': None,\n",
       "    'return_value_hex_data': ''}},\n",
       "  {'global_action_seq': 79545,\n",
       "   'account_action_seq': 16,\n",
       "   'block_num': 79217,\n",
       "   'block_time': '2021-11-25T14:51:12.500',\n",
       "   'action_trace': {'action_ordinal': 4,\n",
       "    'creator_action_ordinal': 1,\n",
       "    'closest_unnotified_ancestor_action_ordinal': 1,\n",
       "    'receipt': {'receiver': 'mtgxinmtgxin',\n",
       "     'act_digest': '70bc316a9eedbc0fcb6fc91c3bbc5aa4aa3552dca2f7a53610899194470a369e',\n",
       "     'global_sequence': 79545,\n",
       "     'recv_sequence': 17,\n",
       "     'auth_sequence': [['helloworld11', 82]],\n",
       "     'code_sequence': 0,\n",
       "     'abi_sequence': 0},\n",
       "    'receiver': 'mtgxinmtgxin',\n",
       "    'act': {'account': 'mtgxinmtgxin',\n",
       "     'name': 'txrequest',\n",
       "     'authorization': [{'actor': 'helloworld11', 'permission': 'active'}],\n",
       "     'data': '1400000000000000140000000000000049b0089269544826aaec371ca165558a965e5c6e434c3fa9b780c50f43cd955c012466333262623661622d316134642d343462622d383932662d663031323932333964663839010000006a424a00000000000000000000000000004887a4ec97d1ba16'},\n",
       "    'context_free': False,\n",
       "    'elapsed': 4,\n",
       "    'console': '',\n",
       "    'trx_id': '29459cebfec1c6cbd2b31992a648dd2afdce8eafea8a86456cba41fddc13b876',\n",
       "    'block_num': 79217,\n",
       "    'block_time': '2021-11-25T14:51:12.500',\n",
       "    'producer_block_id': '0001357100cb4222852591aa5d2a5438844639e81c611be1245413acd03171d9',\n",
       "    'account_ram_deltas': [],\n",
       "    'account_disk_deltas': [],\n",
       "    'except': None,\n",
       "    'error_code': None,\n",
       "    'return_value_hex_data': ''}},\n",
       "  {'global_action_seq': 80528,\n",
       "   'account_action_seq': 17,\n",
       "   'block_num': 80195,\n",
       "   'block_time': '2021-11-25T14:59:21.500',\n",
       "   'action_trace': {'action_ordinal': 2,\n",
       "    'creator_action_ordinal': 1,\n",
       "    'closest_unnotified_ancestor_action_ordinal': 1,\n",
       "    'receipt': {'receiver': 'mtgxinmtgxin',\n",
       "     'act_digest': 'eeb7a6ab6d4742dbd25df5829e1339211ed3141e0316f6a92f4885d971857933',\n",
       "     'global_sequence': 80528,\n",
       "     'recv_sequence': 18,\n",
       "     'auth_sequence': [['helloworld11', 86]],\n",
       "     'code_sequence': 0,\n",
       "     'abi_sequence': 0},\n",
       "    'receiver': 'mtgxinmtgxin',\n",
       "    'act': {'account': 'mtgxinmtgxin',\n",
       "     'name': 'txrequest',\n",
       "     'authorization': [{'actor': 'helloworld11', 'permission': 'active'}],\n",
       "     'data': '1500000000000000150000000000000049b0089269544826aaec371ca165558a965e5c6e434c3fa9b780c50f43cd955c012466333262623661622d316134642d343462622d383932662d663031323932333964663839010000000000000000000000000000000000000000b0b78b090ad2ba16'},\n",
       "    'context_free': False,\n",
       "    'elapsed': 3,\n",
       "    'console': '',\n",
       "    'trx_id': '6f75d973d979c03e1353a5eb2ea7ddef6c549f0fc6e421c26e5eb073bfb58872',\n",
       "    'block_num': 80195,\n",
       "    'block_time': '2021-11-25T14:59:21.500',\n",
       "    'producer_block_id': '00013943afa5162a5b1eb29acb903bcf7149f3b54a3af5ef8baf64323f3e05a5',\n",
       "    'account_ram_deltas': [],\n",
       "    'account_disk_deltas': [],\n",
       "    'except': None,\n",
       "    'error_code': None,\n",
       "    'return_value_hex_data': ''}},\n",
       "  {'global_action_seq': 80529,\n",
       "   'account_action_seq': 18,\n",
       "   'block_num': 80195,\n",
       "   'block_time': '2021-11-25T14:59:21.500',\n",
       "   'action_trace': {'action_ordinal': 3,\n",
       "    'creator_action_ordinal': 1,\n",
       "    'closest_unnotified_ancestor_action_ordinal': 1,\n",
       "    'receipt': {'receiver': 'mtgxinmtgxin',\n",
       "     'act_digest': '161d6d1101cc8af25457488d389f1ed452f442101254721defe03c66f92808a9',\n",
       "     'global_sequence': 80529,\n",
       "     'recv_sequence': 19,\n",
       "     'auth_sequence': [['helloworld11', 87]],\n",
       "     'code_sequence': 0,\n",
       "     'abi_sequence': 0},\n",
       "    'receiver': 'mtgxinmtgxin',\n",
       "    'act': {'account': 'mtgxinmtgxin',\n",
       "     'name': 'txrequest',\n",
       "     'authorization': [{'actor': 'helloworld11', 'permission': 'active'}],\n",
       "     'data': '1600000000000000160000000000000049b0089269544826aaec371ca165558a965e5c6e434c3fa9b780c50f43cd955c012466333262623661622d316134642d343462622d383932662d663031323932333964663839010000000000000000000000000000000000000000b0b78b090ad2ba16'},\n",
       "    'context_free': False,\n",
       "    'elapsed': 3,\n",
       "    'console': '',\n",
       "    'trx_id': '6f75d973d979c03e1353a5eb2ea7ddef6c549f0fc6e421c26e5eb073bfb58872',\n",
       "    'block_num': 80195,\n",
       "    'block_time': '2021-11-25T14:59:21.500',\n",
       "    'producer_block_id': '00013943afa5162a5b1eb29acb903bcf7149f3b54a3af5ef8baf64323f3e05a5',\n",
       "    'account_ram_deltas': [],\n",
       "    'account_disk_deltas': [],\n",
       "    'except': None,\n",
       "    'error_code': None,\n",
       "    'return_value_hex_data': ''}},\n",
       "  {'global_action_seq': 80530,\n",
       "   'account_action_seq': 19,\n",
       "   'block_num': 80195,\n",
       "   'block_time': '2021-11-25T14:59:21.500',\n",
       "   'action_trace': {'action_ordinal': 4,\n",
       "    'creator_action_ordinal': 1,\n",
       "    'closest_unnotified_ancestor_action_ordinal': 1,\n",
       "    'receipt': {'receiver': 'mtgxinmtgxin',\n",
       "     'act_digest': 'fbb0929e99e6c73ed1b38a3d27e371c7a60f11eda82d0fecd32a03fb43c888d1',\n",
       "     'global_sequence': 80530,\n",
       "     'recv_sequence': 20,\n",
       "     'auth_sequence': [['helloworld11', 88]],\n",
       "     'code_sequence': 0,\n",
       "     'abi_sequence': 0},\n",
       "    'receiver': 'mtgxinmtgxin',\n",
       "    'act': {'account': 'mtgxinmtgxin',\n",
       "     'name': 'txrequest',\n",
       "     'authorization': [{'actor': 'helloworld11', 'permission': 'active'}],\n",
       "     'data': '1700000000000000170000000000000049b0089269544826aaec371ca165558a965e5c6e434c3fa9b780c50f43cd955c012466333262623661622d316134642d343462622d383932662d663031323932333964663839010000000000000000000000000000000000000000b0b78b090ad2ba16'},\n",
       "    'context_free': False,\n",
       "    'elapsed': 2,\n",
       "    'console': '',\n",
       "    'trx_id': '6f75d973d979c03e1353a5eb2ea7ddef6c549f0fc6e421c26e5eb073bfb58872',\n",
       "    'block_num': 80195,\n",
       "    'block_time': '2021-11-25T14:59:21.500',\n",
       "    'producer_block_id': '00013943afa5162a5b1eb29acb903bcf7149f3b54a3af5ef8baf64323f3e05a5',\n",
       "    'account_ram_deltas': [],\n",
       "    'account_disk_deltas': [],\n",
       "    'except': None,\n",
       "    'error_code': None,\n",
       "    'return_value_hex_data': ''}},\n",
       "  {'global_action_seq': 88990,\n",
       "   'account_action_seq': 20,\n",
       "   'block_num': 88565,\n",
       "   'block_time': '2021-11-25T16:09:06.500',\n",
       "   'action_trace': {'action_ordinal': 2,\n",
       "    'creator_action_ordinal': 1,\n",
       "    'closest_unnotified_ancestor_action_ordinal': 1,\n",
       "    'receipt': {'receiver': 'mtgxinmtgxin',\n",
       "     'act_digest': 'be6d34a0d3b7034d800f3f32b475d4ecfccde763db9b5fa4f9a8a479421f2f4a',\n",
       "     'global_sequence': 88990,\n",
       "     'recv_sequence': 21,\n",
       "     'auth_sequence': [['helloworld11', 93]],\n",
       "     'code_sequence': 0,\n",
       "     'abi_sequence': 0},\n",
       "    'receiver': 'mtgxinmtgxin',\n",
       "    'act': {'account': 'mtgxinmtgxin',\n",
       "     'name': 'txrequest',\n",
       "     'authorization': [{'actor': 'helloworld11', 'permission': 'active'}],\n",
       "     'data': '1800000000000000180000000000000049b0089269544826aaec371ca165558a965e5c6e434c3fa9b780c50f43cd955c01f32bb6ab1a4d44bb892ff0129239df8901000000000000000000000000000000000000000080a9b7a3e9d3ba16'},\n",
       "    'context_free': False,\n",
       "    'elapsed': 3,\n",
       "    'console': '',\n",
       "    'trx_id': '75072d740ede5f4964d1e5e21cc9358ea711db5b18b5d50cdd0f5954d91e1651',\n",
       "    'block_num': 88565,\n",
       "    'block_time': '2021-11-25T16:09:06.500',\n",
       "    'producer_block_id': '000159f5928f3dcfc8e794a93a0be4fccbfc593b4dfd8effdea6cac741993ba9',\n",
       "    'account_ram_deltas': [],\n",
       "    'account_disk_deltas': [],\n",
       "    'except': None,\n",
       "    'error_code': None,\n",
       "    'return_value_hex_data': ''}},\n",
       "  {'global_action_seq': 88991,\n",
       "   'account_action_seq': 21,\n",
       "   'block_num': 88565,\n",
       "   'block_time': '2021-11-25T16:09:06.500',\n",
       "   'action_trace': {'action_ordinal': 3,\n",
       "    'creator_action_ordinal': 1,\n",
       "    'closest_unnotified_ancestor_action_ordinal': 1,\n",
       "    'receipt': {'receiver': 'mtgxinmtgxin',\n",
       "     'act_digest': 'e517e84dbb2b1a99f09e3912485b9037fc26441d62b59c8aeec7e142e3aa716d',\n",
       "     'global_sequence': 88991,\n",
       "     'recv_sequence': 22,\n",
       "     'auth_sequence': [['helloworld11', 94]],\n",
       "     'code_sequence': 0,\n",
       "     'abi_sequence': 0},\n",
       "    'receiver': 'mtgxinmtgxin',\n",
       "    'act': {'account': 'mtgxinmtgxin',\n",
       "     'name': 'txrequest',\n",
       "     'authorization': [{'actor': 'helloworld11', 'permission': 'active'}],\n",
       "     'data': '1900000000000000190000000000000049b0089269544826aaec371ca165558a965e5c6e434c3fa9b780c50f43cd955c01f32bb6ab1a4d44bb892ff0129239df8901000000000000000000000000000000000000000080a9b7a3e9d3ba16'},\n",
       "    'context_free': False,\n",
       "    'elapsed': 3,\n",
       "    'console': '',\n",
       "    'trx_id': '75072d740ede5f4964d1e5e21cc9358ea711db5b18b5d50cdd0f5954d91e1651',\n",
       "    'block_num': 88565,\n",
       "    'block_time': '2021-11-25T16:09:06.500',\n",
       "    'producer_block_id': '000159f5928f3dcfc8e794a93a0be4fccbfc593b4dfd8effdea6cac741993ba9',\n",
       "    'account_ram_deltas': [],\n",
       "    'account_disk_deltas': [],\n",
       "    'except': None,\n",
       "    'error_code': None,\n",
       "    'return_value_hex_data': ''}},\n",
       "  {'global_action_seq': 88992,\n",
       "   'account_action_seq': 22,\n",
       "   'block_num': 88565,\n",
       "   'block_time': '2021-11-25T16:09:06.500',\n",
       "   'action_trace': {'action_ordinal': 4,\n",
       "    'creator_action_ordinal': 1,\n",
       "    'closest_unnotified_ancestor_action_ordinal': 1,\n",
       "    'receipt': {'receiver': 'mtgxinmtgxin',\n",
       "     'act_digest': '2a6df49d3eebd56523475f30a20ad9e07634c24f791c48dcc0afff8535b537b4',\n",
       "     'global_sequence': 88992,\n",
       "     'recv_sequence': 23,\n",
       "     'auth_sequence': [['helloworld11', 95]],\n",
       "     'code_sequence': 0,\n",
       "     'abi_sequence': 0},\n",
       "    'receiver': 'mtgxinmtgxin',\n",
       "    'act': {'account': 'mtgxinmtgxin',\n",
       "     'name': 'txrequest',\n",
       "     'authorization': [{'actor': 'helloworld11', 'permission': 'active'}],\n",
       "     'data': '1a000000000000001a0000000000000049b0089269544826aaec371ca165558a965e5c6e434c3fa9b780c50f43cd955c01f32bb6ab1a4d44bb892ff0129239df8901000000000000000000000000000000000000000080a9b7a3e9d3ba16'},\n",
       "    'context_free': False,\n",
       "    'elapsed': 2,\n",
       "    'console': '',\n",
       "    'trx_id': '75072d740ede5f4964d1e5e21cc9358ea711db5b18b5d50cdd0f5954d91e1651',\n",
       "    'block_num': 88565,\n",
       "    'block_time': '2021-11-25T16:09:06.500',\n",
       "    'producer_block_id': '000159f5928f3dcfc8e794a93a0be4fccbfc593b4dfd8effdea6cac741993ba9',\n",
       "    'account_ram_deltas': [],\n",
       "    'account_disk_deltas': [],\n",
       "    'except': None,\n",
       "    'error_code': None,\n",
       "    'return_value_hex_data': ''}},\n",
       "  {'global_action_seq': 89710,\n",
       "   'account_action_seq': 23,\n",
       "   'block_num': 89278,\n",
       "   'block_time': '2021-11-25T16:15:03.000',\n",
       "   'action_trace': {'action_ordinal': 2,\n",
       "    'creator_action_ordinal': 1,\n",
       "    'closest_unnotified_ancestor_action_ordinal': 1,\n",
       "    'receipt': {'receiver': 'mtgxinmtgxin',\n",
       "     'act_digest': 'f919f350198c1964862ee62a030f600ea450eb859ad8de3b7056f998555aded0',\n",
       "     'global_sequence': 89710,\n",
       "     'recv_sequence': 24,\n",
       "     'auth_sequence': [['helloworld11', 99]],\n",
       "     'code_sequence': 0,\n",
       "     'abi_sequence': 0},\n",
       "    'receiver': 'mtgxinmtgxin',\n",
       "    'act': {'account': 'mtgxinmtgxin',\n",
       "     'name': 'txrequest',\n",
       "     'authorization': [{'actor': 'helloworld11', 'permission': 'active'}],\n",
       "     'data': '1b000000000000001b0000000000000049b0089269544826aaec371ca165558a965e5c6e434c3fa9b780c50f43cd955c01f32bb6ab1a4d44bb892ff0129239df8901000000d5464b000000000000000000000000000070bcd87a0ad6ba16'},\n",
       "    'context_free': False,\n",
       "    'elapsed': 4,\n",
       "    'console': '',\n",
       "    'trx_id': 'e42064d3842ef161157691ad5fc1a9269c7a547d9326fb389773f9aacd110577',\n",
       "    'block_num': 89278,\n",
       "    'block_time': '2021-11-25T16:15:03.000',\n",
       "    'producer_block_id': '00015cbe4f358fac8d976545880d8ef5c9b73890e01110b34105bfc72958f1a7',\n",
       "    'account_ram_deltas': [],\n",
       "    'account_disk_deltas': [],\n",
       "    'except': None,\n",
       "    'error_code': None,\n",
       "    'return_value_hex_data': ''}},\n",
       "  {'global_action_seq': 89711,\n",
       "   'account_action_seq': 24,\n",
       "   'block_num': 89278,\n",
       "   'block_time': '2021-11-25T16:15:03.000',\n",
       "   'action_trace': {'action_ordinal': 3,\n",
       "    'creator_action_ordinal': 1,\n",
       "    'closest_unnotified_ancestor_action_ordinal': 1,\n",
       "    'receipt': {'receiver': 'mtgxinmtgxin',\n",
       "     'act_digest': 'ec5c05dcbc36df18647b808ec6e7633aa9aa0c8a56a9072633320994237a0c32',\n",
       "     'global_sequence': 89711,\n",
       "     'recv_sequence': 25,\n",
       "     'auth_sequence': [['helloworld11', 100]],\n",
       "     'code_sequence': 0,\n",
       "     'abi_sequence': 0},\n",
       "    'receiver': 'mtgxinmtgxin',\n",
       "    'act': {'account': 'mtgxinmtgxin',\n",
       "     'name': 'txrequest',\n",
       "     'authorization': [{'actor': 'helloworld11', 'permission': 'active'}],\n",
       "     'data': '1c000000000000001c0000000000000049b0089269544826aaec371ca165558a965e5c6e434c3fa9b780c50f43cd955c01f32bb6ab1a4d44bb892ff0129239df8901000000d5464b000000000000000000000000000070bcd87a0ad6ba16'},\n",
       "    'context_free': False,\n",
       "    'elapsed': 4,\n",
       "    'console': '',\n",
       "    'trx_id': 'e42064d3842ef161157691ad5fc1a9269c7a547d9326fb389773f9aacd110577',\n",
       "    'block_num': 89278,\n",
       "    'block_time': '2021-11-25T16:15:03.000',\n",
       "    'producer_block_id': '00015cbe4f358fac8d976545880d8ef5c9b73890e01110b34105bfc72958f1a7',\n",
       "    'account_ram_deltas': [],\n",
       "    'account_disk_deltas': [],\n",
       "    'except': None,\n",
       "    'error_code': None,\n",
       "    'return_value_hex_data': ''}},\n",
       "  {'global_action_seq': 89712,\n",
       "   'account_action_seq': 25,\n",
       "   'block_num': 89278,\n",
       "   'block_time': '2021-11-25T16:15:03.000',\n",
       "   'action_trace': {'action_ordinal': 4,\n",
       "    'creator_action_ordinal': 1,\n",
       "    'closest_unnotified_ancestor_action_ordinal': 1,\n",
       "    'receipt': {'receiver': 'mtgxinmtgxin',\n",
       "     'act_digest': 'a4fbcbbeb40804b9f15312c2cd576671af38ba987c1039ae2649e376d509f104',\n",
       "     'global_sequence': 89712,\n",
       "     'recv_sequence': 26,\n",
       "     'auth_sequence': [['helloworld11', 101]],\n",
       "     'code_sequence': 0,\n",
       "     'abi_sequence': 0},\n",
       "    'receiver': 'mtgxinmtgxin',\n",
       "    'act': {'account': 'mtgxinmtgxin',\n",
       "     'name': 'txrequest',\n",
       "     'authorization': [{'actor': 'helloworld11', 'permission': 'active'}],\n",
       "     'data': '1d000000000000001d0000000000000049b0089269544826aaec371ca165558a965e5c6e434c3fa9b780c50f43cd955c01f32bb6ab1a4d44bb892ff0129239df8901000000d5464b000000000000000000000000000070bcd87a0ad6ba16'},\n",
       "    'context_free': False,\n",
       "    'elapsed': 2,\n",
       "    'console': '',\n",
       "    'trx_id': 'e42064d3842ef161157691ad5fc1a9269c7a547d9326fb389773f9aacd110577',\n",
       "    'block_num': 89278,\n",
       "    'block_time': '2021-11-25T16:15:03.000',\n",
       "    'producer_block_id': '00015cbe4f358fac8d976545880d8ef5c9b73890e01110b34105bfc72958f1a7',\n",
       "    'account_ram_deltas': [],\n",
       "    'account_disk_deltas': [],\n",
       "    'except': None,\n",
       "    'error_code': None,\n",
       "    'return_value_hex_data': ''}}],\n",
       " 'last_irreversible_block': 112481}"
      ]
     },
     "execution_count": 8,
     "metadata": {},
     "output_type": "execute_result"
    }
   ],
   "source": [
    "eosapi.get_actions('mtgxinmtgxin', 13, 100)"
   ]
  },
  {
   "cell_type": "code",
   "execution_count": 104,
   "id": "afd692e2",
   "metadata": {
    "scrolled": true
   },
   "outputs": [
    {
     "data": {
      "text/plain": [
       "{'actions': [], 'last_irreversible_block': 79088}"
      ]
     },
     "execution_count": 104,
     "metadata": {},
     "output_type": "execute_result"
    }
   ],
   "source": [
    "aa"
   ]
  },
  {
   "cell_type": "code",
   "execution_count": 72,
   "id": "b7e34e70",
   "metadata": {
    "scrolled": true
   },
   "outputs": [
    {
     "data": {
      "text/plain": [
       "{'account_name': 'helloworld11',\n",
       " 'head_block_num': 17005,\n",
       " 'head_block_time': '2021-11-25T06:12:46.500',\n",
       " 'privileged': False,\n",
       " 'last_code_update': '2021-11-25T05:53:06.000',\n",
       " 'created': '2021-11-25T03:51:05.500',\n",
       " 'core_liquid_balance': '10008972.6151 EOS',\n",
       " 'ram_quota': 15730019,\n",
       " 'net_weight': 20000,\n",
       " 'cpu_weight': 10010000,\n",
       " 'net_limit': {'used': 25585,\n",
       "  'available': '22649241574415',\n",
       "  'max': '22649241600000',\n",
       "  'last_usage_update_time': '2021-11-25T05:57:02.000',\n",
       "  'current_used': 25306},\n",
       " 'cpu_limit': {'used': 16272,\n",
       "  'available': 69171877,\n",
       "  'max': 69188149,\n",
       "  'last_usage_update_time': '2021-11-25T05:57:02.000',\n",
       "  'current_used': 16094},\n",
       " 'ram_usage': 126393,\n",
       " 'permissions': [{'perm_name': 'active',\n",
       "   'parent': 'owner',\n",
       "   'required_auth': {'threshold': 1,\n",
       "    'keys': [{'key': 'EOS6AjF6hvF7GSuSd4sCgfPKq5uWaXvGM2aQtEUCwmEHygQaqxBSV',\n",
       "      'weight': 1}],\n",
       "    'accounts': [{'permission': {'actor': 'helloworld11',\n",
       "       'permission': 'eosio.code'},\n",
       "      'weight': 1}],\n",
       "    'waits': []}},\n",
       "  {'perm_name': 'owner',\n",
       "   'parent': '',\n",
       "   'required_auth': {'threshold': 1,\n",
       "    'keys': [{'key': 'EOS7sPDxfw5yx5SZgQcVb57zS1XeSWLNpQKhaGjjy2qe61BrAQ49o',\n",
       "      'weight': 1}],\n",
       "    'accounts': [],\n",
       "    'waits': []}}],\n",
       " 'total_resources': {'owner': 'helloworld11',\n",
       "  'net_weight': '2.0000 EOS',\n",
       "  'cpu_weight': '1001.0000 EOS',\n",
       "  'ram_bytes': 15728619},\n",
       " 'self_delegated_bandwidth': {'from': 'helloworld11',\n",
       "  'to': 'helloworld11',\n",
       "  'net_weight': '1.0000 EOS',\n",
       "  'cpu_weight': '1000.0000 EOS'},\n",
       " 'refund_request': None,\n",
       " 'voter_info': {'owner': 'helloworld11',\n",
       "  'proxy': '',\n",
       "  'producers': [],\n",
       "  'staked': 10010000,\n",
       "  'last_vote_weight': '0.00000000000000000',\n",
       "  'proxied_vote_weight': '0.00000000000000000',\n",
       "  'is_proxy': 0,\n",
       "  'flags1': 0,\n",
       "  'reserved2': 0,\n",
       "  'reserved3': '0 '},\n",
       " 'rex_info': None}"
      ]
     },
     "execution_count": 72,
     "metadata": {},
     "output_type": "execute_result"
    }
   ],
   "source": [
    "eosapi.get_account('helloworld11')"
   ]
  },
  {
   "cell_type": "code",
   "execution_count": 74,
   "id": "04b5fd2d",
   "metadata": {},
   "outputs": [
    {
     "data": {
      "text/plain": [
       "['EOS6AjF6hvF7GSuSd4sCgfPKq5uWaXvGM2aQtEUCwmEHygQaqxBSV']"
      ]
     },
     "execution_count": 74,
     "metadata": {},
     "output_type": "execute_result"
    }
   ],
   "source": [
    "a = '{\"expiration\":\"2021-11-25T06:11:12\",\"ref_block_num\":16695,\"ref_block_prefix\":2758899481,\"max_net_usage_words\":0,\"max_cpu_usage_ms\":0,\"delay_sec\":0,\"context_free_actions\":[],\"actions\":[{\"account\":\"helloworld11\",\"name\":\"onevent\",\"authorization\":[{\"actor\":\"helloworld11\",\"permission\":\"active\"}],\"data\":\"000000000000000049b0089269544826aaec371ca165558a965e5c6e434c3fa9b780c50f43cd955c012466333262623661622d316134642d343462622d383932662d66303132393233396466383901000000e018d400000000000000000000000000009015d74cc5b3ba164034712db37e4336836dfa30691196af76d0603af8ba64196d26bd82c8d3a722b351dfd9a496df02a3b084d7b5318d405ff2ddf9d14aadd37a5a70b31c0a7485e1\"}],\"transaction_extensions\":[]}'\n",
    "eosapi.get_required_keys(a, ['EOS6AjF6hvF7GSuSd4sCgfPKq5uWaXvGM2aQtEUCwmEHygQaqxBSV'])\n"
   ]
  },
  {
   "cell_type": "code",
   "execution_count": 56,
   "id": "a6188e73",
   "metadata": {
    "scrolled": true
   },
   "outputs": [
    {
     "data": {
      "text/plain": [
       "{'action_ordinal': 1,\n",
       " 'creator_action_ordinal': 0,\n",
       " 'closest_unnotified_ancestor_action_ordinal': 0,\n",
       " 'receipt': {'receiver': 'helloworld11',\n",
       "  'act_digest': '7b3f40f9927387f8d310972ffb6b5b92118b8d38e82eb5568ba9482b4e4425b0',\n",
       "  'global_sequence': 282,\n",
       "  'recv_sequence': 4,\n",
       "  'auth_sequence': [['helloworld12', 5]],\n",
       "  'code_sequence': 0,\n",
       "  'abi_sequence': 0},\n",
       " 'receiver': 'helloworld11',\n",
       " 'act': {'account': 'helloworld11',\n",
       "  'name': 'txrequest',\n",
       "  'authorization': [{'actor': 'helloworld12', 'permission': 'active'}],\n",
       "  'data': '68656c6c6f2c776f726c64'},\n",
       " 'context_free': False,\n",
       " 'elapsed': 8,\n",
       " 'console': '',\n",
       " 'trx_id': '36c69b5cdffc226d92cbf9e9477943e09afd83a9eb0840548d1db5f9b504aa6b',\n",
       " 'block_num': 36,\n",
       " 'block_time': '2021-11-25T02:54:23.500',\n",
       " 'producer_block_id': None,\n",
       " 'account_ram_deltas': [],\n",
       " 'account_disk_deltas': [],\n",
       " 'except': None,\n",
       " 'error_code': None,\n",
       " 'return_value_hex_data': ''}"
      ]
     },
     "execution_count": 56,
     "metadata": {},
     "output_type": "execute_result"
    }
   ],
   "source": [
    "aa['actions'][0]['action_trace']"
   ]
  },
  {
   "cell_type": "code",
   "execution_count": 57,
   "id": "95533dc7",
   "metadata": {
    "scrolled": true
   },
   "outputs": [
    {
     "data": {
      "text/plain": [
       "{'account_name': 'mtgxinmtgxin',\n",
       " 'head_block_num': 55,\n",
       " 'head_block_time': '2021-11-25T03:51:31.500',\n",
       " 'privileged': False,\n",
       " 'last_code_update': '1970-01-01T00:00:00.000',\n",
       " 'created': '2021-11-25T03:51:19.000',\n",
       " 'ram_quota': 1049966,\n",
       " 'net_weight': 10000,\n",
       " 'cpu_weight': 100000,\n",
       " 'net_limit': {'used': 0,\n",
       "  'available': '11952975600',\n",
       "  'max': '11952975600',\n",
       "  'last_usage_update_time': '2021-11-25T03:51:19.000',\n",
       "  'current_used': 0},\n",
       " 'cpu_limit': {'used': 0,\n",
       "  'available': 729,\n",
       "  'max': 729,\n",
       "  'last_usage_update_time': '2021-11-25T03:51:19.000',\n",
       "  'current_used': 0},\n",
       " 'ram_usage': 3446,\n",
       " 'permissions': [{'perm_name': 'active',\n",
       "   'parent': 'owner',\n",
       "   'required_auth': {'threshold': 1,\n",
       "    'keys': [{'key': 'EOS6AjF6hvF7GSuSd4sCgfPKq5uWaXvGM2aQtEUCwmEHygQaqxBSV',\n",
       "      'weight': 1}],\n",
       "    'accounts': [],\n",
       "    'waits': []}},\n",
       "  {'perm_name': 'owner',\n",
       "   'parent': '',\n",
       "   'required_auth': {'threshold': 1,\n",
       "    'keys': [{'key': 'EOS6AjF6hvF7GSuSd4sCgfPKq5uWaXvGM2aQtEUCwmEHygQaqxBSV',\n",
       "      'weight': 1}],\n",
       "    'accounts': [],\n",
       "    'waits': []}}],\n",
       " 'total_resources': {'owner': 'mtgxinmtgxin',\n",
       "  'net_weight': '1.0000 EOS',\n",
       "  'cpu_weight': '10.0000 EOS',\n",
       "  'ram_bytes': 1048566},\n",
       " 'self_delegated_bandwidth': {'from': 'mtgxinmtgxin',\n",
       "  'to': 'mtgxinmtgxin',\n",
       "  'net_weight': '1.0000 EOS',\n",
       "  'cpu_weight': '10.0000 EOS'},\n",
       " 'refund_request': None,\n",
       " 'voter_info': {'owner': 'mtgxinmtgxin',\n",
       "  'proxy': '',\n",
       "  'producers': [],\n",
       "  'staked': 110000,\n",
       "  'last_vote_weight': '0.00000000000000000',\n",
       "  'proxied_vote_weight': '0.00000000000000000',\n",
       "  'is_proxy': 0,\n",
       "  'flags1': 0,\n",
       "  'reserved2': 0,\n",
       "  'reserved3': '0 '},\n",
       " 'rex_info': None}"
      ]
     },
     "execution_count": 57,
     "metadata": {},
     "output_type": "execute_result"
    }
   ],
   "source": [
    "eosapi.get_account('mtgxinmtgxin')"
   ]
  }
 ],
 "metadata": {
  "kernelspec": {
   "display_name": "Python 3 (ipykernel)",
   "language": "python",
   "name": "python3"
  },
  "language_info": {
   "codemirror_mode": {
    "name": "ipython",
    "version": 3
   },
   "file_extension": ".py",
   "mimetype": "text/x-python",
   "name": "python",
   "nbconvert_exporter": "python",
   "pygments_lexer": "ipython3",
   "version": "3.9.5"
  }
 },
 "nbformat": 4,
 "nbformat_minor": 5
}
