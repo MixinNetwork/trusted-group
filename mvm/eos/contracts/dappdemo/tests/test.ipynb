{
 "cells": [
  {
   "cell_type": "code",
   "execution_count": 6,
   "id": "7ee1089c",
   "metadata": {},
   "outputs": [],
   "source": [
    "from pyeoskit import eosapi\n",
    "eosapi.set_node('http://127.0.0.1:9000')"
   ]
  },
  {
   "cell_type": "code",
   "execution_count": 7,
   "id": "aa66fe7f",
   "metadata": {},
   "outputs": [
    {
     "data": {
      "text/plain": [
       "{'free_bytes': 1067718112,\n",
       " 'used_bytes': 6022688,\n",
       " 'size': 1073740800,\n",
       " 'indices': [{'index': 'eosio::chain::account_ram_correction_object',\n",
       "   'row_count': 0},\n",
       "  {'index': 'eosio::chain::generated_transaction_object', 'row_count': 0},\n",
       "  {'index': 'eosio::chain::kv_object', 'row_count': 0},\n",
       "  {'index': 'eosio::chain::permission_link_object', 'row_count': 0},\n",
       "  {'index': 'eosio::chain::secondary_index<float128_t, 12ull, eosio::chain::soft_long_double_less>::index_object',\n",
       "   'row_count': 0},\n",
       "  {'index': 'eosio::chain::secondary_index<float64_t, 11ull, eosio::chain::soft_double_less>::index_object',\n",
       "   'row_count': 0},\n",
       "  {'index': 'eosio::chain::secondary_index<std::__1::array<unsigned __int128, 2ul>, 10ull, std::__1::less<std::__1::array<unsigned __int128, 2ul> > >::index_object',\n",
       "   'row_count': 0},\n",
       "  {'index': 'eosio::chain::secondary_index<unsigned __int128, 9ull, std::__1::less<unsigned __int128> >::index_object',\n",
       "   'row_count': 0},\n",
       "  {'index': 'eosio::chain::secondary_index<unsigned long long, 8ull, std::__1::less<unsigned long long> >::index_object',\n",
       "   'row_count': 0},\n",
       "  {'index': 'eosio::chain::transaction_object', 'row_count': 0},\n",
       "  {'index': 'eosio::account_control_history_object', 'row_count': 1},\n",
       "  {'index': 'eosio::chain::database_header_object', 'row_count': 1},\n",
       "  {'index': 'eosio::chain::dynamic_global_property_object', 'row_count': 1},\n",
       "  {'index': 'eosio::chain::global_property_object', 'row_count': 1},\n",
       "  {'index': 'eosio::chain::kv_db_config_object', 'row_count': 1},\n",
       "  {'index': 'eosio::chain::protocol_state_object', 'row_count': 1},\n",
       "  {'index': 'eosio::chain::resource_limits::resource_limits_config_object',\n",
       "   'row_count': 1},\n",
       "  {'index': 'eosio::chain::resource_limits::resource_limits_state_object',\n",
       "   'row_count': 1},\n",
       "  {'index': 'eosio::chain::code_object', 'row_count': 4},\n",
       "  {'index': 'eosio::action_history_object', 'row_count': 26},\n",
       "  {'index': 'eosio::chain::account_metadata_object', 'row_count': 28},\n",
       "  {'index': 'eosio::chain::account_object', 'row_count': 28},\n",
       "  {'index': 'eosio::chain::resource_limits::resource_limits_object',\n",
       "   'row_count': 28},\n",
       "  {'index': 'eosio::chain::resource_limits::resource_usage_object',\n",
       "   'row_count': 28},\n",
       "  {'index': 'eosio::chain::table_id_object', 'row_count': 38},\n",
       "  {'index': 'eosio::public_key_history_object', 'row_count': 50},\n",
       "  {'index': 'eosio::account_history_object', 'row_count': 52},\n",
       "  {'index': 'eosio::chain::permission_usage_object', 'row_count': 58},\n",
       "  {'index': 'eosio::chain::permission_object', 'row_count': 59},\n",
       "  {'index': 'eosio::chain::key_value_object', 'row_count': 78},\n",
       "  {'index': 'eosio::chain::block_summary_object', 'row_count': 65536}]}"
      ]
     },
     "execution_count": 7,
     "metadata": {},
     "output_type": "execute_result"
    }
   ],
   "source": [
    "eosapi.get_db_size()"
   ]
  },
  {
   "cell_type": "code",
   "execution_count": 3,
   "id": "54a45f62",
   "metadata": {},
   "outputs": [
    {
     "data": {
      "text/plain": [
       "10008999.0"
      ]
     },
     "execution_count": 3,
     "metadata": {},
     "output_type": "execute_result"
    }
   ],
   "source": [
    "eosapi.get_balance('helloworld11')"
   ]
  },
  {
   "cell_type": "code",
   "execution_count": 1,
   "id": "02c1dc66",
   "metadata": {},
   "outputs": [],
   "source": [
    "import uuid"
   ]
  },
  {
   "cell_type": "code",
   "execution_count": 11,
   "id": "12bf2d2a",
   "metadata": {},
   "outputs": [
    {
     "name": "stdout",
     "output_type": "stream",
     "text": [
      "0x49,0xb0,0x08,0x92,0x69,0x54,0x48,0x26,0xaa,0xec,0x37,0x1c,0xa1,0x65,0x55,0x8a,"
     ]
    }
   ],
   "source": [
    "id = uuid.UUID('49b00892-6954-4826-aaec-371ca165558a')\n",
    "for b in id.bytes:\n",
    "    print('0x%02x'%(b,), end=',')"
   ]
  },
  {
   "cell_type": "code",
   "execution_count": 13,
   "id": "92f8e7cd",
   "metadata": {},
   "outputs": [
    {
     "data": {
      "text/plain": [
       "'49b0089269544826aaec371ca165558a'"
      ]
     },
     "execution_count": 13,
     "metadata": {},
     "output_type": "execute_result"
    }
   ],
   "source": [
    "id.bytes.hex()"
   ]
  },
  {
   "cell_type": "code",
   "execution_count": 42,
   "id": "708c7b70",
   "metadata": {},
   "outputs": [
    {
     "data": {
      "text/plain": [
       "'http://127.0.0.1:9000'"
      ]
     },
     "execution_count": 42,
     "metadata": {},
     "output_type": "execute_result"
    }
   ],
   "source": [
    "eosapi.node_url"
   ]
  },
  {
   "cell_type": "code",
   "execution_count": null,
   "id": "2f5f0a9f",
   "metadata": {},
   "outputs": [],
   "source": []
  },
  {
   "cell_type": "code",
   "execution_count": 18,
   "id": "89facd94",
   "metadata": {},
   "outputs": [],
   "source": [
    "eosapi.set_node('http://127.0.0.1:9000')"
   ]
  },
  {
   "cell_type": "code",
   "execution_count": 63,
   "id": "406ada87",
   "metadata": {},
   "outputs": [],
   "source": [
    "from pyeoskit import wallet\n",
    "wallet.import_key('test', '5Jbh1Dn57DKPUHQ6F6eExX55S2nSFNxZhpZUxNYFjJ1arKGK9Q3')\n",
    "wallet.import_key('test', '5JHRxntHapUryUetZgWdd3cg6BrpZLMJdqhhXnMaZiiT4qdJPhv')\n",
    "wallet.import_key('test', '5Jbb4wuwz8MAzTB9FJNmrVYGXo4ABb7wqPVoWGcZ6x8V2FwNeDo') #helloworld11\n"
   ]
  },
  {
   "cell_type": "code",
   "execution_count": 73,
   "id": "31c21cf8",
   "metadata": {},
   "outputs": [
    {
     "data": {
      "text/plain": [
       "'EOS6AjF6hvF7GSuSd4sCgfPKq5uWaXvGM2aQtEUCwmEHygQaqxBSV'"
      ]
     },
     "execution_count": 73,
     "metadata": {},
     "output_type": "execute_result"
    }
   ],
   "source": [
    "eosapi.get_public_key('5JRYimgLBrRLCBAcjHUWCYRv3asNedTYYzVgmiU4q2ZVxMBiJXL')"
   ]
  },
  {
   "cell_type": "code",
   "execution_count": 70,
   "id": "b79c4132",
   "metadata": {},
   "outputs": [
    {
     "data": {
      "text/plain": [
       "'EOS7sPDxfw5yx5SZgQcVb57zS1XeSWLNpQKhaGjjy2qe61BrAQ49o'"
      ]
     },
     "execution_count": 70,
     "metadata": {},
     "output_type": "execute_result"
    }
   ],
   "source": [
    "eosapi.get_public_key('5Jbb4wuwz8MAzTB9FJNmrVYGXo4ABb7wqPVoWGcZ6x8V2FwNeDo')"
   ]
  },
  {
   "cell_type": "code",
   "execution_count": 65,
   "id": "3b9d9eeb",
   "metadata": {
    "scrolled": true
   },
   "outputs": [
    {
     "data": {
      "text/plain": [
       "{'transaction_id': '76a4e8de30b0bc0890fffd01c7a9fb3ccabb2ceb3c3da0f139559e6c71735200',\n",
       " 'processed': {'id': '76a4e8de30b0bc0890fffd01c7a9fb3ccabb2ceb3c3da0f139559e6c71735200',\n",
       "  'block_num': 1866,\n",
       "  'block_time': '2021-11-25T04:06:37.000',\n",
       "  'producer_block_id': None,\n",
       "  'receipt': {'status': 'executed',\n",
       "   'cpu_usage_us': 159,\n",
       "   'net_usage_words': 13},\n",
       "  'elapsed': 159,\n",
       "  'net_usage': 104,\n",
       "  'scheduled': False,\n",
       "  'action_traces': [{'action_ordinal': 1,\n",
       "    'creator_action_ordinal': 0,\n",
       "    'closest_unnotified_ancestor_action_ordinal': 0,\n",
       "    'receipt': {'receiver': 'mtgxinmtgxin',\n",
       "     'act_digest': '4132fba58664af9a898bf2715646c8fe3089634701d49d1d9a7e29a750156162',\n",
       "     'global_sequence': 2127,\n",
       "     'recv_sequence': 2,\n",
       "     'auth_sequence': [['helloworld11', 20]],\n",
       "     'code_sequence': 0,\n",
       "     'abi_sequence': 0},\n",
       "    'receiver': 'mtgxinmtgxin',\n",
       "    'act': {'account': 'mtgxinmtgxin',\n",
       "     'name': 'txrequest',\n",
       "     'authorization': [{'actor': 'helloworld11', 'permission': 'active'}],\n",
       "     'data': '68656c6c6f2c776f726c64'},\n",
       "    'context_free': False,\n",
       "    'elapsed': 20,\n",
       "    'console': '',\n",
       "    'trx_id': '76a4e8de30b0bc0890fffd01c7a9fb3ccabb2ceb3c3da0f139559e6c71735200',\n",
       "    'block_num': 1866,\n",
       "    'block_time': '2021-11-25T04:06:37.000',\n",
       "    'producer_block_id': None,\n",
       "    'account_ram_deltas': [],\n",
       "    'account_disk_deltas': [],\n",
       "    'except': None,\n",
       "    'error_code': None,\n",
       "    'return_value_hex_data': '',\n",
       "    'inline_traces': []}],\n",
       "  'account_ram_delta': None,\n",
       "  'except': None,\n",
       "  'error_code': None}}"
      ]
     },
     "execution_count": 65,
     "metadata": {},
     "output_type": "execute_result"
    }
   ],
   "source": [
    "eosapi.push_action('mtgxinmtgxin', 'txrequest', b'hello,world', {\"helloworld11\":\"active\"})"
   ]
  },
  {
   "cell_type": "code",
   "execution_count": 92,
   "id": "f7c6c9c8",
   "metadata": {
    "scrolled": true
   },
   "outputs": [
    {
     "data": {
      "text/plain": [
       "{'actions': [{'global_action_seq': 68365,\n",
       "   'account_action_seq': 2,\n",
       "   'block_num': 68077,\n",
       "   'block_time': '2021-11-25T13:18:22.500',\n",
       "   'action_trace': {'action_ordinal': 2,\n",
       "    'creator_action_ordinal': 1,\n",
       "    'closest_unnotified_ancestor_action_ordinal': 1,\n",
       "    'receipt': {'receiver': 'mtgxinmtgxin',\n",
       "     'act_digest': '638d0cf207bb6fd1a908f9d8150e0c0f89cda209d48bdff8e3a0f870cffa9e6b',\n",
       "     'global_sequence': 68365,\n",
       "     'recv_sequence': 3,\n",
       "     'auth_sequence': [['helloworld11', 46]],\n",
       "     'code_sequence': 0,\n",
       "     'abi_sequence': 0},\n",
       "    'receiver': 'mtgxinmtgxin',\n",
       "    'act': {'account': 'mtgxinmtgxin',\n",
       "     'name': 'txrequest',\n",
       "     'authorization': [{'actor': 'helloworld11', 'permission': 'active'}],\n",
       "     'data': '730600000000000000060000000000000049b0089269544826aaec371ca165558a965e5c6e434c3fa9b780c50f43cd955c012466333262623661622d316134642d343462622d383932662d663031323932333964663839010000009539480000000000000000000000000000c809e9d10cccba16'},\n",
       "    'context_free': False,\n",
       "    'elapsed': 6,\n",
       "    'console': '',\n",
       "    'trx_id': 'a26ca8eaa443f612c75294baedce8da47e8d7e36ca5bc7388cfaebfdb2d3dc97',\n",
       "    'block_num': 68077,\n",
       "    'block_time': '2021-11-25T13:18:22.500',\n",
       "    'producer_block_id': None,\n",
       "    'account_ram_deltas': [],\n",
       "    'account_disk_deltas': [],\n",
       "    'except': None,\n",
       "    'error_code': None,\n",
       "    'return_value_hex_data': ''}},\n",
       "  {'global_action_seq': 68366,\n",
       "   'account_action_seq': 3,\n",
       "   'block_num': 68077,\n",
       "   'block_time': '2021-11-25T13:18:22.500',\n",
       "   'action_trace': {'action_ordinal': 3,\n",
       "    'creator_action_ordinal': 1,\n",
       "    'closest_unnotified_ancestor_action_ordinal': 1,\n",
       "    'receipt': {'receiver': 'mtgxinmtgxin',\n",
       "     'act_digest': '7b1241ba41a8dc30179cdb6594a6063e9a4c8ac201a94c1f91b5774a36a9d779',\n",
       "     'global_sequence': 68366,\n",
       "     'recv_sequence': 4,\n",
       "     'auth_sequence': [['helloworld11', 47]],\n",
       "     'code_sequence': 0,\n",
       "     'abi_sequence': 0},\n",
       "    'receiver': 'mtgxinmtgxin',\n",
       "    'act': {'account': 'mtgxinmtgxin',\n",
       "     'name': 'txrequest',\n",
       "     'authorization': [{'actor': 'helloworld11', 'permission': 'active'}],\n",
       "     'data': '730700000000000000070000000000000049b0089269544826aaec371ca165558a965e5c6e434c3fa9b780c50f43cd955c012466333262623661622d316134642d343462622d383932662d663031323932333964663839010000009539480000000000000000000000000000c809e9d10cccba16'},\n",
       "    'context_free': False,\n",
       "    'elapsed': 4,\n",
       "    'console': '',\n",
       "    'trx_id': 'a26ca8eaa443f612c75294baedce8da47e8d7e36ca5bc7388cfaebfdb2d3dc97',\n",
       "    'block_num': 68077,\n",
       "    'block_time': '2021-11-25T13:18:22.500',\n",
       "    'producer_block_id': None,\n",
       "    'account_ram_deltas': [],\n",
       "    'account_disk_deltas': [],\n",
       "    'except': None,\n",
       "    'error_code': None,\n",
       "    'return_value_hex_data': ''}},\n",
       "  {'global_action_seq': 68367,\n",
       "   'account_action_seq': 4,\n",
       "   'block_num': 68077,\n",
       "   'block_time': '2021-11-25T13:18:22.500',\n",
       "   'action_trace': {'action_ordinal': 4,\n",
       "    'creator_action_ordinal': 1,\n",
       "    'closest_unnotified_ancestor_action_ordinal': 1,\n",
       "    'receipt': {'receiver': 'mtgxinmtgxin',\n",
       "     'act_digest': '60fa40ec5c44ae6872e5632193be643b15beb0217140b79ef3276f1e0b8b594a',\n",
       "     'global_sequence': 68367,\n",
       "     'recv_sequence': 5,\n",
       "     'auth_sequence': [['helloworld11', 48]],\n",
       "     'code_sequence': 0,\n",
       "     'abi_sequence': 0},\n",
       "    'receiver': 'mtgxinmtgxin',\n",
       "    'act': {'account': 'mtgxinmtgxin',\n",
       "     'name': 'txrequest',\n",
       "     'authorization': [{'actor': 'helloworld11', 'permission': 'active'}],\n",
       "     'data': '730800000000000000080000000000000049b0089269544826aaec371ca165558a965e5c6e434c3fa9b780c50f43cd955c012466333262623661622d316134642d343462622d383932662d663031323932333964663839010000009539480000000000000000000000000000c809e9d10cccba16'},\n",
       "    'context_free': False,\n",
       "    'elapsed': 5,\n",
       "    'console': '',\n",
       "    'trx_id': 'a26ca8eaa443f612c75294baedce8da47e8d7e36ca5bc7388cfaebfdb2d3dc97',\n",
       "    'block_num': 68077,\n",
       "    'block_time': '2021-11-25T13:18:22.500',\n",
       "    'producer_block_id': None,\n",
       "    'account_ram_deltas': [],\n",
       "    'account_disk_deltas': [],\n",
       "    'except': None,\n",
       "    'error_code': None,\n",
       "    'return_value_hex_data': ''}}],\n",
       " 'last_irreversible_block': 69735}"
      ]
     },
     "execution_count": 92,
     "metadata": {},
     "output_type": "execute_result"
    }
   ],
   "source": [
    "eosapi.get_actions('mtgxinmtgxin', 2, 100)"
   ]
  },
  {
   "cell_type": "code",
   "execution_count": 93,
   "id": "8b278b26",
   "metadata": {},
   "outputs": [
    {
     "data": {
      "text/plain": [
       "b's\\x0e\\x00\\x00\\x00\\x00\\x00\\x00\\x00\\x0e\\x00\\x00\\x00\\x00\\x00\\x00\\x00I\\xb0\\x08\\x92iTH&\\xaa\\xec7\\x1c\\xa1eU\\x8a\\x96^\\\\nCL?\\xa9\\xb7\\x80\\xc5\\x0fC\\xcd\\x95\\\\\\x01$f32bb6ab-1a4d-44bb-892f-f0129239df89\\x01\\x00\\x00\\x00\\xca\\xbbH\\x00\\x00\\x00\\x00\\x00\\x00\\x00\\x00\\x00\\x00\\x00\\x00\\x00\\x00 \\xb4\\xb4\\x9b;\\xce\\xba\\x16'"
      ]
     },
     "execution_count": 93,
     "metadata": {},
     "output_type": "execute_result"
    }
   ],
   "source": [
    "bytes.fromhex('730e000000000000000e0000000000000049b0089269544826aaec371ca165558a965e5c6e434c3fa9b780c50f43cd955c012466333262623661622d316134642d343462622d383932662d66303132393233396466383901000000cabb48000000000000000000000000000020b4b49b3bceba16')"
   ]
  },
  {
   "cell_type": "code",
   "execution_count": 100,
   "id": "92d7e039",
   "metadata": {},
   "outputs": [
    {
     "data": {
      "text/plain": [
       "{'rows': [{'Id': 1, 'Count': 1}, {'Id': 2, 'Count': 17}],\n",
       " 'more': False,\n",
       " 'next_key': '',\n",
       " 'next_key_bytes': ''}"
      ]
     },
     "execution_count": 100,
     "metadata": {},
     "output_type": "execute_result"
    }
   ],
   "source": [
    "eosapi.get_table_rows(True, 'helloworld11', 'helloworld11', \"counters\", \"\", \"\", 10)"
   ]
  },
  {
   "cell_type": "code",
   "execution_count": 11,
   "id": "16775448",
   "metadata": {},
   "outputs": [
    {
     "data": {
      "text/plain": [
       "{'actions': [], 'last_irreversible_block': 117814}"
      ]
     },
     "execution_count": 11,
     "metadata": {},
     "output_type": "execute_result"
    }
   ],
   "source": [
    "eosapi.get_actions('helloworld11', 26, 100)"
   ]
  },
  {
   "cell_type": "code",
   "execution_count": 17,
   "id": "e8fccdf2",
   "metadata": {},
   "outputs": [
    {
     "data": {
      "text/plain": [
       "{'actions': [{'global_action_seq': 118862,\n",
       "   'account_action_seq': 26,\n",
       "   'block_num': 118418,\n",
       "   'block_time': '2021-11-26T03:02:25.000',\n",
       "   'action_trace': {'action_ordinal': 1,\n",
       "    'creator_action_ordinal': 0,\n",
       "    'closest_unnotified_ancestor_action_ordinal': 0,\n",
       "    'receipt': {'receiver': 'mtgxinmtgxin',\n",
       "     'act_digest': 'a16e537f18345f1daa5d151d10a14186ce838ba565d07eac404780b1a7005272',\n",
       "     'global_sequence': 118862,\n",
       "     'recv_sequence': 30,\n",
       "     'auth_sequence': [['mtgxinmtgxin', 102]],\n",
       "     'code_sequence': 2,\n",
       "     'abi_sequence': 2},\n",
       "    'receiver': 'mtgxinmtgxin',\n",
       "    'act': {'account': 'mtgxinmtgxin',\n",
       "     'name': 'txrequest',\n",
       "     'authorization': [{'actor': 'mtgxinmtgxin', 'permission': 'active'}],\n",
       "     'data': ''},\n",
       "    'context_free': False,\n",
       "    'elapsed': 15,\n",
       "    'console': '',\n",
       "    'trx_id': '872e29fe3dac2814c4dcc544d8a0004e68090eb7c612585f86bf17efd27f4243',\n",
       "    'block_num': 118418,\n",
       "    'block_time': '2021-11-26T03:02:25.000',\n",
       "    'producer_block_id': None,\n",
       "    'account_ram_deltas': [],\n",
       "    'account_disk_deltas': [],\n",
       "    'except': None,\n",
       "    'error_code': None,\n",
       "    'return_value_hex_data': ''}}],\n",
       " 'last_irreversible_block': 118577}"
      ]
     },
     "execution_count": 17,
     "metadata": {},
     "output_type": "execute_result"
    }
   ],
   "source": [
    "eosapi.get_actions('mtgxinmtgxin', 26, 100)"
   ]
  },
  {
   "cell_type": "code",
   "execution_count": 29,
   "id": "002d68ee",
   "metadata": {
    "scrolled": true
   },
   "outputs": [
    {
     "data": {
      "text/plain": [
       "{'id': '872e29fe3dac2814c4dcc544d8a0004e68090eb7c612585f86bf17efd27f4243',\n",
       " 'trx': {'receipt': {'status': 'executed',\n",
       "   'cpu_usage_us': 100,\n",
       "   'net_usage_words': 0,\n",
       "   'trx': [0,\n",
       "    '872e29fe3dac2814c4dcc544d8a0004e68090eb7c612585f86bf17efd27f4243']}},\n",
       " 'block_time': '2021-11-26T03:02:25.000',\n",
       " 'block_num': 118418,\n",
       " 'last_irreversible_block': 121081,\n",
       " 'traces': [{'action_ordinal': 1,\n",
       "   'creator_action_ordinal': 0,\n",
       "   'closest_unnotified_ancestor_action_ordinal': 0,\n",
       "   'receipt': {'receiver': 'mtgxinmtgxin',\n",
       "    'act_digest': 'a16e537f18345f1daa5d151d10a14186ce838ba565d07eac404780b1a7005272',\n",
       "    'global_sequence': 118862,\n",
       "    'recv_sequence': 30,\n",
       "    'auth_sequence': [['mtgxinmtgxin', 102]],\n",
       "    'code_sequence': 2,\n",
       "    'abi_sequence': 2},\n",
       "   'receiver': 'mtgxinmtgxin',\n",
       "   'act': {'account': 'mtgxinmtgxin',\n",
       "    'name': 'txrequest',\n",
       "    'authorization': [{'actor': 'mtgxinmtgxin', 'permission': 'active'}],\n",
       "    'data': ''},\n",
       "   'context_free': False,\n",
       "   'elapsed': 15,\n",
       "   'console': '',\n",
       "   'trx_id': '872e29fe3dac2814c4dcc544d8a0004e68090eb7c612585f86bf17efd27f4243',\n",
       "   'block_num': 118418,\n",
       "   'block_time': '2021-11-26T03:02:25.000',\n",
       "   'producer_block_id': None,\n",
       "   'account_ram_deltas': [],\n",
       "   'account_disk_deltas': [],\n",
       "   'except': None,\n",
       "   'error_code': None,\n",
       "   'return_value_hex_data': ''}]}"
      ]
     },
     "execution_count": 29,
     "metadata": {},
     "output_type": "execute_result"
    }
   ],
   "source": [
    "eosapi.get_transaction('872e29fe3dac2814c4dcc544d8a0004e68090eb7c612585f86bf17efd27f4243')"
   ]
  },
  {
   "cell_type": "code",
   "execution_count": 25,
   "id": "42ac5b85",
   "metadata": {},
   "outputs": [
    {
     "data": {
      "text/plain": [
       "{'transactions': [], 'more': ''}"
      ]
     },
     "execution_count": 25,
     "metadata": {},
     "output_type": "execute_result"
    }
   ],
   "source": [
    "eosapi.get_scheduled_transactions(True, \"\")"
   ]
  },
  {
   "cell_type": "code",
   "execution_count": null,
   "id": "a7795fbf",
   "metadata": {},
   "outputs": [],
   "source": [
    "eosapi.get_scheduled_transactions(True, \"\")"
   ]
  },
  {
   "cell_type": "code",
   "execution_count": 35,
   "id": "d5cf1dd6",
   "metadata": {
    "scrolled": true
   },
   "outputs": [
    {
     "data": {
      "text/plain": [
       "{'rows': [{'contract': '4t45cugm12s4d',\n",
       "   'process': '141745048362701861228253211456303525034'},\n",
       "  {'contract': 'helloworld11',\n",
       "   'process': '183876869939131173236693101619586838601'}],\n",
       " 'more': False,\n",
       " 'next_key': '',\n",
       " 'next_key_bytes': ''}"
      ]
     },
     "execution_count": 35,
     "metadata": {},
     "output_type": "execute_result"
    }
   ],
   "source": [
    "eosapi.get_table_rows(True, 'mtgxinmtgxin', 'mtgxinmtgxin', 'processes', '', '', 10)"
   ]
  },
  {
   "cell_type": "code",
   "execution_count": 38,
   "id": "eaff5062",
   "metadata": {},
   "outputs": [
    {
     "data": {
      "text/plain": [
       "{'rows': [{'nonce': 1,\n",
       "   'contract': 'helloworld11',\n",
       "   'process': '183876869939131173236693101619586838601',\n",
       "   'asset': '123066791051270628056592602402968592022',\n",
       "   'members': ['183263285292506973242205671961526676467'],\n",
       "   'threshold': 1,\n",
       "   'amount': '4966666',\n",
       "   'extra': '',\n",
       "   'timestamp': 0},\n",
       "  {'nonce': 2,\n",
       "   'contract': 'helloworld11',\n",
       "   'process': '183876869939131173236693101619586838601',\n",
       "   'asset': '123066791051270628056592602402968592022',\n",
       "   'members': ['183263285292506973242205671961526676467'],\n",
       "   'threshold': 1,\n",
       "   'amount': '4966666',\n",
       "   'extra': '',\n",
       "   'timestamp': 0},\n",
       "  {'nonce': 3,\n",
       "   'contract': 'helloworld11',\n",
       "   'process': '183876869939131173236693101619586838601',\n",
       "   'asset': '123066791051270628056592602402968592022',\n",
       "   'members': ['183263285292506973242205671961526676467'],\n",
       "   'threshold': 1,\n",
       "   'amount': '4966666',\n",
       "   'extra': '',\n",
       "   'timestamp': 0}],\n",
       " 'more': False,\n",
       " 'next_key': '',\n",
       " 'next_key_bytes': ''}"
      ]
     },
     "execution_count": 38,
     "metadata": {},
     "output_type": "execute_result"
    }
   ],
   "source": [
    "eosapi.get_table_rows(True, 'helloworld11', 'helloworld11', 'txrequests', '', '', 10)"
   ]
  },
  {
   "cell_type": "code",
   "execution_count": 40,
   "id": "9e73ec16",
   "metadata": {
    "scrolled": true
   },
   "outputs": [
    {
     "data": {
      "text/plain": [
       "{'actions': [{'global_action_seq': 4334,\n",
       "   'account_action_seq': 0,\n",
       "   'block_num': 3041,\n",
       "   'block_time': '2021-11-26T07:51:45.000',\n",
       "   'action_trace': {'action_ordinal': 5,\n",
       "    'creator_action_ordinal': 2,\n",
       "    'closest_unnotified_ancestor_action_ordinal': 2,\n",
       "    'receipt': {'receiver': 'mtgxinmtgxin',\n",
       "     'act_digest': 'ef96c950128a3c3f020aeb536b596d3eaf96fe0bb1c1044e554a383a1e45d6bf',\n",
       "     'global_sequence': 4334,\n",
       "     'recv_sequence': 5,\n",
       "     'auth_sequence': [['mtgxinmtgxin', 1015]],\n",
       "     'code_sequence': 3,\n",
       "     'abi_sequence': 3},\n",
       "    'receiver': 'mtgxinmtgxin',\n",
       "    'act': {'account': 'mtgxinmtgxin',\n",
       "     'name': 'ontxlog',\n",
       "     'authorization': [{'actor': 'mtgxinmtgxin', 'permission': 'active'}],\n",
       "     'data': '0100000000000000010000000000000010428a97721aa36a49b0089269544826aaec371ca165558a965e5c6e434c3fa9b780c50f43cd955c01f32bb6ab1a4d44bb892ff0129239df89010000000ac94b0000000000000000000000000000006a7b7c4a09bb16'},\n",
       "    'context_free': False,\n",
       "    'elapsed': 13,\n",
       "    'console': '',\n",
       "    'trx_id': '409a0f7e1fafd645564b761f5a179ff15f518a60f711d29fc1747ffa3f897503',\n",
       "    'block_num': 3041,\n",
       "    'block_time': '2021-11-26T07:51:45.000',\n",
       "    'producer_block_id': None,\n",
       "    'account_ram_deltas': [],\n",
       "    'account_disk_deltas': [],\n",
       "    'except': None,\n",
       "    'error_code': None,\n",
       "    'return_value_hex_data': ''}},\n",
       "  {'global_action_seq': 4336,\n",
       "   'account_action_seq': 1,\n",
       "   'block_num': 3041,\n",
       "   'block_time': '2021-11-26T07:51:45.000',\n",
       "   'action_trace': {'action_ordinal': 6,\n",
       "    'creator_action_ordinal': 3,\n",
       "    'closest_unnotified_ancestor_action_ordinal': 3,\n",
       "    'receipt': {'receiver': 'mtgxinmtgxin',\n",
       "     'act_digest': '3cc94d27310a71a07c83786776cbe7b1f810a4f12998aad90a869948847a5a28',\n",
       "     'global_sequence': 4336,\n",
       "     'recv_sequence': 7,\n",
       "     'auth_sequence': [['mtgxinmtgxin', 1016]],\n",
       "     'code_sequence': 3,\n",
       "     'abi_sequence': 3},\n",
       "    'receiver': 'mtgxinmtgxin',\n",
       "    'act': {'account': 'mtgxinmtgxin',\n",
       "     'name': 'ontxlog',\n",
       "     'authorization': [{'actor': 'mtgxinmtgxin', 'permission': 'active'}],\n",
       "     'data': '0200000000000000020000000000000010428a97721aa36a49b0089269544826aaec371ca165558a965e5c6e434c3fa9b780c50f43cd955c01f32bb6ab1a4d44bb892ff0129239df89010000000ac94b0000000000000000000000000000006a7b7c4a09bb16'},\n",
       "    'context_free': False,\n",
       "    'elapsed': 12,\n",
       "    'console': '',\n",
       "    'trx_id': '409a0f7e1fafd645564b761f5a179ff15f518a60f711d29fc1747ffa3f897503',\n",
       "    'block_num': 3041,\n",
       "    'block_time': '2021-11-26T07:51:45.000',\n",
       "    'producer_block_id': None,\n",
       "    'account_ram_deltas': [],\n",
       "    'account_disk_deltas': [],\n",
       "    'except': None,\n",
       "    'error_code': None,\n",
       "    'return_value_hex_data': ''}},\n",
       "  {'global_action_seq': 4338,\n",
       "   'account_action_seq': 2,\n",
       "   'block_num': 3041,\n",
       "   'block_time': '2021-11-26T07:51:45.000',\n",
       "   'action_trace': {'action_ordinal': 7,\n",
       "    'creator_action_ordinal': 4,\n",
       "    'closest_unnotified_ancestor_action_ordinal': 4,\n",
       "    'receipt': {'receiver': 'mtgxinmtgxin',\n",
       "     'act_digest': '685d478cad8066e931fdd5b1bd3f4643033795790d3f73583a4c62a83e1de9c7',\n",
       "     'global_sequence': 4338,\n",
       "     'recv_sequence': 9,\n",
       "     'auth_sequence': [['mtgxinmtgxin', 1017]],\n",
       "     'code_sequence': 3,\n",
       "     'abi_sequence': 3},\n",
       "    'receiver': 'mtgxinmtgxin',\n",
       "    'act': {'account': 'mtgxinmtgxin',\n",
       "     'name': 'ontxlog',\n",
       "     'authorization': [{'actor': 'mtgxinmtgxin', 'permission': 'active'}],\n",
       "     'data': '0300000000000000030000000000000010428a97721aa36a49b0089269544826aaec371ca165558a965e5c6e434c3fa9b780c50f43cd955c01f32bb6ab1a4d44bb892ff0129239df89010000000ac94b0000000000000000000000000000006a7b7c4a09bb16'},\n",
       "    'context_free': False,\n",
       "    'elapsed': 11,\n",
       "    'console': '',\n",
       "    'trx_id': '409a0f7e1fafd645564b761f5a179ff15f518a60f711d29fc1747ffa3f897503',\n",
       "    'block_num': 3041,\n",
       "    'block_time': '2021-11-26T07:51:45.000',\n",
       "    'producer_block_id': None,\n",
       "    'account_ram_deltas': [],\n",
       "    'account_disk_deltas': [],\n",
       "    'except': None,\n",
       "    'error_code': None,\n",
       "    'return_value_hex_data': ''}},\n",
       "  {'global_action_seq': 6246,\n",
       "   'account_action_seq': 3,\n",
       "   'block_num': 4939,\n",
       "   'block_time': '2021-11-26T08:07:34.000',\n",
       "   'action_trace': {'action_ordinal': 5,\n",
       "    'creator_action_ordinal': 2,\n",
       "    'closest_unnotified_ancestor_action_ordinal': 2,\n",
       "    'receipt': {'receiver': 'mtgxinmtgxin',\n",
       "     'act_digest': '3cf897a298c067ff2b698f6fe1053f8adffc49a512647921e0a016a09c1667de',\n",
       "     'global_sequence': 6246,\n",
       "     'recv_sequence': 11,\n",
       "     'auth_sequence': [['mtgxinmtgxin', 1023]],\n",
       "     'code_sequence': 3,\n",
       "     'abi_sequence': 3},\n",
       "    'receiver': 'mtgxinmtgxin',\n",
       "    'act': {'account': 'mtgxinmtgxin',\n",
       "     'name': 'ontxlog',\n",
       "     'authorization': [{'actor': 'mtgxinmtgxin', 'permission': 'active'}],\n",
       "     'data': '0400000000000000040000000000000010428a97721aa36a49b0089269544826aaec371ca165558a965e5c6e434c3fa9b780c50f43cd955c01f32bb6ab1a4d44bb892ff0129239df8901000000e0d14d0000000000000000000000000000003c4a71270abb16'},\n",
       "    'context_free': False,\n",
       "    'elapsed': 14,\n",
       "    'console': '',\n",
       "    'trx_id': 'a208b2ad004b6210cdadf8557373a349e8936d1787ba0ad2953fb7407ff394d2',\n",
       "    'block_num': 4939,\n",
       "    'block_time': '2021-11-26T08:07:34.000',\n",
       "    'producer_block_id': None,\n",
       "    'account_ram_deltas': [],\n",
       "    'account_disk_deltas': [],\n",
       "    'except': None,\n",
       "    'error_code': None,\n",
       "    'return_value_hex_data': ''}},\n",
       "  {'global_action_seq': 6248,\n",
       "   'account_action_seq': 4,\n",
       "   'block_num': 4939,\n",
       "   'block_time': '2021-11-26T08:07:34.000',\n",
       "   'action_trace': {'action_ordinal': 6,\n",
       "    'creator_action_ordinal': 3,\n",
       "    'closest_unnotified_ancestor_action_ordinal': 3,\n",
       "    'receipt': {'receiver': 'mtgxinmtgxin',\n",
       "     'act_digest': 'a61cc40ef5e23b6f6c22ed1551be7979729f631ae2f4675a37b1093c112755e7',\n",
       "     'global_sequence': 6248,\n",
       "     'recv_sequence': 13,\n",
       "     'auth_sequence': [['mtgxinmtgxin', 1024]],\n",
       "     'code_sequence': 3,\n",
       "     'abi_sequence': 3},\n",
       "    'receiver': 'mtgxinmtgxin',\n",
       "    'act': {'account': 'mtgxinmtgxin',\n",
       "     'name': 'ontxlog',\n",
       "     'authorization': [{'actor': 'mtgxinmtgxin', 'permission': 'active'}],\n",
       "     'data': '0500000000000000050000000000000010428a97721aa36a49b0089269544826aaec371ca165558a965e5c6e434c3fa9b780c50f43cd955c01f32bb6ab1a4d44bb892ff0129239df8901000000e0d14d0000000000000000000000000000003c4a71270abb16'},\n",
       "    'context_free': False,\n",
       "    'elapsed': 14,\n",
       "    'console': '',\n",
       "    'trx_id': 'a208b2ad004b6210cdadf8557373a349e8936d1787ba0ad2953fb7407ff394d2',\n",
       "    'block_num': 4939,\n",
       "    'block_time': '2021-11-26T08:07:34.000',\n",
       "    'producer_block_id': None,\n",
       "    'account_ram_deltas': [],\n",
       "    'account_disk_deltas': [],\n",
       "    'except': None,\n",
       "    'error_code': None,\n",
       "    'return_value_hex_data': ''}},\n",
       "  {'global_action_seq': 6250,\n",
       "   'account_action_seq': 5,\n",
       "   'block_num': 4939,\n",
       "   'block_time': '2021-11-26T08:07:34.000',\n",
       "   'action_trace': {'action_ordinal': 7,\n",
       "    'creator_action_ordinal': 4,\n",
       "    'closest_unnotified_ancestor_action_ordinal': 4,\n",
       "    'receipt': {'receiver': 'mtgxinmtgxin',\n",
       "     'act_digest': 'a94965d1d0b610ddb8be4ea6b96a59cb3fd7939a151d226ee959cb8bb4029f3d',\n",
       "     'global_sequence': 6250,\n",
       "     'recv_sequence': 15,\n",
       "     'auth_sequence': [['mtgxinmtgxin', 1025]],\n",
       "     'code_sequence': 3,\n",
       "     'abi_sequence': 3},\n",
       "    'receiver': 'mtgxinmtgxin',\n",
       "    'act': {'account': 'mtgxinmtgxin',\n",
       "     'name': 'ontxlog',\n",
       "     'authorization': [{'actor': 'mtgxinmtgxin', 'permission': 'active'}],\n",
       "     'data': '0600000000000000060000000000000010428a97721aa36a49b0089269544826aaec371ca165558a965e5c6e434c3fa9b780c50f43cd955c01f32bb6ab1a4d44bb892ff0129239df8901000000e0d14d0000000000000000000000000000003c4a71270abb16'},\n",
       "    'context_free': False,\n",
       "    'elapsed': 12,\n",
       "    'console': '',\n",
       "    'trx_id': 'a208b2ad004b6210cdadf8557373a349e8936d1787ba0ad2953fb7407ff394d2',\n",
       "    'block_num': 4939,\n",
       "    'block_time': '2021-11-26T08:07:34.000',\n",
       "    'producer_block_id': None,\n",
       "    'account_ram_deltas': [],\n",
       "    'account_disk_deltas': [],\n",
       "    'except': None,\n",
       "    'error_code': None,\n",
       "    'return_value_hex_data': ''}},\n",
       "  {'global_action_seq': 6645,\n",
       "   'account_action_seq': 6,\n",
       "   'block_num': 5331,\n",
       "   'block_time': '2021-11-26T08:10:50.000',\n",
       "   'action_trace': {'action_ordinal': 5,\n",
       "    'creator_action_ordinal': 2,\n",
       "    'closest_unnotified_ancestor_action_ordinal': 2,\n",
       "    'receipt': {'receiver': 'mtgxinmtgxin',\n",
       "     'act_digest': '1c3a2c516c37f34dd5721bf079a38e24e99db293d36c3d0aefc007f14c626444',\n",
       "     'global_sequence': 6645,\n",
       "     'recv_sequence': 17,\n",
       "     'auth_sequence': [['mtgxinmtgxin', 1027]],\n",
       "     'code_sequence': 3,\n",
       "     'abi_sequence': 3},\n",
       "    'receiver': 'mtgxinmtgxin',\n",
       "    'act': {'account': 'mtgxinmtgxin',\n",
       "     'name': 'ontxlog',\n",
       "     'authorization': [{'actor': 'mtgxinmtgxin', 'permission': 'active'}],\n",
       "     'data': '0700000000000000070000000000000010428a97721aa36a49b0089269544826aaec371ca165558a965e5c6e434c3fa9b780c50f43cd955c01f32bb6ab1a4d44bb892ff0129239df890100000015544e000000000000000000000000000000e4cc13550abb16'},\n",
       "    'context_free': False,\n",
       "    'elapsed': 10,\n",
       "    'console': '',\n",
       "    'trx_id': 'b705358e7de2e634d99fb221da37b2776806618660b089770ad461b6ba75ac7d',\n",
       "    'block_num': 5331,\n",
       "    'block_time': '2021-11-26T08:10:50.000',\n",
       "    'producer_block_id': None,\n",
       "    'account_ram_deltas': [],\n",
       "    'account_disk_deltas': [],\n",
       "    'except': None,\n",
       "    'error_code': None,\n",
       "    'return_value_hex_data': ''}},\n",
       "  {'global_action_seq': 6647,\n",
       "   'account_action_seq': 7,\n",
       "   'block_num': 5331,\n",
       "   'block_time': '2021-11-26T08:10:50.000',\n",
       "   'action_trace': {'action_ordinal': 6,\n",
       "    'creator_action_ordinal': 3,\n",
       "    'closest_unnotified_ancestor_action_ordinal': 3,\n",
       "    'receipt': {'receiver': 'mtgxinmtgxin',\n",
       "     'act_digest': '4b1506433d0679efdc9be93a38a0dac0957450e4789fcea5121e383de85d8701',\n",
       "     'global_sequence': 6647,\n",
       "     'recv_sequence': 19,\n",
       "     'auth_sequence': [['mtgxinmtgxin', 1028]],\n",
       "     'code_sequence': 3,\n",
       "     'abi_sequence': 3},\n",
       "    'receiver': 'mtgxinmtgxin',\n",
       "    'act': {'account': 'mtgxinmtgxin',\n",
       "     'name': 'ontxlog',\n",
       "     'authorization': [{'actor': 'mtgxinmtgxin', 'permission': 'active'}],\n",
       "     'data': '0800000000000000080000000000000010428a97721aa36a49b0089269544826aaec371ca165558a965e5c6e434c3fa9b780c50f43cd955c01f32bb6ab1a4d44bb892ff0129239df890100000015544e000000000000000000000000000000e4cc13550abb16'},\n",
       "    'context_free': False,\n",
       "    'elapsed': 8,\n",
       "    'console': '',\n",
       "    'trx_id': 'b705358e7de2e634d99fb221da37b2776806618660b089770ad461b6ba75ac7d',\n",
       "    'block_num': 5331,\n",
       "    'block_time': '2021-11-26T08:10:50.000',\n",
       "    'producer_block_id': None,\n",
       "    'account_ram_deltas': [],\n",
       "    'account_disk_deltas': [],\n",
       "    'except': None,\n",
       "    'error_code': None,\n",
       "    'return_value_hex_data': ''}},\n",
       "  {'global_action_seq': 6649,\n",
       "   'account_action_seq': 8,\n",
       "   'block_num': 5331,\n",
       "   'block_time': '2021-11-26T08:10:50.000',\n",
       "   'action_trace': {'action_ordinal': 7,\n",
       "    'creator_action_ordinal': 4,\n",
       "    'closest_unnotified_ancestor_action_ordinal': 4,\n",
       "    'receipt': {'receiver': 'mtgxinmtgxin',\n",
       "     'act_digest': 'de5857563564f59b6b69efa64176584b68a6526295edb62fb4f5f0e8757c6e93',\n",
       "     'global_sequence': 6649,\n",
       "     'recv_sequence': 21,\n",
       "     'auth_sequence': [['mtgxinmtgxin', 1029]],\n",
       "     'code_sequence': 3,\n",
       "     'abi_sequence': 3},\n",
       "    'receiver': 'mtgxinmtgxin',\n",
       "    'act': {'account': 'mtgxinmtgxin',\n",
       "     'name': 'ontxlog',\n",
       "     'authorization': [{'actor': 'mtgxinmtgxin', 'permission': 'active'}],\n",
       "     'data': '0900000000000000090000000000000010428a97721aa36a49b0089269544826aaec371ca165558a965e5c6e434c3fa9b780c50f43cd955c01f32bb6ab1a4d44bb892ff0129239df890100000015544e000000000000000000000000000000e4cc13550abb16'},\n",
       "    'context_free': False,\n",
       "    'elapsed': 8,\n",
       "    'console': '',\n",
       "    'trx_id': 'b705358e7de2e634d99fb221da37b2776806618660b089770ad461b6ba75ac7d',\n",
       "    'block_num': 5331,\n",
       "    'block_time': '2021-11-26T08:10:50.000',\n",
       "    'producer_block_id': None,\n",
       "    'account_ram_deltas': [],\n",
       "    'account_disk_deltas': [],\n",
       "    'except': None,\n",
       "    'error_code': None,\n",
       "    'return_value_hex_data': ''}}],\n",
       " 'last_irreversible_block': 5826}"
      ]
     },
     "execution_count": 40,
     "metadata": {},
     "output_type": "execute_result"
    }
   ],
   "source": [
    "eosapi.get_actions('mtgxinmtgxin', 0, 100)"
   ]
  },
  {
   "cell_type": "code",
   "execution_count": 42,
   "id": "b8709182",
   "metadata": {},
   "outputs": [
    {
     "ename": "SyntaxError",
     "evalue": "invalid syntax (2459366386.py, line 3)",
     "output_type": "error",
     "traceback": [
      "\u001b[0;36m  File \u001b[0;32m\"/var/folders/pv/678xdw3s56xggsvz36r65kzr0000gp/T/ipykernel_74988/2459366386.py\"\u001b[0;36m, line \u001b[0;32m3\u001b[0m\n\u001b[0;31m    \"ref_block_num\":37566\u001b[0m\n\u001b[0m                   ^\u001b[0m\n\u001b[0;31mSyntaxError\u001b[0m\u001b[0;31m:\u001b[0m invalid syntax\n"
     ]
    }
   ],
   "source": []
  },
  {
   "cell_type": "code",
   "execution_count": null,
   "id": "831dbabb",
   "metadata": {},
   "outputs": [],
   "source": [
    "Hi,guys. Go Smart Contracts Development Kit project needs your support. We need a better Smart Contract language.\n",
    "n"
   ]
  },
  {
   "cell_type": "code",
   "execution_count": 104,
   "id": "afd692e2",
   "metadata": {
    "scrolled": true
   },
   "outputs": [
    {
     "data": {
      "text/plain": [
       "{'actions': [], 'last_irreversible_block': 79088}"
      ]
     },
     "execution_count": 104,
     "metadata": {},
     "output_type": "execute_result"
    }
   ],
   "source": [
    "aa"
   ]
  },
  {
   "cell_type": "code",
   "execution_count": 72,
   "id": "b7e34e70",
   "metadata": {
    "scrolled": true
   },
   "outputs": [
    {
     "data": {
      "text/plain": [
       "{'account_name': 'helloworld11',\n",
       " 'head_block_num': 17005,\n",
       " 'head_block_time': '2021-11-25T06:12:46.500',\n",
       " 'privileged': False,\n",
       " 'last_code_update': '2021-11-25T05:53:06.000',\n",
       " 'created': '2021-11-25T03:51:05.500',\n",
       " 'core_liquid_balance': '10008972.6151 EOS',\n",
       " 'ram_quota': 15730019,\n",
       " 'net_weight': 20000,\n",
       " 'cpu_weight': 10010000,\n",
       " 'net_limit': {'used': 25585,\n",
       "  'available': '22649241574415',\n",
       "  'max': '22649241600000',\n",
       "  'last_usage_update_time': '2021-11-25T05:57:02.000',\n",
       "  'current_used': 25306},\n",
       " 'cpu_limit': {'used': 16272,\n",
       "  'available': 69171877,\n",
       "  'max': 69188149,\n",
       "  'last_usage_update_time': '2021-11-25T05:57:02.000',\n",
       "  'current_used': 16094},\n",
       " 'ram_usage': 126393,\n",
       " 'permissions': [{'perm_name': 'active',\n",
       "   'parent': 'owner',\n",
       "   'required_auth': {'threshold': 1,\n",
       "    'keys': [{'key': 'EOS6AjF6hvF7GSuSd4sCgfPKq5uWaXvGM2aQtEUCwmEHygQaqxBSV',\n",
       "      'weight': 1}],\n",
       "    'accounts': [{'permission': {'actor': 'helloworld11',\n",
       "       'permission': 'eosio.code'},\n",
       "      'weight': 1}],\n",
       "    'waits': []}},\n",
       "  {'perm_name': 'owner',\n",
       "   'parent': '',\n",
       "   'required_auth': {'threshold': 1,\n",
       "    'keys': [{'key': 'EOS7sPDxfw5yx5SZgQcVb57zS1XeSWLNpQKhaGjjy2qe61BrAQ49o',\n",
       "      'weight': 1}],\n",
       "    'accounts': [],\n",
       "    'waits': []}}],\n",
       " 'total_resources': {'owner': 'helloworld11',\n",
       "  'net_weight': '2.0000 EOS',\n",
       "  'cpu_weight': '1001.0000 EOS',\n",
       "  'ram_bytes': 15728619},\n",
       " 'self_delegated_bandwidth': {'from': 'helloworld11',\n",
       "  'to': 'helloworld11',\n",
       "  'net_weight': '1.0000 EOS',\n",
       "  'cpu_weight': '1000.0000 EOS'},\n",
       " 'refund_request': None,\n",
       " 'voter_info': {'owner': 'helloworld11',\n",
       "  'proxy': '',\n",
       "  'producers': [],\n",
       "  'staked': 10010000,\n",
       "  'last_vote_weight': '0.00000000000000000',\n",
       "  'proxied_vote_weight': '0.00000000000000000',\n",
       "  'is_proxy': 0,\n",
       "  'flags1': 0,\n",
       "  'reserved2': 0,\n",
       "  'reserved3': '0 '},\n",
       " 'rex_info': None}"
      ]
     },
     "execution_count": 72,
     "metadata": {},
     "output_type": "execute_result"
    }
   ],
   "source": [
    "eosapi.get_account('helloworld11')"
   ]
  },
  {
   "cell_type": "code",
   "execution_count": 74,
   "id": "04b5fd2d",
   "metadata": {},
   "outputs": [
    {
     "data": {
      "text/plain": [
       "['EOS6AjF6hvF7GSuSd4sCgfPKq5uWaXvGM2aQtEUCwmEHygQaqxBSV']"
      ]
     },
     "execution_count": 74,
     "metadata": {},
     "output_type": "execute_result"
    }
   ],
   "source": [
    "a = '{\"expiration\":\"2021-11-25T06:11:12\",\"ref_block_num\":16695,\"ref_block_prefix\":2758899481,\"max_net_usage_words\":0,\"max_cpu_usage_ms\":0,\"delay_sec\":0,\"context_free_actions\":[],\"actions\":[{\"account\":\"helloworld11\",\"name\":\"onevent\",\"authorization\":[{\"actor\":\"helloworld11\",\"permission\":\"active\"}],\"data\":\"000000000000000049b0089269544826aaec371ca165558a965e5c6e434c3fa9b780c50f43cd955c012466333262623661622d316134642d343462622d383932662d66303132393233396466383901000000e018d400000000000000000000000000009015d74cc5b3ba164034712db37e4336836dfa30691196af76d0603af8ba64196d26bd82c8d3a722b351dfd9a496df02a3b084d7b5318d405ff2ddf9d14aadd37a5a70b31c0a7485e1\"}],\"transaction_extensions\":[]}'\n",
    "eosapi.get_required_keys(a, ['EOS6AjF6hvF7GSuSd4sCgfPKq5uWaXvGM2aQtEUCwmEHygQaqxBSV'])\n"
   ]
  },
  {
   "cell_type": "code",
   "execution_count": 56,
   "id": "a6188e73",
   "metadata": {
    "scrolled": true
   },
   "outputs": [
    {
     "data": {
      "text/plain": [
       "{'action_ordinal': 1,\n",
       " 'creator_action_ordinal': 0,\n",
       " 'closest_unnotified_ancestor_action_ordinal': 0,\n",
       " 'receipt': {'receiver': 'helloworld11',\n",
       "  'act_digest': '7b3f40f9927387f8d310972ffb6b5b92118b8d38e82eb5568ba9482b4e4425b0',\n",
       "  'global_sequence': 282,\n",
       "  'recv_sequence': 4,\n",
       "  'auth_sequence': [['helloworld12', 5]],\n",
       "  'code_sequence': 0,\n",
       "  'abi_sequence': 0},\n",
       " 'receiver': 'helloworld11',\n",
       " 'act': {'account': 'helloworld11',\n",
       "  'name': 'txrequest',\n",
       "  'authorization': [{'actor': 'helloworld12', 'permission': 'active'}],\n",
       "  'data': '68656c6c6f2c776f726c64'},\n",
       " 'context_free': False,\n",
       " 'elapsed': 8,\n",
       " 'console': '',\n",
       " 'trx_id': '36c69b5cdffc226d92cbf9e9477943e09afd83a9eb0840548d1db5f9b504aa6b',\n",
       " 'block_num': 36,\n",
       " 'block_time': '2021-11-25T02:54:23.500',\n",
       " 'producer_block_id': None,\n",
       " 'account_ram_deltas': [],\n",
       " 'account_disk_deltas': [],\n",
       " 'except': None,\n",
       " 'error_code': None,\n",
       " 'return_value_hex_data': ''}"
      ]
     },
     "execution_count": 56,
     "metadata": {},
     "output_type": "execute_result"
    }
   ],
   "source": [
    "aa['actions'][0]['action_trace']"
   ]
  },
  {
   "cell_type": "code",
   "execution_count": 1,
   "id": "3f2cbf24",
   "metadata": {},
   "outputs": [],
   "source": [
    "from pyeoskit import eosapi\n",
    "from pyeoskit import wallet"
   ]
  },
  {
   "cell_type": "code",
   "execution_count": 2,
   "id": "65544454",
   "metadata": {},
   "outputs": [],
   "source": [
    "eosapi.set_node('https://api.eosn.io')"
   ]
  },
  {
   "cell_type": "code",
   "execution_count": 3,
   "id": "dbbbf28e",
   "metadata": {},
   "outputs": [
    {
     "data": {
      "text/plain": [
       "[]"
      ]
     },
     "execution_count": 3,
     "metadata": {},
     "output_type": "execute_result"
    }
   ],
   "source": [
    "wallet.get_public_keys()"
   ]
  }
 ],
 "metadata": {
  "kernelspec": {
   "display_name": "Python 3 (ipykernel)",
   "language": "python",
   "name": "python3"
  },
  "language_info": {
   "codemirror_mode": {
    "name": "ipython",
    "version": 3
   },
   "file_extension": ".py",
   "mimetype": "text/x-python",
   "name": "python",
   "nbconvert_exporter": "python",
   "pygments_lexer": "ipython3",
   "version": "3.9.5"
  }
 },
 "nbformat": 4,
 "nbformat_minor": 5
}
