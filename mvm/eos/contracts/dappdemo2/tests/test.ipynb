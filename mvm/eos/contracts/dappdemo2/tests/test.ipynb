{
 "cells": [
  {
   "cell_type": "code",
   "execution_count": 6,
   "id": "7ee1089c",
   "metadata": {},
   "outputs": [],
   "source": [
    "from pyeoskit import eosapi\n",
    "eosapi.set_node('http://127.0.0.1:9000')"
   ]
  },
  {
   "cell_type": "code",
   "execution_count": 7,
   "id": "aa66fe7f",
   "metadata": {
    "scrolled": true
   },
   "outputs": [
    {
     "data": {
      "text/plain": [
       "{'free_bytes': 1067718112,\n",
       " 'used_bytes': 6022688,\n",
       " 'size': 1073740800,\n",
       " 'indices': [{'index': 'eosio::chain::account_ram_correction_object',\n",
       "   'row_count': 0},\n",
       "  {'index': 'eosio::chain::generated_transaction_object', 'row_count': 0},\n",
       "  {'index': 'eosio::chain::kv_object', 'row_count': 0},\n",
       "  {'index': 'eosio::chain::permission_link_object', 'row_count': 0},\n",
       "  {'index': 'eosio::chain::secondary_index<float128_t, 12ull, eosio::chain::soft_long_double_less>::index_object',\n",
       "   'row_count': 0},\n",
       "  {'index': 'eosio::chain::secondary_index<float64_t, 11ull, eosio::chain::soft_double_less>::index_object',\n",
       "   'row_count': 0},\n",
       "  {'index': 'eosio::chain::secondary_index<std::__1::array<unsigned __int128, 2ul>, 10ull, std::__1::less<std::__1::array<unsigned __int128, 2ul> > >::index_object',\n",
       "   'row_count': 0},\n",
       "  {'index': 'eosio::chain::secondary_index<unsigned __int128, 9ull, std::__1::less<unsigned __int128> >::index_object',\n",
       "   'row_count': 0},\n",
       "  {'index': 'eosio::chain::secondary_index<unsigned long long, 8ull, std::__1::less<unsigned long long> >::index_object',\n",
       "   'row_count': 0},\n",
       "  {'index': 'eosio::chain::transaction_object', 'row_count': 0},\n",
       "  {'index': 'eosio::account_control_history_object', 'row_count': 1},\n",
       "  {'index': 'eosio::chain::database_header_object', 'row_count': 1},\n",
       "  {'index': 'eosio::chain::dynamic_global_property_object', 'row_count': 1},\n",
       "  {'index': 'eosio::chain::global_property_object', 'row_count': 1},\n",
       "  {'index': 'eosio::chain::kv_db_config_object', 'row_count': 1},\n",
       "  {'index': 'eosio::chain::protocol_state_object', 'row_count': 1},\n",
       "  {'index': 'eosio::chain::resource_limits::resource_limits_config_object',\n",
       "   'row_count': 1},\n",
       "  {'index': 'eosio::chain::resource_limits::resource_limits_state_object',\n",
       "   'row_count': 1},\n",
       "  {'index': 'eosio::chain::code_object', 'row_count': 4},\n",
       "  {'index': 'eosio::action_history_object', 'row_count': 26},\n",
       "  {'index': 'eosio::chain::account_metadata_object', 'row_count': 28},\n",
       "  {'index': 'eosio::chain::account_object', 'row_count': 28},\n",
       "  {'index': 'eosio::chain::resource_limits::resource_limits_object',\n",
       "   'row_count': 28},\n",
       "  {'index': 'eosio::chain::resource_limits::resource_usage_object',\n",
       "   'row_count': 28},\n",
       "  {'index': 'eosio::chain::table_id_object', 'row_count': 38},\n",
       "  {'index': 'eosio::public_key_history_object', 'row_count': 50},\n",
       "  {'index': 'eosio::account_history_object', 'row_count': 52},\n",
       "  {'index': 'eosio::chain::permission_usage_object', 'row_count': 58},\n",
       "  {'index': 'eosio::chain::permission_object', 'row_count': 59},\n",
       "  {'index': 'eosio::chain::key_value_object', 'row_count': 78},\n",
       "  {'index': 'eosio::chain::block_summary_object', 'row_count': 65536}]}"
      ]
     },
     "execution_count": 7,
     "metadata": {},
     "output_type": "execute_result"
    }
   ],
   "source": [
    "eosapi.get_db_size()"
   ]
  },
  {
   "cell_type": "code",
   "execution_count": 1,
   "id": "d351dba6",
   "metadata": {},
   "outputs": [],
   "source": [
    "import asyncio\n",
    "from pymixin.mixin_api import MixinApi\n",
    "api = MixinApi('http://mixin-node0.exinpool.com:8239')\n"
   ]
  },
  {
   "cell_type": "code",
   "execution_count": 16,
   "id": "bbc18a90",
   "metadata": {},
   "outputs": [
    {
     "data": {
      "text/plain": [
       "{'asset': 'b9f49cf777dc4d03bc54cd1367eebca319f8603ea1ce18910d09e2c540c630d8',\n",
       " 'extra': '82a154c41000000000000000000000000000000000a14dd9404141464a73416953615652494a7172734e7879685a56574b41414141414141594d4441774d4441774f54526d4f444e684f57466d596a51325a6a41785a575930',\n",
       " 'hash': 'adfc7b9e4ed023cfd0b456920297f6da27867a69b165a7ff3a9dcdde7f698aa7',\n",
       " 'hex': '77770002b9f49cf777dc4d03bc54cd1367eebca319f8603ea1ce18910d09e2c540c630d80001700cfb874deb5ecb9e1f6b29af8d5e08b9beac1e081cdd4f2e0be521a157fded00000000000000000002000000032318600004aa2609073162bd2918d556ddf19233cca1644a286c309cc227059f53f7dbbf18d30b6382d2bee7802c5496ef697f95d6c4393d25b5d9f1d6b5d08f43b08380557a59da960c8fabc2baf50cde653947f237a9f19c2fb0c3ccd0f0dd824cad76e56a2280dcb0889f9994c9a63b7df386177d7513c257bb0736fe17051a016df5dfc451d16254f702721c4e132e006089496ddf167339b423ca067f5a2bd0988d6e0003fffe030000000000032625a00001846b5f8347b8653ae51d031f58135cc617f9d9e44a0f9d899a22d58b3725a7fac48e4bf4d92e2eecfcd6771a50748e8a7dd047e5650e10ccef4aa80d4d96bbbe0003fffe010000005982a154c41000000000000000000000000000000000a14dd9404141464a73416953615652494a7172734e7879685a56574b41414141414141594d4441774d4441774f54526d4f444e684f57466d596a51325a6a41785a575930ffffff01572c5d24c3feacdc19b53f01e5cb116e297848f3ba1095f181fb199e5b90d6fe6611d3e4e4f8fcd14e7306384279112b92aef0e7abfa2cc20928c32b5769cc0700000101',\n",
       " 'inputs': [{'hash': '700cfb874deb5ecb9e1f6b29af8d5e08b9beac1e081cdd4f2e0be521a157fded',\n",
       "   'index': 0}],\n",
       " 'outputs': [{'amount': '0.02300000',\n",
       "   'keys': ['aa2609073162bd2918d556ddf19233cca1644a286c309cc227059f53f7dbbf18',\n",
       "    'd30b6382d2bee7802c5496ef697f95d6c4393d25b5d9f1d6b5d08f43b0838055',\n",
       "    '7a59da960c8fabc2baf50cde653947f237a9f19c2fb0c3ccd0f0dd824cad76e5',\n",
       "    '6a2280dcb0889f9994c9a63b7df386177d7513c257bb0736fe17051a016df5df'],\n",
       "   'mask': 'c451d16254f702721c4e132e006089496ddf167339b423ca067f5a2bd0988d6e',\n",
       "   'script': 'fffe03',\n",
       "   'type': 0},\n",
       "  {'amount': '0.02500000',\n",
       "   'keys': ['846b5f8347b8653ae51d031f58135cc617f9d9e44a0f9d899a22d58b3725a7fa'],\n",
       "   'mask': 'c48e4bf4d92e2eecfcd6771a50748e8a7dd047e5650e10ccef4aa80d4d96bbbe',\n",
       "   'script': 'fffe01',\n",
       "   'type': 0}],\n",
       " 'snapshot': '56643895fffeff0bb486e824f06c06bfe41b970d037ccbad53f0c34a889683b3',\n",
       " 'version': 2}"
      ]
     },
     "execution_count": 16,
     "metadata": {},
     "output_type": "execute_result"
    }
   ],
   "source": [
    "await api.get_transaction('adfc7b9e4ed023cfd0b456920297f6da27867a69b165a7ff3a9dcdde7f698aa7')"
   ]
  },
  {
   "cell_type": "code",
   "execution_count": null,
   "id": "4758087b",
   "metadata": {},
   "outputs": [],
   "source": []
  },
  {
   "cell_type": "code",
   "execution_count": 7,
   "id": "68578e6c",
   "metadata": {},
   "outputs": [
    {
     "data": {
      "text/plain": [
       "{'aggregated': {'signature': '0ed6bc4c42f75b505011e7a33361d831272ff19cfbf3b748107e1d0e1865943cf4b0e6faede4035b0f938d7c8e8f153c785a6033443ebc96ee51365b4a442d03',\n",
       "  'signers': [0]},\n",
       " 'asset': 'b9f49cf777dc4d03bc54cd1367eebca319f8603ea1ce18910d09e2c540c630d8',\n",
       " 'extra': '82a154c41000000000000000000000000000000000a14dd9544141744a73416953615652494a7172734e7879685a56574b41414e6c62334d414447686c6247787664323979624751784d5141594d4441774d4441774d7a6c6d4d7a59324e6a466d4e6a51315a6d4d31597a4a6a',\n",
       " 'hash': 'ee7f35675d9d2fa1fe4667ddb8cf2a79507163ab4db43eca425a5db18e1a803c',\n",
       " 'inputs': [{'hash': '1287708ee766e8a706da6eb3ee3eae1b2e34dbad23ae510d947562b679084647',\n",
       "   'index': 1}],\n",
       " 'outputs': [{'amount': '1.00000000',\n",
       "   'keys': ['85ba5ccc00cfcbb5ee96b434a7e4fbde53a62c2f383dd290e55d140416497038',\n",
       "    '4f61e9f87bcde14cb7ea042b150583148ec9482886ac0a6d198b978df498ae28',\n",
       "    '587a20211564971927179afe70dfde46ae559be3ad0ab9008073a16351323868',\n",
       "    'ae6b0e3d8335301c74988351dec6c2b4ad192af6756342c860eed1cd940f6b26'],\n",
       "   'mask': '528f1dabdce1c72fad3fc5a40584fd569b697f74f4fb1fa6f5a13dc3b6d5c601',\n",
       "   'script': 'fffe03',\n",
       "   'type': 0},\n",
       "  {'amount': '42.10000000',\n",
       "   'keys': ['698bbcb9620ab6980c616019cc62c7d2324032d0952f1b5576adf68c233021ab'],\n",
       "   'mask': '4c094c5fdd238c79019898bfd44809870d2818876fb810e9e8c876c708b5c9d9',\n",
       "   'script': 'fffe01',\n",
       "   'type': 0}],\n",
       " 'version': 2}"
      ]
     },
     "execution_count": 7,
     "metadata": {},
     "output_type": "execute_result"
    }
   ],
   "source": [
    "api.decode_transaction('77770002b9f49cf777dc4d03bc54cd1367eebca319f8603ea1ce18910d09e2c540c630d800011287708ee766e8a706da6eb3ee3eae1b2e34dbad23ae510d947562b679084647000100000000000000020000000405f5e100000485ba5ccc00cfcbb5ee96b434a7e4fbde53a62c2f383dd290e55d1404164970384f61e9f87bcde14cb7ea042b150583148ec9482886ac0a6d198b978df498ae28587a20211564971927179afe70dfde46ae559be3ad0ab9008073a16351323868ae6b0e3d8335301c74988351dec6c2b4ad192af6756342c860eed1cd940f6b26528f1dabdce1c72fad3fc5a40584fd569b697f74f4fb1fa6f5a13dc3b6d5c6010003fffe03000000000004faef80800001698bbcb9620ab6980c616019cc62c7d2324032d0952f1b5576adf68c233021ab4c094c5fdd238c79019898bfd44809870d2818876fb810e9e8c876c708b5c9d90003fffe010000006d82a154c41000000000000000000000000000000000a14dd9544141744a73416953615652494a7172734e7879685a56574b41414e6c62334d414447686c6247787664323979624751784d5141594d4441774d4441774d7a6c6d4d7a59324e6a466d4e6a51315a6d4d31597a4a6affffff010ed6bc4c42f75b505011e7a33361d831272ff19cfbf3b748107e1d0e1865943cf4b0e6faede4035b0f938d7c8e8f153c785a6033443ebc96ee51365b4a442d0300000101')"
   ]
  },
  {
   "cell_type": "code",
   "execution_count": 11,
   "id": "c5b6c76e",
   "metadata": {},
   "outputs": [],
   "source": [
    "a = bytes.fromhex('82a154c41000000000000000000000000000000000a14dd9544141744a73416953615652494a7172734e7879685a56574b41414e6c62334d414447686c6247787664323979624751784d5141594d4441774d4441774d7a6c6d4d7a59324e6a466d4e6a51315a6d4d31597a4a6a')"
   ]
  },
  {
   "cell_type": "code",
   "execution_count": 15,
   "id": "0b2ec35b",
   "metadata": {},
   "outputs": [
    {
     "data": {
      "text/plain": [
       "b'L\\xc4\\xc0\\x02\\xd2l\\x02$\\x9aU\\x12\\t\\xaa\\xbb\\r\\xc7(YUb\\x80\\x00\\xd9[\\xdc\\xc0\\x03\\x1a\\x19[\\x1b\\x1b\\xdd\\xdb\\xdc\\x9b\\x19\\x0cL@\\x06\\x0c\\x0c\\x0c\\x0c\\x0c\\x0c\\x0c\\xceY\\x8c\\xcd\\x8d\\x8d\\x8cY\\x8d\\x8d\\rY\\x98\\xcdX\\xcc\\x98'"
      ]
     },
     "execution_count": 15,
     "metadata": {},
     "output_type": "execute_result"
    }
   ],
   "source": [
    "import base64\n",
    "base64.b64decode(a+b'===')"
   ]
  },
  {
   "cell_type": "code",
   "execution_count": 6,
   "id": "b060df12",
   "metadata": {},
   "outputs": [
    {
     "data": {
      "text/plain": [
       "{'asset': 'b9f49cf777dc4d03bc54cd1367eebca319f8603ea1ce18910d09e2c540c630d8',\n",
       " 'extra': '82a154c41000000000000000000000000000000000a14dd9544141744a73416953615652494a7172734e7879685a56574b41414e6c62334d414447686c6247787664323979624751784d5141594d4441774d4441774e444a6c5a6a566b5a6a45304e4441775a57557a4d47526b',\n",
       " 'hash': '1287708ee766e8a706da6eb3ee3eae1b2e34dbad23ae510d947562b679084647',\n",
       " 'hex': '77770002b9f49cf777dc4d03bc54cd1367eebca319f8603ea1ce18910d09e2c540c630d80001bfa25f8dddb05bdee2eb9201371fbbe322f6fc040e465f30f877bdeeb24e12d6000100000000000000020000000405f5e10000042725564155c2cf3ffdbc98ff78149c4991dcdba2b2532aea9185d4906e6c2cef756c83c4361b5efc2cfc35d06c9a6e4d867aeb99e1355a1939240680d467f720ffd0a0ebef96664c435c4da12767d1b770a374203360e3ccea30afc0744fc9c1f087ee8e44329587f7706a8be1f335f1c7e49923e4d3594609f8aa52ed514d3e41d42b83d525c5a3e2a16a72c76f517970e62f3cd2f139914e0f2b107cf857020003fffe030000000000050100e561800001699d4f7d7ff162558c3e3ee526d5b90ca689460a86032ac72cf7f1652ac00a3f4b9ee2583c5ac6508931a955cdc558152298206674acb6a8c421f2b14f4f17090003fffe010000006d82a154c41000000000000000000000000000000000a14dd9544141744a73416953615652494a7172734e7879685a56574b41414e6c62334d414447686c6247787664323979624751784d5141594d4441774d4441774e444a6c5a6a566b5a6a45304e4441775a57557a4d47526bffffff01a3198fc5d6c20682fae6ed511c4a22dea7b56810dea4fd8c412d029cdd4bae74bb64b2dfc77f9306c196199845f0c06a24043838ebc2696fd29e8c97ddb5920e00000101',\n",
       " 'inputs': [{'hash': 'bfa25f8dddb05bdee2eb9201371fbbe322f6fc040e465f30f877bdeeb24e12d6',\n",
       "   'index': 1}],\n",
       " 'outputs': [{'amount': '1.00000000',\n",
       "   'keys': ['2725564155c2cf3ffdbc98ff78149c4991dcdba2b2532aea9185d4906e6c2cef',\n",
       "    '756c83c4361b5efc2cfc35d06c9a6e4d867aeb99e1355a1939240680d467f720',\n",
       "    'ffd0a0ebef96664c435c4da12767d1b770a374203360e3ccea30afc0744fc9c1',\n",
       "    'f087ee8e44329587f7706a8be1f335f1c7e49923e4d3594609f8aa52ed514d3e'],\n",
       "   'mask': '41d42b83d525c5a3e2a16a72c76f517970e62f3cd2f139914e0f2b107cf85702',\n",
       "   'script': 'fffe03',\n",
       "   'type': 0},\n",
       "  {'amount': '43.10000000',\n",
       "   'keys': ['699d4f7d7ff162558c3e3ee526d5b90ca689460a86032ac72cf7f1652ac00a3f'],\n",
       "   'mask': '4b9ee2583c5ac6508931a955cdc558152298206674acb6a8c421f2b14f4f1709',\n",
       "   'script': 'fffe01',\n",
       "   'type': 0}],\n",
       " 'snapshot': 'c04a6d603cb0590a618852277b307107061934acb8ce36239e49cea7c36ec15c',\n",
       " 'version': 2}"
      ]
     },
     "execution_count": 6,
     "metadata": {},
     "output_type": "execute_result"
    }
   ],
   "source": [
    "await api.get_transaction('1287708ee766e8a706da6eb3ee3eae1b2e34dbad23ae510d947562b679084647')"
   ]
  },
  {
   "cell_type": "code",
   "execution_count": 3,
   "id": "54a45f62",
   "metadata": {},
   "outputs": [
    {
     "data": {
      "text/plain": [
       "10008999.0"
      ]
     },
     "execution_count": 3,
     "metadata": {},
     "output_type": "execute_result"
    }
   ],
   "source": [
    "eosapi.get_balance('helloworld11')"
   ]
  },
  {
   "cell_type": "code",
   "execution_count": 1,
   "id": "02c1dc66",
   "metadata": {},
   "outputs": [],
   "source": [
    "import uuid"
   ]
  },
  {
   "cell_type": "code",
   "execution_count": 11,
   "id": "12bf2d2a",
   "metadata": {},
   "outputs": [
    {
     "name": "stdout",
     "output_type": "stream",
     "text": [
      "0x49,0xb0,0x08,0x92,0x69,0x54,0x48,0x26,0xaa,0xec,0x37,0x1c,0xa1,0x65,0x55,0x8a,"
     ]
    }
   ],
   "source": [
    "id = uuid.UUID('49b00892-6954-4826-aaec-371ca165558a')\n",
    "for b in id.bytes:\n",
    "    print('0x%02x'%(b,), end=',')"
   ]
  },
  {
   "cell_type": "code",
   "execution_count": 13,
   "id": "92f8e7cd",
   "metadata": {},
   "outputs": [
    {
     "data": {
      "text/plain": [
       "'49b0089269544826aaec371ca165558a'"
      ]
     },
     "execution_count": 13,
     "metadata": {},
     "output_type": "execute_result"
    }
   ],
   "source": [
    "id.bytes.hex()"
   ]
  },
  {
   "cell_type": "code",
   "execution_count": 42,
   "id": "708c7b70",
   "metadata": {},
   "outputs": [
    {
     "data": {
      "text/plain": [
       "'http://127.0.0.1:9000'"
      ]
     },
     "execution_count": 42,
     "metadata": {},
     "output_type": "execute_result"
    }
   ],
   "source": [
    "eosapi.node_url"
   ]
  },
  {
   "cell_type": "code",
   "execution_count": null,
   "id": "2f5f0a9f",
   "metadata": {},
   "outputs": [],
   "source": []
  },
  {
   "cell_type": "code",
   "execution_count": 18,
   "id": "89facd94",
   "metadata": {},
   "outputs": [],
   "source": [
    "eosapi.set_node('http://127.0.0.1:9000')"
   ]
  },
  {
   "cell_type": "code",
   "execution_count": 63,
   "id": "406ada87",
   "metadata": {},
   "outputs": [],
   "source": [
    "from pyeoskit import wallet\n",
    "wallet.import_key('test', '5Jbh1Dn57DKPUHQ6F6eExX55S2nSFNxZhpZUxNYFjJ1arKGK9Q3')\n",
    "wallet.import_key('test', '5JHRxntHapUryUetZgWdd3cg6BrpZLMJdqhhXnMaZiiT4qdJPhv')\n",
    "wallet.import_key('test', '5Jbb4wuwz8MAzTB9FJNmrVYGXo4ABb7wqPVoWGcZ6x8V2FwNeDo') #helloworld11\n"
   ]
  },
  {
   "cell_type": "code",
   "execution_count": 73,
   "id": "31c21cf8",
   "metadata": {},
   "outputs": [
    {
     "data": {
      "text/plain": [
       "'EOS6AjF6hvF7GSuSd4sCgfPKq5uWaXvGM2aQtEUCwmEHygQaqxBSV'"
      ]
     },
     "execution_count": 73,
     "metadata": {},
     "output_type": "execute_result"
    }
   ],
   "source": [
    "eosapi.get_public_key('5JRYimgLBrRLCBAcjHUWCYRv3asNedTYYzVgmiU4q2ZVxMBiJXL')"
   ]
  },
  {
   "cell_type": "code",
   "execution_count": 70,
   "id": "b79c4132",
   "metadata": {},
   "outputs": [
    {
     "data": {
      "text/plain": [
       "'EOS7sPDxfw5yx5SZgQcVb57zS1XeSWLNpQKhaGjjy2qe61BrAQ49o'"
      ]
     },
     "execution_count": 70,
     "metadata": {},
     "output_type": "execute_result"
    }
   ],
   "source": [
    "eosapi.get_public_key('5Jbb4wuwz8MAzTB9FJNmrVYGXo4ABb7wqPVoWGcZ6x8V2FwNeDo')"
   ]
  },
  {
   "cell_type": "code",
   "execution_count": 65,
   "id": "3b9d9eeb",
   "metadata": {
    "scrolled": true
   },
   "outputs": [
    {
     "data": {
      "text/plain": [
       "{'transaction_id': '76a4e8de30b0bc0890fffd01c7a9fb3ccabb2ceb3c3da0f139559e6c71735200',\n",
       " 'processed': {'id': '76a4e8de30b0bc0890fffd01c7a9fb3ccabb2ceb3c3da0f139559e6c71735200',\n",
       "  'block_num': 1866,\n",
       "  'block_time': '2021-11-25T04:06:37.000',\n",
       "  'producer_block_id': None,\n",
       "  'receipt': {'status': 'executed',\n",
       "   'cpu_usage_us': 159,\n",
       "   'net_usage_words': 13},\n",
       "  'elapsed': 159,\n",
       "  'net_usage': 104,\n",
       "  'scheduled': False,\n",
       "  'action_traces': [{'action_ordinal': 1,\n",
       "    'creator_action_ordinal': 0,\n",
       "    'closest_unnotified_ancestor_action_ordinal': 0,\n",
       "    'receipt': {'receiver': 'mtgxinmtgxin',\n",
       "     'act_digest': '4132fba58664af9a898bf2715646c8fe3089634701d49d1d9a7e29a750156162',\n",
       "     'global_sequence': 2127,\n",
       "     'recv_sequence': 2,\n",
       "     'auth_sequence': [['helloworld11', 20]],\n",
       "     'code_sequence': 0,\n",
       "     'abi_sequence': 0},\n",
       "    'receiver': 'mtgxinmtgxin',\n",
       "    'act': {'account': 'mtgxinmtgxin',\n",
       "     'name': 'txrequest',\n",
       "     'authorization': [{'actor': 'helloworld11', 'permission': 'active'}],\n",
       "     'data': '68656c6c6f2c776f726c64'},\n",
       "    'context_free': False,\n",
       "    'elapsed': 20,\n",
       "    'console': '',\n",
       "    'trx_id': '76a4e8de30b0bc0890fffd01c7a9fb3ccabb2ceb3c3da0f139559e6c71735200',\n",
       "    'block_num': 1866,\n",
       "    'block_time': '2021-11-25T04:06:37.000',\n",
       "    'producer_block_id': None,\n",
       "    'account_ram_deltas': [],\n",
       "    'account_disk_deltas': [],\n",
       "    'except': None,\n",
       "    'error_code': None,\n",
       "    'return_value_hex_data': '',\n",
       "    'inline_traces': []}],\n",
       "  'account_ram_delta': None,\n",
       "  'except': None,\n",
       "  'error_code': None}}"
      ]
     },
     "execution_count": 65,
     "metadata": {},
     "output_type": "execute_result"
    }
   ],
   "source": [
    "eosapi.push_action('mtgxinmtgxin', 'txrequest', b'hello,world', {\"helloworld11\":\"active\"})"
   ]
  },
  {
   "cell_type": "code",
   "execution_count": 73,
   "id": "5dbbf763",
   "metadata": {},
   "outputs": [
    {
     "data": {
      "text/plain": [
       "{'actions': [], 'last_irreversible_block': 5258}"
      ]
     },
     "execution_count": 73,
     "metadata": {},
     "output_type": "execute_result"
    }
   ],
   "source": [
    "eosapi.get_actions('helloworld11', 0, 100)"
   ]
  },
  {
   "cell_type": "code",
   "execution_count": 72,
   "id": "f7c6c9c8",
   "metadata": {
    "scrolled": true
   },
   "outputs": [
    {
     "data": {
      "text/plain": [
       "{'actions': [{'global_action_seq': 5320,\n",
       "   'account_action_seq': 0,\n",
       "   'block_num': 5052,\n",
       "   'block_time': '2021-11-30T04:15:00.500',\n",
       "   'action_trace': {'action_ordinal': 3,\n",
       "    'creator_action_ordinal': 2,\n",
       "    'closest_unnotified_ancestor_action_ordinal': 2,\n",
       "    'receipt': {'receiver': 'mtgxinmtgxin',\n",
       "     'act_digest': '473a9137ced0b094add0016b919094f9ba7a655e484f0047cea8e357c2f92eb4',\n",
       "     'global_sequence': 5320,\n",
       "     'recv_sequence': 3,\n",
       "     'auth_sequence': [['mtgxinmtgxin', 6]],\n",
       "     'code_sequence': 1,\n",
       "     'abi_sequence': 1},\n",
       "    'receiver': 'mtgxinmtgxin',\n",
       "    'act': {'account': 'mtgxinmtgxin',\n",
       "     'name': 'ontxlog',\n",
       "     'authorization': [{'actor': 'mtgxinmtgxin', 'permission': 'active'}],\n",
       "     'data': {'log': {'id': 1,\n",
       "       'nonce': 1,\n",
       "       'contract': 'helloworld11',\n",
       "       'process': '183876869939131173236693101619586838601',\n",
       "       'asset': '123066791051270628056592602402968592022',\n",
       "       'members': ['183263285292506973242205671961526676467'],\n",
       "       'threshold': 1,\n",
       "       'amount': '1033333',\n",
       "       'extra': '',\n",
       "       'timestamp': '1638245700500000000'}},\n",
       "     'hex_data': '0100000000000000010000000000000010428a97721aa36a49b0089269544826aaec371ca165558a965e5c6e434c3fa9b780c50f43cd955c01f32bb6ab1a4d44bb892ff0129239df890100000075c40f0000000000000000000000000000000d1de9c837bc16'},\n",
       "    'context_free': False,\n",
       "    'elapsed': 10,\n",
       "    'console': '',\n",
       "    'trx_id': 'c8f8590aa61d9087eef405255e130b01d7586acb2e63dfc7f742dc6fe1e84afa',\n",
       "    'block_num': 5052,\n",
       "    'block_time': '2021-11-30T04:15:00.500',\n",
       "    'producer_block_id': None,\n",
       "    'account_ram_deltas': [],\n",
       "    'account_disk_deltas': [],\n",
       "    'except': None,\n",
       "    'error_code': None,\n",
       "    'return_value_hex_data': ''}}],\n",
       " 'last_irreversible_block': 5221}"
      ]
     },
     "execution_count": 72,
     "metadata": {},
     "output_type": "execute_result"
    }
   ],
   "source": [
    "eosapi.get_actions('mtgxinmtgxin', 0, 100)"
   ]
  },
  {
   "cell_type": "code",
   "execution_count": null,
   "id": "56d73cd0",
   "metadata": {},
   "outputs": [],
   "source": [
    "packed_tx = 'a7c3a5615201143a1af6000000000110428a97721aa36a000000204fb5d5a401305d67594ed7599600000000a8ed32326f010000000000000049b0089269544826aaec371ca165558a965e5c6e434c3fa9b780c50f43cd955c0149b0089269544826aaec371ca165558a0100000000e1f505000000000000000000000000183030303030313532313731613135316631343361316166362820d765503ebc160000'\n",
    "eosapi.unpack_transaction(packed_tx)\n"
   ]
  },
  {
   "cell_type": "code",
   "execution_count": 93,
   "id": "8b278b26",
   "metadata": {},
   "outputs": [
    {
     "data": {
      "text/plain": [
       "b's\\x0e\\x00\\x00\\x00\\x00\\x00\\x00\\x00\\x0e\\x00\\x00\\x00\\x00\\x00\\x00\\x00I\\xb0\\x08\\x92iTH&\\xaa\\xec7\\x1c\\xa1eU\\x8a\\x96^\\\\nCL?\\xa9\\xb7\\x80\\xc5\\x0fC\\xcd\\x95\\\\\\x01$f32bb6ab-1a4d-44bb-892f-f0129239df89\\x01\\x00\\x00\\x00\\xca\\xbbH\\x00\\x00\\x00\\x00\\x00\\x00\\x00\\x00\\x00\\x00\\x00\\x00\\x00\\x00 \\xb4\\xb4\\x9b;\\xce\\xba\\x16'"
      ]
     },
     "execution_count": 93,
     "metadata": {},
     "output_type": "execute_result"
    }
   ],
   "source": [
    "bytes.fromhex('730e000000000000000e0000000000000049b0089269544826aaec371ca165558a965e5c6e434c3fa9b780c50f43cd955c012466333262623661622d316134642d343462622d383932662d66303132393233396466383901000000cabb48000000000000000000000000000020b4b49b3bceba16')"
   ]
  },
  {
   "cell_type": "code",
   "execution_count": 100,
   "id": "92d7e039",
   "metadata": {},
   "outputs": [
    {
     "data": {
      "text/plain": [
       "{'rows': [{'Id': 1, 'Count': 1}, {'Id': 2, 'Count': 17}],\n",
       " 'more': False,\n",
       " 'next_key': '',\n",
       " 'next_key_bytes': ''}"
      ]
     },
     "execution_count": 100,
     "metadata": {},
     "output_type": "execute_result"
    }
   ],
   "source": [
    "eosapi.get_table_rows(True, 'helloworld11', 'helloworld11', \"counters\", \"\", \"\", 10)"
   ]
  },
  {
   "cell_type": "code",
   "execution_count": 11,
   "id": "16775448",
   "metadata": {},
   "outputs": [
    {
     "data": {
      "text/plain": [
       "{'actions': [], 'last_irreversible_block': 117814}"
      ]
     },
     "execution_count": 11,
     "metadata": {},
     "output_type": "execute_result"
    }
   ],
   "source": [
    "eosapi.get_actions('helloworld11', 26, 100)"
   ]
  },
  {
   "cell_type": "code",
   "execution_count": 17,
   "id": "e8fccdf2",
   "metadata": {},
   "outputs": [
    {
     "data": {
      "text/plain": [
       "{'actions': [{'global_action_seq': 118862,\n",
       "   'account_action_seq': 26,\n",
       "   'block_num': 118418,\n",
       "   'block_time': '2021-11-26T03:02:25.000',\n",
       "   'action_trace': {'action_ordinal': 1,\n",
       "    'creator_action_ordinal': 0,\n",
       "    'closest_unnotified_ancestor_action_ordinal': 0,\n",
       "    'receipt': {'receiver': 'mtgxinmtgxin',\n",
       "     'act_digest': 'a16e537f18345f1daa5d151d10a14186ce838ba565d07eac404780b1a7005272',\n",
       "     'global_sequence': 118862,\n",
       "     'recv_sequence': 30,\n",
       "     'auth_sequence': [['mtgxinmtgxin', 102]],\n",
       "     'code_sequence': 2,\n",
       "     'abi_sequence': 2},\n",
       "    'receiver': 'mtgxinmtgxin',\n",
       "    'act': {'account': 'mtgxinmtgxin',\n",
       "     'name': 'txrequest',\n",
       "     'authorization': [{'actor': 'mtgxinmtgxin', 'permission': 'active'}],\n",
       "     'data': ''},\n",
       "    'context_free': False,\n",
       "    'elapsed': 15,\n",
       "    'console': '',\n",
       "    'trx_id': '872e29fe3dac2814c4dcc544d8a0004e68090eb7c612585f86bf17efd27f4243',\n",
       "    'block_num': 118418,\n",
       "    'block_time': '2021-11-26T03:02:25.000',\n",
       "    'producer_block_id': None,\n",
       "    'account_ram_deltas': [],\n",
       "    'account_disk_deltas': [],\n",
       "    'except': None,\n",
       "    'error_code': None,\n",
       "    'return_value_hex_data': ''}}],\n",
       " 'last_irreversible_block': 118577}"
      ]
     },
     "execution_count": 17,
     "metadata": {},
     "output_type": "execute_result"
    }
   ],
   "source": [
    "eosapi.get_actions('mtgxinmtgxin', 26, 100)"
   ]
  },
  {
   "cell_type": "code",
   "execution_count": 29,
   "id": "002d68ee",
   "metadata": {
    "scrolled": true
   },
   "outputs": [
    {
     "data": {
      "text/plain": [
       "{'id': '872e29fe3dac2814c4dcc544d8a0004e68090eb7c612585f86bf17efd27f4243',\n",
       " 'trx': {'receipt': {'status': 'executed',\n",
       "   'cpu_usage_us': 100,\n",
       "   'net_usage_words': 0,\n",
       "   'trx': [0,\n",
       "    '872e29fe3dac2814c4dcc544d8a0004e68090eb7c612585f86bf17efd27f4243']}},\n",
       " 'block_time': '2021-11-26T03:02:25.000',\n",
       " 'block_num': 118418,\n",
       " 'last_irreversible_block': 121081,\n",
       " 'traces': [{'action_ordinal': 1,\n",
       "   'creator_action_ordinal': 0,\n",
       "   'closest_unnotified_ancestor_action_ordinal': 0,\n",
       "   'receipt': {'receiver': 'mtgxinmtgxin',\n",
       "    'act_digest': 'a16e537f18345f1daa5d151d10a14186ce838ba565d07eac404780b1a7005272',\n",
       "    'global_sequence': 118862,\n",
       "    'recv_sequence': 30,\n",
       "    'auth_sequence': [['mtgxinmtgxin', 102]],\n",
       "    'code_sequence': 2,\n",
       "    'abi_sequence': 2},\n",
       "   'receiver': 'mtgxinmtgxin',\n",
       "   'act': {'account': 'mtgxinmtgxin',\n",
       "    'name': 'txrequest',\n",
       "    'authorization': [{'actor': 'mtgxinmtgxin', 'permission': 'active'}],\n",
       "    'data': ''},\n",
       "   'context_free': False,\n",
       "   'elapsed': 15,\n",
       "   'console': '',\n",
       "   'trx_id': '872e29fe3dac2814c4dcc544d8a0004e68090eb7c612585f86bf17efd27f4243',\n",
       "   'block_num': 118418,\n",
       "   'block_time': '2021-11-26T03:02:25.000',\n",
       "   'producer_block_id': None,\n",
       "   'account_ram_deltas': [],\n",
       "   'account_disk_deltas': [],\n",
       "   'except': None,\n",
       "   'error_code': None,\n",
       "   'return_value_hex_data': ''}]}"
      ]
     },
     "execution_count": 29,
     "metadata": {},
     "output_type": "execute_result"
    }
   ],
   "source": [
    "eosapi.get_transaction('872e29fe3dac2814c4dcc544d8a0004e68090eb7c612585f86bf17efd27f4243')"
   ]
  },
  {
   "cell_type": "code",
   "execution_count": 25,
   "id": "42ac5b85",
   "metadata": {},
   "outputs": [
    {
     "data": {
      "text/plain": [
       "{'transactions': [], 'more': ''}"
      ]
     },
     "execution_count": 25,
     "metadata": {},
     "output_type": "execute_result"
    }
   ],
   "source": [
    "eosapi.get_scheduled_transactions(True, \"\")"
   ]
  },
  {
   "cell_type": "code",
   "execution_count": 14,
   "id": "068be9c2",
   "metadata": {},
   "outputs": [],
   "source": [
    "eosapi.set_node('http://127.0.0.1:9000')"
   ]
  },
  {
   "cell_type": "code",
   "execution_count": 20,
   "id": "14781027",
   "metadata": {},
   "outputs": [
    {
     "data": {
      "text/plain": [
       "'ok'"
      ]
     },
     "execution_count": 20,
     "metadata": {},
     "output_type": "execute_result"
    }
   ],
   "source": [
    "from pyeoskit import wallet\n",
    "wallet.import_key('test', '5JpXLb1tqxJB3Xtzd584xTdqKAzBnQ4TkqfEtT5QPotuv7Yt2bX')\n",
    "wallet.import_key('test', '5J2VCfZgiB6g86NfBmJE73yGRpvZXqS2UR7ZDGjt8XU2LPRddiY')\n",
    "wallet.import_key('test', '5J3hATRW5G6GT3pkSuyxrPw9KTU4hmbwX9WKddUSLwMcwQSLYex')\n",
    "wallet.import_key('test', '5K2Up4bcBo6BgDpfgccNmpgRE33nrvKsxfMgAauTMzHAqyN8SxM')"
   ]
  },
  {
   "cell_type": "code",
   "execution_count": 31,
   "id": "19dcef28",
   "metadata": {
    "scrolled": true
   },
   "outputs": [
    {
     "data": {
      "text/plain": [
       "{'account_name': 'mtgxinmtgxin',\n",
       " 'head_block_num': 16136,\n",
       " 'head_block_time': '2021-11-29T03:17:48.500',\n",
       " 'privileged': False,\n",
       " 'last_code_update': '2021-11-29T01:04:45.000',\n",
       " 'created': '2021-11-29T01:04:45.000',\n",
       " 'ram_quota': 1049966,\n",
       " 'net_weight': 10000,\n",
       " 'cpu_weight': 100000000,\n",
       " 'net_limit': {'used': 13781,\n",
       "  'available': '11324620786219',\n",
       "  'max': '11324620800000',\n",
       "  'last_usage_update_time': '2021-11-29T01:23:47.500',\n",
       "  'current_used': 12689},\n",
       " 'cpu_limit': {'used': 1474,\n",
       "  'available': 691175016,\n",
       "  'max': 691176490,\n",
       "  'last_usage_update_time': '2021-11-29T01:23:47.500',\n",
       "  'current_used': 1357},\n",
       " 'ram_usage': 130034,\n",
       " 'permissions': [{'perm_name': 'active',\n",
       "   'parent': 'owner',\n",
       "   'required_auth': {'threshold': 3,\n",
       "    'keys': [{'key': 'EOS6Bi6Ndo1PxiEuvt1osP267xyjo8HEbLgVzBrX7Ewruf7dbUiRp',\n",
       "      'weight': 1},\n",
       "     {'key': 'EOS7rVXEPKJsYbjW3KZpaLBnpTx7U3XTdKedEWfPpj2mF9jTdcsG5',\n",
       "      'weight': 1},\n",
       "     {'key': 'EOS8JEHuDKeLgKfhCQT1rwHSdB1fuDd2ngZDequcvWbF9a92VKubc',\n",
       "      'weight': 1},\n",
       "     {'key': 'EOS8N2voiByjmCZeTwQpjHjvwpg8Gnbv3wFTqgcg7GdKk1UvYekzX',\n",
       "      'weight': 1}],\n",
       "    'accounts': [{'permission': {'actor': 'mtgxinmtgxin',\n",
       "       'permission': 'eosio.code'},\n",
       "      'weight': 3}],\n",
       "    'waits': []}},\n",
       "  {'perm_name': 'owner',\n",
       "   'parent': '',\n",
       "   'required_auth': {'threshold': 1,\n",
       "    'keys': [{'key': 'EOS7sPDxfw5yx5SZgQcVb57zS1XeSWLNpQKhaGjjy2qe61BrAQ49o',\n",
       "      'weight': 1}],\n",
       "    'accounts': [],\n",
       "    'waits': []}}],\n",
       " 'total_resources': {'owner': 'mtgxinmtgxin',\n",
       "  'net_weight': '1.0000 EOS',\n",
       "  'cpu_weight': '10000.0000 EOS',\n",
       "  'ram_bytes': 1048566},\n",
       " 'self_delegated_bandwidth': {'from': 'mtgxinmtgxin',\n",
       "  'to': 'mtgxinmtgxin',\n",
       "  'net_weight': '1.0000 EOS',\n",
       "  'cpu_weight': '10000.0000 EOS'},\n",
       " 'refund_request': None,\n",
       " 'voter_info': {'owner': 'mtgxinmtgxin',\n",
       "  'proxy': '',\n",
       "  'producers': [],\n",
       "  'staked': 100010000,\n",
       "  'last_vote_weight': '0.00000000000000000',\n",
       "  'proxied_vote_weight': '0.00000000000000000',\n",
       "  'is_proxy': 0,\n",
       "  'flags1': 0,\n",
       "  'reserved2': 0,\n",
       "  'reserved3': '0 '},\n",
       " 'rex_info': None}"
      ]
     },
     "execution_count": 31,
     "metadata": {},
     "output_type": "execute_result"
    }
   ],
   "source": [
    "eosapi.get_account('mtgxinmtgxin')"
   ]
  },
  {
   "cell_type": "code",
   "execution_count": 33,
   "id": "4c920d08",
   "metadata": {},
   "outputs": [
    {
     "data": {
      "text/plain": [
       "'EOS7sPDxfw5yx5SZgQcVb57zS1XeSWLNpQKhaGjjy2qe61BrAQ49o'"
      ]
     },
     "execution_count": 33,
     "metadata": {},
     "output_type": "execute_result"
    }
   ],
   "source": [
    "eosapi.get_public_key('5Jbb4wuwz8MAzTB9FJNmrVYGXo4ABb7wqPVoWGcZ6x8V2FwNeDo')"
   ]
  },
  {
   "cell_type": "code",
   "execution_count": 16,
   "id": "81edd1a6",
   "metadata": {},
   "outputs": [],
   "source": [
    "with open('/Users/newworld/dev/github/mvm/trusted-group/mvm/eos/contracts/mtg.xin/mtg.xin.abi', 'r') as f:\n",
    "    abi = f.read()\n",
    "eosapi.set_abi('mtgxinmtgxin', abi)"
   ]
  },
  {
   "cell_type": "code",
   "execution_count": null,
   "id": "a7795fbf",
   "metadata": {},
   "outputs": [],
   "source": [
    "eosapi.get_scheduled_transactions(True, \"\")"
   ]
  },
  {
   "cell_type": "code",
   "execution_count": null,
   "id": "a34f419f",
   "metadata": {},
   "outputs": [],
   "source": [
    "2041a461f8004eea50700000000001305d67594ed759960000c60ad15b533201305d67594ed7599600000000a8ed32321810428a97721aa36a49b0089269544826aaec371ca165558a00\n",
    "2041a461f8004eea5070000000000100000000000000000000c60ad15b533201000000000000000000000000a8ed32321810428a97721aa36a49b0089269544826aaec371ca165558a00\n"
   ]
  },
  {
   "cell_type": "code",
   "execution_count": 36,
   "id": "85d5bf80",
   "metadata": {},
   "outputs": [
    {
     "data": {
      "text/plain": [
       "True"
      ]
     },
     "execution_count": 36,
     "metadata": {},
     "output_type": "execute_result"
    }
   ],
   "source": [
    "a = '415ca461f8004eea50700000000001305d67594ed759960000c60ad15b533201305d67594ed7599600000000a8ed32321810428a97721aa36a49b0089269544826aaec371ca165558a00'\n",
    "b = '415ca461f8004eea50700000000001305d67594ed759960000c60ad15b533201305d67594ed7599600000000a8ed32321810428a97721aa36a49b0089269544826aaec371ca165558a00'\n",
    "a == b"
   ]
  },
  {
   "cell_type": "code",
   "execution_count": 25,
   "id": "efc36fc2",
   "metadata": {},
   "outputs": [
    {
     "data": {
      "text/plain": [
       "'EOS8N2voiByjmCZeTwQpjHjvwpg8Gnbv3wFTqgcg7GdKk1UvYekzX'"
      ]
     },
     "execution_count": 25,
     "metadata": {},
     "output_type": "execute_result"
    }
   ],
   "source": [
    "eosapi.get_public_key('5K2Up4bcBo6BgDpfgccNmpgRE33nrvKsxfMgAauTMzHAqyN8SxM')"
   ]
  },
  {
   "cell_type": "code",
   "execution_count": 44,
   "id": "d5cf1dd6",
   "metadata": {
    "scrolled": true
   },
   "outputs": [
    {
     "data": {
      "text/plain": [
       "{'rows': [{'contract': 'helloworld11',\n",
       "   'process': '183876869939131173236693101619586838601'}],\n",
       " 'more': False,\n",
       " 'next_key': '',\n",
       " 'next_key_bytes': ''}"
      ]
     },
     "execution_count": 44,
     "metadata": {},
     "output_type": "execute_result"
    }
   ],
   "source": [
    "eosapi.get_table_rows(True, 'mtgxinmtgxin', 'mtgxinmtgxin', 'processes', '', '', 10)"
   ]
  },
  {
   "cell_type": "code",
   "execution_count": 67,
   "id": "9bb40b92",
   "metadata": {
    "scrolled": true
   },
   "outputs": [
    {
     "data": {
      "text/plain": [
       "(2,\n",
       " [{'global_action_seq': 1520,\n",
       "   'account_action_seq': 0,\n",
       "   'block_num': 1252,\n",
       "   'block_time': '2021-11-29T12:15:51.500',\n",
       "   'action_trace': {'action_ordinal': 3,\n",
       "    'creator_action_ordinal': 2,\n",
       "    'closest_unnotified_ancestor_action_ordinal': 2,\n",
       "    'receipt': {'receiver': 'mtgxinmtgxin',\n",
       "     'act_digest': '0797cce1de770e91dbfc9fe564d66f00fe103f98ef1a9f6de3d700fb6975359f',\n",
       "     'global_sequence': 1520,\n",
       "     'recv_sequence': 3,\n",
       "     'auth_sequence': [['mtgxinmtgxin', 6]],\n",
       "     'code_sequence': 1,\n",
       "     'abi_sequence': 1},\n",
       "    'receiver': 'mtgxinmtgxin',\n",
       "    'act': {'account': 'mtgxinmtgxin',\n",
       "     'name': 'ontxlog',\n",
       "     'authorization': [{'actor': 'mtgxinmtgxin', 'permission': 'active'}],\n",
       "     'data': {'log': {'id': 1,\n",
       "       'nonce': 1,\n",
       "       'contract': 'helloworld11',\n",
       "       'process': '183876869939131173236693101619586838601',\n",
       "       'asset': '123066791051270628056592602402968592022',\n",
       "       'members': ['183263285292506973242205671961526676467'],\n",
       "       'threshold': 1,\n",
       "       'amount': '533333',\n",
       "       'extra': '',\n",
       "       'timestamp': '1638188151500000000'}},\n",
       "     'hex_data': '0100000000000000010000000000000010428a97721aa36a49b0089269544826aaec371ca165558a965e5c6e434c3fa9b780c50f43cd955c01f32bb6ab1a4d44bb892ff0129239df89010000005523080000000000000000000000000000004b69bd7103bc16'},\n",
       "    'context_free': False,\n",
       "    'elapsed': 11,\n",
       "    'console': '',\n",
       "    'trx_id': 'af0dd70b198233903d5fe5fd145a861b16afe34acbb2322a241df93534bb52b5',\n",
       "    'block_num': 1252,\n",
       "    'block_time': '2021-11-29T12:15:51.500',\n",
       "    'producer_block_id': None,\n",
       "    'account_ram_deltas': [],\n",
       "    'account_disk_deltas': [],\n",
       "    'except': None,\n",
       "    'error_code': None,\n",
       "    'return_value_hex_data': ''}},\n",
       "  {'global_action_seq': 1739,\n",
       "   'account_action_seq': 1,\n",
       "   'block_num': 1468,\n",
       "   'block_time': '2021-11-29T12:17:39.500',\n",
       "   'action_trace': {'action_ordinal': 3,\n",
       "    'creator_action_ordinal': 2,\n",
       "    'closest_unnotified_ancestor_action_ordinal': 2,\n",
       "    'receipt': {'receiver': 'mtgxinmtgxin',\n",
       "     'act_digest': 'ad3d70cc86decd3038701ba5b95c9eb6cdb1f0b09b92214e66b151c3ab6b16ff',\n",
       "     'global_sequence': 1739,\n",
       "     'recv_sequence': 5,\n",
       "     'auth_sequence': [['mtgxinmtgxin', 8]],\n",
       "     'code_sequence': 1,\n",
       "     'abi_sequence': 1},\n",
       "    'receiver': 'mtgxinmtgxin',\n",
       "    'act': {'account': 'mtgxinmtgxin',\n",
       "     'name': 'ontxlog',\n",
       "     'authorization': [{'actor': 'mtgxinmtgxin', 'permission': 'active'}],\n",
       "     'data': {'log': {'id': 2,\n",
       "       'nonce': 2,\n",
       "       'contract': 'helloworld11',\n",
       "       'process': '183876869939131173236693101619586838601',\n",
       "       'asset': '123066791051270628056592602402968592022',\n",
       "       'members': ['183263285292506973242205671961526676467'],\n",
       "       'threshold': 1,\n",
       "       'amount': '1700000',\n",
       "       'extra': '',\n",
       "       'timestamp': '1638188259500000000'}},\n",
       "     'hex_data': '0200000000000000020000000000000010428a97721aa36a49b0089269544826aaec371ca165558a965e5c6e434c3fa9b780c50f43cd955c01f32bb6ab1a4d44bb892ff0129239df8901000000a0f01900000000000000000000000000000083b6e28a03bc16'},\n",
       "    'context_free': False,\n",
       "    'elapsed': 11,\n",
       "    'console': '',\n",
       "    'trx_id': 'f5929a5bc019b22fbeb545f1a57669356b2f2d2f362a34a07b48fd2867bcb8de',\n",
       "    'block_num': 1468,\n",
       "    'block_time': '2021-11-29T12:17:39.500',\n",
       "    'producer_block_id': None,\n",
       "    'account_ram_deltas': [],\n",
       "    'account_disk_deltas': [],\n",
       "    'except': None,\n",
       "    'error_code': None,\n",
       "    'return_value_hex_data': ''}}])"
      ]
     },
     "execution_count": 67,
     "metadata": {},
     "output_type": "execute_result"
    }
   ],
   "source": [
    "r = eosapi.get_actions('mtgxinmtgxin', 0, 100)\n",
    "actions = r['actions']\n",
    "len(actions), actions"
   ]
  },
  {
   "cell_type": "code",
   "execution_count": 58,
   "id": "1f9e9428",
   "metadata": {},
   "outputs": [
    {
     "data": {
      "text/plain": [
       "48"
      ]
     },
     "execution_count": 58,
     "metadata": {},
     "output_type": "execute_result"
    }
   ],
   "source": [
    "len('303030303030313561643832373264366331336534663238')"
   ]
  },
  {
   "cell_type": "code",
   "execution_count": 65,
   "id": "04511193",
   "metadata": {},
   "outputs": [
    {
     "data": {
      "text/plain": [
       "'00000016434f895e3a242657'"
      ]
     },
     "execution_count": 65,
     "metadata": {},
     "output_type": "execute_result"
    }
   ],
   "source": [
    "'00000016434f895e3a24265717c546851769bd7c97b9d402e314ee3d508c6593'[:24]"
   ]
  },
  {
   "cell_type": "code",
   "execution_count": 54,
   "id": "6defdb7a",
   "metadata": {},
   "outputs": [
    {
     "data": {
      "text/plain": [
       "64"
      ]
     },
     "execution_count": 54,
     "metadata": {},
     "output_type": "execute_result"
    }
   ],
   "source": [
    "a = '[48 48 48 48 48 48 54 98 52 57 57 48 48 55 49 101 98 56 53 50 54 54 48 54 101 48 56 51 48 51 54 50 102 97 57 55 52 53 100 55 97 101 53 56 55 99 102 49 48 54 48 100 51 97 57 54 99 99 55 57 53 98 51 51]'.split(' ')\n",
    "len(a)"
   ]
  },
  {
   "cell_type": "code",
   "execution_count": 52,
   "id": "c091c035",
   "metadata": {},
   "outputs": [
    {
     "data": {
      "text/plain": [
       "128"
      ]
     },
     "execution_count": 52,
     "metadata": {},
     "output_type": "execute_result"
    }
   ],
   "source": [
    "len('30303030303036623439393030373165623835323636303665303833303336326661393734356437616535383763663130363064336139366363373935623333')"
   ]
  },
  {
   "cell_type": "code",
   "execution_count": 51,
   "id": "bbbe9dca",
   "metadata": {},
   "outputs": [
    {
     "data": {
      "text/plain": [
       "'f32bb6ab1a4d44bb892ff0129239df89'"
      ]
     },
     "execution_count": 51,
     "metadata": {},
     "output_type": "execute_result"
    }
   ],
   "source": [
    "int.to_bytes(183263285292506973242205671961526676467, 16, 'little').hex()"
   ]
  },
  {
   "cell_type": "code",
   "execution_count": 45,
   "id": "3a211d0f",
   "metadata": {},
   "outputs": [
    {
     "name": "stderr",
     "output_type": "stream",
     "text": [
      "2021-11-29 15:29:30,301 INFO http_client 208 non ok response: 500\n"
     ]
    }
   ],
   "source": [
    "eosapi.get_account('mtgxinmtgxin')"
   ]
  },
  {
   "cell_type": "code",
   "execution_count": 68,
   "id": "9e73ec16",
   "metadata": {
    "scrolled": true
   },
   "outputs": [
    {
     "data": {
      "text/plain": [
       "{'actions': [{'global_action_seq': 1520,\n",
       "   'account_action_seq': 0,\n",
       "   'block_num': 1252,\n",
       "   'block_time': '2021-11-29T12:15:51.500',\n",
       "   'action_trace': {'action_ordinal': 3,\n",
       "    'creator_action_ordinal': 2,\n",
       "    'closest_unnotified_ancestor_action_ordinal': 2,\n",
       "    'receipt': {'receiver': 'mtgxinmtgxin',\n",
       "     'act_digest': '0797cce1de770e91dbfc9fe564d66f00fe103f98ef1a9f6de3d700fb6975359f',\n",
       "     'global_sequence': 1520,\n",
       "     'recv_sequence': 3,\n",
       "     'auth_sequence': [['mtgxinmtgxin', 6]],\n",
       "     'code_sequence': 1,\n",
       "     'abi_sequence': 1},\n",
       "    'receiver': 'mtgxinmtgxin',\n",
       "    'act': {'account': 'mtgxinmtgxin',\n",
       "     'name': 'ontxlog',\n",
       "     'authorization': [{'actor': 'mtgxinmtgxin', 'permission': 'active'}],\n",
       "     'data': {'log': {'id': 1,\n",
       "       'nonce': 1,\n",
       "       'contract': 'helloworld11',\n",
       "       'process': '183876869939131173236693101619586838601',\n",
       "       'asset': '123066791051270628056592602402968592022',\n",
       "       'members': ['183263285292506973242205671961526676467'],\n",
       "       'threshold': 1,\n",
       "       'amount': '533333',\n",
       "       'extra': '',\n",
       "       'timestamp': '1638188151500000000'}},\n",
       "     'hex_data': '0100000000000000010000000000000010428a97721aa36a49b0089269544826aaec371ca165558a965e5c6e434c3fa9b780c50f43cd955c01f32bb6ab1a4d44bb892ff0129239df89010000005523080000000000000000000000000000004b69bd7103bc16'},\n",
       "    'context_free': False,\n",
       "    'elapsed': 11,\n",
       "    'console': '',\n",
       "    'trx_id': 'af0dd70b198233903d5fe5fd145a861b16afe34acbb2322a241df93534bb52b5',\n",
       "    'block_num': 1252,\n",
       "    'block_time': '2021-11-29T12:15:51.500',\n",
       "    'producer_block_id': None,\n",
       "    'account_ram_deltas': [],\n",
       "    'account_disk_deltas': [],\n",
       "    'except': None,\n",
       "    'error_code': None,\n",
       "    'return_value_hex_data': ''}},\n",
       "  {'global_action_seq': 1739,\n",
       "   'account_action_seq': 1,\n",
       "   'block_num': 1468,\n",
       "   'block_time': '2021-11-29T12:17:39.500',\n",
       "   'action_trace': {'action_ordinal': 3,\n",
       "    'creator_action_ordinal': 2,\n",
       "    'closest_unnotified_ancestor_action_ordinal': 2,\n",
       "    'receipt': {'receiver': 'mtgxinmtgxin',\n",
       "     'act_digest': 'ad3d70cc86decd3038701ba5b95c9eb6cdb1f0b09b92214e66b151c3ab6b16ff',\n",
       "     'global_sequence': 1739,\n",
       "     'recv_sequence': 5,\n",
       "     'auth_sequence': [['mtgxinmtgxin', 8]],\n",
       "     'code_sequence': 1,\n",
       "     'abi_sequence': 1},\n",
       "    'receiver': 'mtgxinmtgxin',\n",
       "    'act': {'account': 'mtgxinmtgxin',\n",
       "     'name': 'ontxlog',\n",
       "     'authorization': [{'actor': 'mtgxinmtgxin', 'permission': 'active'}],\n",
       "     'data': {'log': {'id': 2,\n",
       "       'nonce': 2,\n",
       "       'contract': 'helloworld11',\n",
       "       'process': '183876869939131173236693101619586838601',\n",
       "       'asset': '123066791051270628056592602402968592022',\n",
       "       'members': ['183263285292506973242205671961526676467'],\n",
       "       'threshold': 1,\n",
       "       'amount': '1700000',\n",
       "       'extra': '',\n",
       "       'timestamp': '1638188259500000000'}},\n",
       "     'hex_data': '0200000000000000020000000000000010428a97721aa36a49b0089269544826aaec371ca165558a965e5c6e434c3fa9b780c50f43cd955c01f32bb6ab1a4d44bb892ff0129239df8901000000a0f01900000000000000000000000000000083b6e28a03bc16'},\n",
       "    'context_free': False,\n",
       "    'elapsed': 11,\n",
       "    'console': '',\n",
       "    'trx_id': 'f5929a5bc019b22fbeb545f1a57669356b2f2d2f362a34a07b48fd2867bcb8de',\n",
       "    'block_num': 1468,\n",
       "    'block_time': '2021-11-29T12:17:39.500',\n",
       "    'producer_block_id': None,\n",
       "    'account_ram_deltas': [],\n",
       "    'account_disk_deltas': [],\n",
       "    'except': None,\n",
       "    'error_code': None,\n",
       "    'return_value_hex_data': ''}},\n",
       "  {'global_action_seq': 23977,\n",
       "   'account_action_seq': 2,\n",
       "   'block_num': 23703,\n",
       "   'block_time': '2021-11-29T15:22:57.500',\n",
       "   'action_trace': {'action_ordinal': 3,\n",
       "    'creator_action_ordinal': 2,\n",
       "    'closest_unnotified_ancestor_action_ordinal': 2,\n",
       "    'receipt': {'receiver': 'mtgxinmtgxin',\n",
       "     'act_digest': '5a0cd6e8ae267c8d0e8c3fedd3621ab208653bf450fd91ab56baf89683bf95e1',\n",
       "     'global_sequence': 23977,\n",
       "     'recv_sequence': 7,\n",
       "     'auth_sequence': [['mtgxinmtgxin', 10]],\n",
       "     'code_sequence': 1,\n",
       "     'abi_sequence': 1},\n",
       "    'receiver': 'mtgxinmtgxin',\n",
       "    'act': {'account': 'mtgxinmtgxin',\n",
       "     'name': 'ontxlog',\n",
       "     'authorization': [{'actor': 'mtgxinmtgxin', 'permission': 'active'}],\n",
       "     'data': {'log': {'id': 3,\n",
       "       'nonce': 3,\n",
       "       'contract': 'helloworld11',\n",
       "       'process': '183876869939131173236693101619586838601',\n",
       "       'asset': '123066791051270628056592602402968592022',\n",
       "       'members': ['183263285292506973242205671961526676467'],\n",
       "       'threshold': 1,\n",
       "       'amount': '2833333',\n",
       "       'extra': '',\n",
       "       'timestamp': '1638199377500000000'}},\n",
       "     'hex_data': '0300000000000000030000000000000010428a97721aa36a49b0089269544826aaec371ca165558a965e5c6e434c3fa9b780c50f43cd955c01f32bb6ab1a4d44bb892ff0129239df8901000000b53b2b0000000000000000000000000000004f277fa70dbc16'},\n",
       "    'context_free': False,\n",
       "    'elapsed': 8,\n",
       "    'console': '',\n",
       "    'trx_id': 'd1a942e390d09dd8d7e5de80dbe61a2811f659202f1f674dd1882673f2827945',\n",
       "    'block_num': 23703,\n",
       "    'block_time': '2021-11-29T15:22:57.500',\n",
       "    'producer_block_id': None,\n",
       "    'account_ram_deltas': [],\n",
       "    'account_disk_deltas': [],\n",
       "    'except': None,\n",
       "    'error_code': None,\n",
       "    'return_value_hex_data': ''}}],\n",
       " 'last_irreversible_block': 24516}"
      ]
     },
     "execution_count": 68,
     "metadata": {},
     "output_type": "execute_result"
    }
   ],
   "source": [
    "eosapi.get_actions('mtgxinmtgxin', 0, 100)"
   ]
  },
  {
   "cell_type": "code",
   "execution_count": 42,
   "id": "b8709182",
   "metadata": {},
   "outputs": [
    {
     "ename": "SyntaxError",
     "evalue": "invalid syntax (2459366386.py, line 3)",
     "output_type": "error",
     "traceback": [
      "\u001b[0;36m  File \u001b[0;32m\"/var/folders/pv/678xdw3s56xggsvz36r65kzr0000gp/T/ipykernel_74988/2459366386.py\"\u001b[0;36m, line \u001b[0;32m3\u001b[0m\n\u001b[0;31m    \"ref_block_num\":37566\u001b[0m\n\u001b[0m                   ^\u001b[0m\n\u001b[0;31mSyntaxError\u001b[0m\u001b[0;31m:\u001b[0m invalid syntax\n"
     ]
    }
   ],
   "source": []
  },
  {
   "cell_type": "code",
   "execution_count": null,
   "id": "831dbabb",
   "metadata": {},
   "outputs": [],
   "source": [
    "Hi,guys. Go Smart Contracts Development Kit project needs your support. We need a better Smart Contract language.\n",
    "n"
   ]
  },
  {
   "cell_type": "code",
   "execution_count": 104,
   "id": "afd692e2",
   "metadata": {
    "scrolled": true
   },
   "outputs": [
    {
     "data": {
      "text/plain": [
       "{'actions': [], 'last_irreversible_block': 79088}"
      ]
     },
     "execution_count": 104,
     "metadata": {},
     "output_type": "execute_result"
    }
   ],
   "source": [
    "aa"
   ]
  },
  {
   "cell_type": "code",
   "execution_count": 72,
   "id": "b7e34e70",
   "metadata": {
    "scrolled": true
   },
   "outputs": [
    {
     "data": {
      "text/plain": [
       "{'account_name': 'helloworld11',\n",
       " 'head_block_num': 17005,\n",
       " 'head_block_time': '2021-11-25T06:12:46.500',\n",
       " 'privileged': False,\n",
       " 'last_code_update': '2021-11-25T05:53:06.000',\n",
       " 'created': '2021-11-25T03:51:05.500',\n",
       " 'core_liquid_balance': '10008972.6151 EOS',\n",
       " 'ram_quota': 15730019,\n",
       " 'net_weight': 20000,\n",
       " 'cpu_weight': 10010000,\n",
       " 'net_limit': {'used': 25585,\n",
       "  'available': '22649241574415',\n",
       "  'max': '22649241600000',\n",
       "  'last_usage_update_time': '2021-11-25T05:57:02.000',\n",
       "  'current_used': 25306},\n",
       " 'cpu_limit': {'used': 16272,\n",
       "  'available': 69171877,\n",
       "  'max': 69188149,\n",
       "  'last_usage_update_time': '2021-11-25T05:57:02.000',\n",
       "  'current_used': 16094},\n",
       " 'ram_usage': 126393,\n",
       " 'permissions': [{'perm_name': 'active',\n",
       "   'parent': 'owner',\n",
       "   'required_auth': {'threshold': 1,\n",
       "    'keys': [{'key': 'EOS6AjF6hvF7GSuSd4sCgfPKq5uWaXvGM2aQtEUCwmEHygQaqxBSV',\n",
       "      'weight': 1}],\n",
       "    'accounts': [{'permission': {'actor': 'helloworld11',\n",
       "       'permission': 'eosio.code'},\n",
       "      'weight': 1}],\n",
       "    'waits': []}},\n",
       "  {'perm_name': 'owner',\n",
       "   'parent': '',\n",
       "   'required_auth': {'threshold': 1,\n",
       "    'keys': [{'key': 'EOS7sPDxfw5yx5SZgQcVb57zS1XeSWLNpQKhaGjjy2qe61BrAQ49o',\n",
       "      'weight': 1}],\n",
       "    'accounts': [],\n",
       "    'waits': []}}],\n",
       " 'total_resources': {'owner': 'helloworld11',\n",
       "  'net_weight': '2.0000 EOS',\n",
       "  'cpu_weight': '1001.0000 EOS',\n",
       "  'ram_bytes': 15728619},\n",
       " 'self_delegated_bandwidth': {'from': 'helloworld11',\n",
       "  'to': 'helloworld11',\n",
       "  'net_weight': '1.0000 EOS',\n",
       "  'cpu_weight': '1000.0000 EOS'},\n",
       " 'refund_request': None,\n",
       " 'voter_info': {'owner': 'helloworld11',\n",
       "  'proxy': '',\n",
       "  'producers': [],\n",
       "  'staked': 10010000,\n",
       "  'last_vote_weight': '0.00000000000000000',\n",
       "  'proxied_vote_weight': '0.00000000000000000',\n",
       "  'is_proxy': 0,\n",
       "  'flags1': 0,\n",
       "  'reserved2': 0,\n",
       "  'reserved3': '0 '},\n",
       " 'rex_info': None}"
      ]
     },
     "execution_count": 72,
     "metadata": {},
     "output_type": "execute_result"
    }
   ],
   "source": [
    "eosapi.get_account('helloworld11')"
   ]
  },
  {
   "cell_type": "code",
   "execution_count": 74,
   "id": "04b5fd2d",
   "metadata": {},
   "outputs": [
    {
     "data": {
      "text/plain": [
       "['EOS6AjF6hvF7GSuSd4sCgfPKq5uWaXvGM2aQtEUCwmEHygQaqxBSV']"
      ]
     },
     "execution_count": 74,
     "metadata": {},
     "output_type": "execute_result"
    }
   ],
   "source": [
    "a = '{\"expiration\":\"2021-11-25T06:11:12\",\"ref_block_num\":16695,\"ref_block_prefix\":2758899481,\"max_net_usage_words\":0,\"max_cpu_usage_ms\":0,\"delay_sec\":0,\"context_free_actions\":[],\"actions\":[{\"account\":\"helloworld11\",\"name\":\"onevent\",\"authorization\":[{\"actor\":\"helloworld11\",\"permission\":\"active\"}],\"data\":\"000000000000000049b0089269544826aaec371ca165558a965e5c6e434c3fa9b780c50f43cd955c012466333262623661622d316134642d343462622d383932662d66303132393233396466383901000000e018d400000000000000000000000000009015d74cc5b3ba164034712db37e4336836dfa30691196af76d0603af8ba64196d26bd82c8d3a722b351dfd9a496df02a3b084d7b5318d405ff2ddf9d14aadd37a5a70b31c0a7485e1\"}],\"transaction_extensions\":[]}'\n",
    "eosapi.get_required_keys(a, ['EOS6AjF6hvF7GSuSd4sCgfPKq5uWaXvGM2aQtEUCwmEHygQaqxBSV'])\n"
   ]
  },
  {
   "cell_type": "code",
   "execution_count": 56,
   "id": "a6188e73",
   "metadata": {
    "scrolled": true
   },
   "outputs": [
    {
     "data": {
      "text/plain": [
       "{'action_ordinal': 1,\n",
       " 'creator_action_ordinal': 0,\n",
       " 'closest_unnotified_ancestor_action_ordinal': 0,\n",
       " 'receipt': {'receiver': 'helloworld11',\n",
       "  'act_digest': '7b3f40f9927387f8d310972ffb6b5b92118b8d38e82eb5568ba9482b4e4425b0',\n",
       "  'global_sequence': 282,\n",
       "  'recv_sequence': 4,\n",
       "  'auth_sequence': [['helloworld12', 5]],\n",
       "  'code_sequence': 0,\n",
       "  'abi_sequence': 0},\n",
       " 'receiver': 'helloworld11',\n",
       " 'act': {'account': 'helloworld11',\n",
       "  'name': 'txrequest',\n",
       "  'authorization': [{'actor': 'helloworld12', 'permission': 'active'}],\n",
       "  'data': '68656c6c6f2c776f726c64'},\n",
       " 'context_free': False,\n",
       " 'elapsed': 8,\n",
       " 'console': '',\n",
       " 'trx_id': '36c69b5cdffc226d92cbf9e9477943e09afd83a9eb0840548d1db5f9b504aa6b',\n",
       " 'block_num': 36,\n",
       " 'block_time': '2021-11-25T02:54:23.500',\n",
       " 'producer_block_id': None,\n",
       " 'account_ram_deltas': [],\n",
       " 'account_disk_deltas': [],\n",
       " 'except': None,\n",
       " 'error_code': None,\n",
       " 'return_value_hex_data': ''}"
      ]
     },
     "execution_count": 56,
     "metadata": {},
     "output_type": "execute_result"
    }
   ],
   "source": [
    "aa['actions'][0]['action_trace']"
   ]
  },
  {
   "cell_type": "code",
   "execution_count": 1,
   "id": "3f2cbf24",
   "metadata": {},
   "outputs": [],
   "source": [
    "from pyeoskit import eosapi\n",
    "from pyeoskit import wallet"
   ]
  },
  {
   "cell_type": "code",
   "execution_count": 2,
   "id": "65544454",
   "metadata": {},
   "outputs": [],
   "source": [
    "eosapi.set_node('https://api.eosn.io')"
   ]
  },
  {
   "cell_type": "code",
   "execution_count": 3,
   "id": "dbbbf28e",
   "metadata": {},
   "outputs": [
    {
     "data": {
      "text/plain": [
       "[]"
      ]
     },
     "execution_count": 3,
     "metadata": {},
     "output_type": "execute_result"
    }
   ],
   "source": [
    "wallet.get_public_keys()"
   ]
  },
  {
   "cell_type": "code",
   "execution_count": 23,
   "id": "8ee6e9a1",
   "metadata": {},
   "outputs": [
    {
     "data": {
      "text/plain": [
       "b'5JRAHGH4dVvsarTAdkycPhepUEJTmmmWvdAAQvsg7c3hi4d1QmY'"
      ]
     },
     "execution_count": 23,
     "metadata": {},
     "output_type": "execute_result"
    }
   ],
   "source": [
    "key = bytes.fromhex('000000017be8603a38808feabfafea085f54cf75cef00e61aa6fdc36a020d3202164968d')\n",
    "import hashlib\n",
    "key = hashlib.sha256(key).digest()\n",
    "key = b'\\x80' + key\n",
    "\n",
    "h = hashlib.sha256()\n",
    "h.update(key)\n",
    "digest = h.digest()\n",
    "\n",
    "h = hashlib.sha256()\n",
    "h.update(digest)\n",
    "key += h.digest()[:4]\n",
    "base58.b58encode(key)"
   ]
  },
  {
   "cell_type": "code",
   "execution_count": 35,
   "id": "12e92ce9",
   "metadata": {},
   "outputs": [
    {
     "data": {
      "text/plain": [
       "217708655"
      ]
     },
     "execution_count": 35,
     "metadata": {},
     "output_type": "execute_result"
    }
   ],
   "source": [
    "a = bytes.fromhex('0cf9f86f13e9914ca4a6ae5264e140d94fdddc5adcea19bdf4f08df7b81dd6fd')[:4]\n",
    "int.from_bytes(a, 'big')"
   ]
  },
  {
   "cell_type": "code",
   "execution_count": 33,
   "id": "80eb4c92",
   "metadata": {},
   "outputs": [
    {
     "data": {
      "text/plain": [
       "['EOS62hqiXsGH7b9TxBfntWJGbdvJUKK3SsLz3Z64Dfn6trYzMwRRy']"
      ]
     },
     "execution_count": 33,
     "metadata": {},
     "output_type": "execute_result"
    }
   ],
   "source": [
    "from pyeoskit import wallet\n",
    "wallet.get_public_keys()"
   ]
  },
  {
   "cell_type": "code",
   "execution_count": 32,
   "id": "ee1fe7c4",
   "metadata": {},
   "outputs": [
    {
     "data": {
      "text/plain": [
       "'ok'"
      ]
     },
     "execution_count": 32,
     "metadata": {},
     "output_type": "execute_result"
    }
   ],
   "source": [
    "wallet.import_key('test', '5JRAHGH4dVvsarTAdkycPhepUEJTmmmWvdAAQvsg7c3hi4d1QmY')"
   ]
  },
  {
   "cell_type": "code",
   "execution_count": 70,
   "id": "d6b9d57b",
   "metadata": {},
   "outputs": [
    {
     "data": {
      "text/plain": [
       "{'rows': [{'Id': 1, 'Count': 3}],\n",
       " 'more': False,\n",
       " 'next_key': '',\n",
       " 'next_key_bytes': ''}"
      ]
     },
     "execution_count": 70,
     "metadata": {},
     "output_type": "execute_result"
    }
   ],
   "source": [
    "eosapi.get_table_rows(True, 'mtgxinmtgxin', 'mtgxinmtgxin', 'counters', '1', '1', 10)"
   ]
  },
  {
   "cell_type": "code",
   "execution_count": 21,
   "id": "4d760fb2",
   "metadata": {},
   "outputs": [
    {
     "data": {
      "text/plain": [
       "'8050108140888cd8724e9fc7f53ac06d7fa1ca51df2281b7a5438b0131c0d4fdc2cb2f698b'"
      ]
     },
     "execution_count": 21,
     "metadata": {},
     "output_type": "execute_result"
    }
   ],
   "source": [
    "key.hex()"
   ]
  },
  {
   "cell_type": "code",
   "execution_count": 20,
   "id": "408fcd21",
   "metadata": {},
   "outputs": [],
   "source": [
    "import base58\n",
    "key = base58.b58decode('5JRYimgLBrRLCBAcjHUWCYRv3asNedTYYzVgmiU4q2ZVxMBiJXL')"
   ]
  },
  {
   "cell_type": "code",
   "execution_count": 17,
   "id": "e87be6c6",
   "metadata": {},
   "outputs": [
    {
     "data": {
      "text/plain": [
       "b'x\\xf6K\\xc2\\x82`\\xd0\\xff \\x0c!Gh\\x9b\\xaf\\x18\\xd9\\xbb\\xd9\\xdf8\\xe35F\\xcb\\x16\\xb6\\x82l`Av'"
      ]
     },
     "execution_count": 17,
     "metadata": {},
     "output_type": "execute_result"
    }
   ],
   "source": [
    "\n",
    "h = hashlib.sha256()\n",
    "h.update(key[:-4])\n",
    "digest = h.digest()\n",
    "\n",
    "h = hashlib.sha256()\n",
    "h.update(digest)\n",
    "h.digest()\n",
    "\n"
   ]
  },
  {
   "cell_type": "code",
   "execution_count": 40,
   "id": "02a2333e",
   "metadata": {},
   "outputs": [],
   "source": [
    "eosapi.set_node('https://api.eosn.io')"
   ]
  },
  {
   "cell_type": "code",
   "execution_count": 39,
   "id": "079c3059",
   "metadata": {},
   "outputs": [
    {
     "data": {
      "text/plain": [
       "{'server_version': '26a4d285',\n",
       " 'chain_id': 'aca376f206b8fc25a6ed44dbdc66547c36c6c33e3a119ffbeaef943642f0e906',\n",
       " 'head_block_num': 217796952,\n",
       " 'last_irreversible_block_num': 217796627,\n",
       " 'last_irreversible_block_id': '0cfb5013ce44d5685922f3b7985ea01e8e526def68a14794f4805d8da55f9815',\n",
       " 'head_block_id': '0cfb515817648da169efb8526e56c490ca32cf580a10c35617cfd75c0e28875e',\n",
       " 'head_block_time': '2021-11-28T00:56:36.000',\n",
       " 'head_block_producer': 'eosnationftw',\n",
       " 'virtual_block_cpu_limit': 200000,\n",
       " 'virtual_block_net_limit': 1048576000,\n",
       " 'block_cpu_limit': 200000,\n",
       " 'block_net_limit': 1048576,\n",
       " 'server_version_string': 'v2.1.0',\n",
       " 'fork_db_head_block_num': 217796952,\n",
       " 'fork_db_head_block_id': '0cfb515817648da169efb8526e56c490ca32cf580a10c35617cfd75c0e28875e',\n",
       " 'server_full_version_string': 'v2.1.0-26a4d285d0be1052d962149e431eb81500782991',\n",
       " 'last_irreversible_block_time': '2021-11-28T00:53:53.500'}"
      ]
     },
     "execution_count": 39,
     "metadata": {},
     "output_type": "execute_result"
    }
   ],
   "source": [
    "eosapi.get_info()"
   ]
  },
  {
   "cell_type": "code",
   "execution_count": 6,
   "id": "70171121",
   "metadata": {},
   "outputs": [
    {
     "name": "stdout",
     "output_type": "stream",
     "text": [
      "{'private': '5JpXLb1tqxJB3Xtzd584xTdqKAzBnQ4TkqfEtT5QPotuv7Yt2bX', 'public': 'PUB_K1_7rVXEPKJsYbjW3KZpaLBnpTx7U3XTdKedEWfPpj2mF9jTixBDr'}\n",
      "{'private': '5J2VCfZgiB6g86NfBmJE73yGRpvZXqS2UR7ZDGjt8XU2LPRddiY', 'public': 'PUB_K1_8JEHuDKeLgKfhCQT1rwHSdB1fuDd2ngZDequcvWbF9a8zd9GZC'}\n",
      "{'private': '5J3hATRW5G6GT3pkSuyxrPw9KTU4hmbwX9WKddUSLwMcwQSLYex', 'public': 'PUB_K1_6Bi6Ndo1PxiEuvt1osP267xyjo8HEbLgVzBrX7Ewruf7d2MtEk'}\n",
      "{'private': '5K2Up4bcBo6BgDpfgccNmpgRE33nrvKsxfMgAauTMzHAqyN8SxM', 'public': 'PUB_K1_8N2voiByjmCZeTwQpjHjvwpg8Gnbv3wFTqgcg7GdKk1UzHqj66'}\n"
     ]
    }
   ],
   "source": [
    "for i in range(4):\n",
    "    key = eosapi.create_key()\n",
    "    print(key)"
   ]
  },
  {
   "cell_type": "code",
   "execution_count": 11,
   "id": "c87941bf",
   "metadata": {},
   "outputs": [
    {
     "data": {
      "text/plain": [
       "'[\"EOS7rVXEPKJsYbjW3KZpaLBnpTx7U3XTdKedEWfPpj2mF9jTdcsG5\", \"EOS8JEHuDKeLgKfhCQT1rwHSdB1fuDd2ngZDequcvWbF9a92VKubc\", \"EOS6Bi6Ndo1PxiEuvt1osP267xyjo8HEbLgVzBrX7Ewruf7dbUiRp\", \"EOS8N2voiByjmCZeTwQpjHjvwpg8Gnbv3wFTqgcg7GdKk1UvYekzX\"]'"
      ]
     },
     "execution_count": 11,
     "metadata": {},
     "output_type": "execute_result"
    }
   ],
   "source": [
    "keys = ('5JpXLb1tqxJB3Xtzd584xTdqKAzBnQ4TkqfEtT5QPotuv7Yt2bX',\n",
    "'5J2VCfZgiB6g86NfBmJE73yGRpvZXqS2UR7ZDGjt8XU2LPRddiY',\n",
    "'5J3hATRW5G6GT3pkSuyxrPw9KTU4hmbwX9WKddUSLwMcwQSLYex',\n",
    "'5K2Up4bcBo6BgDpfgccNmpgRE33nrvKsxfMgAauTMzHAqyN8SxM'\n",
    ")\n",
    "pubs = []\n",
    "for key in keys:\n",
    "    pub = eosapi.get_public_key(key)\n",
    "    pubs.append(pub)\n",
    "import json\n",
    "json.dumps(pubs)"
   ]
  },
  {
   "cell_type": "code",
   "execution_count": 39,
   "id": "ad92dc47",
   "metadata": {},
   "outputs": [
    {
     "data": {
      "text/plain": [
       "True"
      ]
     },
     "execution_count": 39,
     "metadata": {},
     "output_type": "execute_result"
    }
   ],
   "source": [
    "a = '0566a461f8004eea50700000000001305d67594ed759960000c60ad15b533201305d67594ed7599600000000a8ed32321810428a97721aa36a49b0089269544826aaec371ca165558a00'\n",
    "b = '0566a461f8004eea50700000000001305d67594ed759960000c60ad15b533201305d67594ed7599600000000a8ed32321810428a97721aa36a49b0089269544826aaec371ca165558a00'\n",
    "a == b\n"
   ]
  },
  {
   "cell_type": "code",
   "execution_count": null,
   "id": "bfe22e2c",
   "metadata": {},
   "outputs": [],
   "source": [
    "eosapi.get_table_rows"
   ]
  },
  {
   "cell_type": "code",
   "execution_count": null,
   "id": "0ec5a7dd",
   "metadata": {},
   "outputs": [],
   "source": []
  },
  {
   "cell_type": "code",
   "execution_count": null,
   "id": "a398ba41",
   "metadata": {},
   "outputs": [],
   "source": [
    "'PUB_K1_7rVXEPKJsYbjW3KZpaLBnpTx7U3XTdKedEWfPpj2mF9jTixBDr',\n",
    "'PUB_K1_8JEHuDKeLgKfhCQT1rwHSdB1fuDd2ngZDequcvWbF9a8zd9GZC',\n",
    "'PUB_K1_6Bi6Ndo1PxiEuvt1osP267xyjo8HEbLgVzBrX7Ewruf7d2MtEk',\n",
    "'PUB_K1_8N2voiByjmCZeTwQpjHjvwpg8Gnbv3wFTqgcg7GdKk1UzHqj66'"
   ]
  }
 ],
 "metadata": {
  "kernelspec": {
   "display_name": "Python 3 (ipykernel)",
   "language": "python",
   "name": "python3"
  },
  "language_info": {
   "codemirror_mode": {
    "name": "ipython",
    "version": 3
   },
   "file_extension": ".py",
   "mimetype": "text/x-python",
   "name": "python",
   "nbconvert_exporter": "python",
   "pygments_lexer": "ipython3",
   "version": "3.9.5"
  }
 },
 "nbformat": 4,
 "nbformat_minor": 5
}
